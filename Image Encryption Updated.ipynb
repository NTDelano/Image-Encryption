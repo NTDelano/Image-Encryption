{
 "cells": [
  {
   "cell_type": "code",
   "execution_count": 30,
   "metadata": {},
   "outputs": [],
   "source": [
    "from sklearn.cluster import KMeans\n",
    "import matplotlib.pyplot as plt\n",
    "import numpy as np\n",
    "import cv2\n",
    "from collections import Counter\n",
    "from skimage.color import rgb2lab, deltaE_cie76\n",
    "import os\n",
    "import random\n",
    "from sympy import mod_inverse\n",
    "from PIL import Image as im\n",
    "\n",
    "%matplotlib inline\n",
    "mod_inverse?\n",
    "def get_image(image_path):\n",
    "    image = cv2.imread(image_path)\n",
    "    image = cv2.cvtColor(image, cv2.COLOR_BGR2GRAY)\n",
    "    print(image.shape)\n",
    "    return image"
   ]
  },
  {
   "cell_type": "code",
   "execution_count": 2,
   "metadata": {},
   "outputs": [
    {
     "name": "stdout",
     "output_type": "stream",
     "text": [
      "(450, 600)\n",
      "[[ 30  31  33 ...  71  79  95]\n",
      " [ 31  32  34 ...  76  74  99]\n",
      " [ 31  32  34 ... 105  87 113]\n",
      " ...\n",
      " [ 90  88  85 ... 116  98  91]\n",
      " [ 87  89  78 ... 111 120 101]\n",
      " [ 66  63  48 ... 110 129 101]]\n"
     ]
    }
   ],
   "source": [
    "path = r'C:\\Users\\soule\\OneDrive\\Pictures\\addie.jpg'\n",
    "l = get_image(path)\n",
    "rows,cols = l.shape\n",
    "print(l)\n",
    "#data = im.fromarray(l.astype(np.uint8)) \n",
    "#data.show() "
   ]
  },
  {
   "cell_type": "code",
   "execution_count": 3,
   "metadata": {},
   "outputs": [],
   "source": [
    "def IntegerDigits(p,b):\n",
    "    arr = []\n",
    "    while p>=1:\n",
    "        arr.append(p%b)\n",
    "        p = p//b\n",
    "    A = arr[::-1]\n",
    "    return len(A)-1\n",
    "\n",
    "def IntegerToArray(n,base):\n",
    "    A = []\n",
    "    while n>=1:\n",
    "        A.append(n%base)\n",
    "        n = n//base\n",
    "    Aflip = A[::-1]\n",
    "    return Aflip\n",
    "\n",
    "def singleLargeInteger(A,base):\n",
    "    integer = 0\n",
    "    power = 0\n",
    "    Anew = A[::-1]\n",
    "    for i in range(len(Anew)):\n",
    "        integer += (Anew[i] * base**i)\n",
    "    return integer\n",
    "\n",
    "def Generate_Point(a,b,p):\n",
    "    x = random.randint(0,p)\n",
    "    y = np.arange(0,p)\n",
    "    possibilites = []\n",
    "    for i in range(len(y)):\n",
    "        yval = ((x**3) + (a*x) + b)%p\n",
    "            #print(x[i],y[j],y[j]**2 % p, yval)\n",
    "            #print(yval)\n",
    "        if (((y[i])**2)%p == yval):\n",
    "            possibilites.append(y[i])\n",
    "    if(len(possibilites)==0):\n",
    "        return Generate_Point(a,b,p)\n",
    "    else:\n",
    "        yindex = random.randint(0,len(possibilites)-1)\n",
    "        return x, possibilites[yindex]               "
   ]
  },
  {
   "cell_type": "code",
   "execution_count": 4,
   "metadata": {},
   "outputs": [
    {
     "name": "stdout",
     "output_type": "stream",
     "text": [
      "270000\n"
     ]
    }
   ],
   "source": [
    "totalPixs = rows*cols\n",
    "print(totalPixs)\n",
    "groupSize = IntegerDigits(totalPixs,256)\n",
    "groupedArray = np.reshape(l, (totalPixs//groupSize, groupSize), order='C')"
   ]
  },
  {
   "cell_type": "code",
   "execution_count": 5,
   "metadata": {},
   "outputs": [
    {
     "name": "stdout",
     "output_type": "stream",
     "text": [
      "135000\n"
     ]
    }
   ],
   "source": [
    "Pm = []\n",
    "for i in range(totalPixs//groupSize):\n",
    "    newValue = singleLargeInteger(groupedArray[i],256)\n",
    "    Pm.append(newValue)\n",
    "print(len(Pm))\n",
    "if len(Pm)%2 == 1:\n",
    "    Pm.append(0)\n",
    "#print(Pm)\n",
    "#print(maxP)"
   ]
  },
  {
   "cell_type": "code",
   "execution_count": 6,
   "metadata": {},
   "outputs": [
    {
     "name": "stdout",
     "output_type": "stream",
     "text": [
      "[[ 7711  8484]\n",
      " [10025 11052]\n",
      " [11306  9762]\n",
      " ...\n",
      " [20035 13882]\n",
      " [13119 21852]\n",
      " [24942 33125]]\n"
     ]
    }
   ],
   "source": [
    "imagePointsArray = np.reshape(Pm, (len(Pm)//2, 2), order='C')\n",
    "print(imagePointsArray)"
   ]
  },
  {
   "cell_type": "code",
   "execution_count": 7,
   "metadata": {},
   "outputs": [],
   "source": [
    "p = 524287\n",
    "a = 345257\n",
    "b = -93473\n"
   ]
  },
  {
   "cell_type": "code",
   "execution_count": 8,
   "metadata": {
    "scrolled": true
   },
   "outputs": [
    {
     "name": "stdout",
     "output_type": "stream",
     "text": [
      "(88822, 193839)\n"
     ]
    }
   ],
   "source": [
    "#G = random point\n",
    "G = Generate_Point(a,b,p)\n",
    "print(G)"
   ]
  },
  {
   "cell_type": "code",
   "execution_count": 9,
   "metadata": {},
   "outputs": [
    {
     "name": "stdout",
     "output_type": "stream",
     "text": [
      "(281371, 344720)\n"
     ]
    }
   ],
   "source": [
    "private_a = 741\n",
    "private_A = Generate_Point(a,b,p)\n",
    "print(private_A)"
   ]
  },
  {
   "cell_type": "code",
   "execution_count": 10,
   "metadata": {},
   "outputs": [
    {
     "name": "stdout",
     "output_type": "stream",
     "text": [
      "(347307, 509674)\n"
     ]
    }
   ],
   "source": [
    "private_b = 9812\n",
    "private_B = Generate_Point(a,b,p)\n",
    "print(private_B)"
   ]
  },
  {
   "cell_type": "code",
   "execution_count": 34,
   "metadata": {},
   "outputs": [],
   "source": [
    "def point_addition(x1,y1,x2,y2,p,a):\n",
    "    x3,y3=0,0\n",
    "    if x1!=x2 and y1!=y2:\n",
    "        den = mod_inverse(x2-x1,p)\n",
    "        print(den)\n",
    "        m = ((y2-y1)*den)%p\n",
    "        print(m)\n",
    "        x3 = (m**2 - x1 - x2)%p\n",
    "        print(x3)\n",
    "        y3 = (m*(x1-x3) - y1)%p\n",
    "        print(y3)\n",
    "        \n",
    "    elif x1==x2 and y1==y2:\n",
    "        m = ((3*(x1**2) + a)*(mod_inverse(2*y1,p)))%p\n",
    "        print(m)\n",
    "        x3 = (m**2 - 2*x1)%p\n",
    "        print(x3)\n",
    "        y3 = (m*(x1-x3) - y1)%p\n",
    "        print(y3)\n",
    "    return x3,y3\n",
    "\n",
    "def point_subtraction(x1,y1,x2,y2,p,a):\n",
    "    y2 = -(y2)\n",
    "    y2 = y2%p\n",
    "    return point_addition(x1,y1,x2,y2,p,a)\n",
    "\n",
    "def point_multiplication(x,y,k,p,a):\n",
    "    xnew,ynew = x,y\n",
    "    for i in range(k-1):\n",
    "        xnew,ynew = point_addition(x,y,xnew,ynew,p,a)\n",
    "    return xnew,ynew"
   ]
  },
  {
   "cell_type": "code",
   "execution_count": 36,
   "metadata": {
    "scrolled": true
   },
   "outputs": [
    {
     "name": "stdout",
     "output_type": "stream",
     "text": [
      "480770\n",
      "142647\n",
      "176986\n",
      "97185\n"
     ]
    },
    {
     "name": "stderr",
     "output_type": "stream",
     "text": [
      "<ipython-input-34-da1de96797b3>:6: RuntimeWarning: overflow encountered in long_scalars\n",
      "  m = ((y2-y1)*den)%p\n",
      "<ipython-input-34-da1de96797b3>:10: RuntimeWarning: overflow encountered in long_scalars\n",
      "  y3 = (m*(x1-x3) - y1)%p\n"
     ]
    }
   ],
   "source": [
    "G_plus_A1 = point_addition(G[0],G[1],private_A[0],private_A[1],p,a)\n",
    "\n",
    "#A1 = point_multiplication(G_plus_A[0],G_plus_A[1],private_a,p,a)\n",
    "#A2 = point_multiplication(private_A[0],private_A[1],private_a,p,a)"
   ]
  },
  {
   "cell_type": "code",
   "execution_count": 37,
   "metadata": {},
   "outputs": [
    {
     "data": {
      "text/plain": [
       "4294967296"
      ]
     },
     "execution_count": 37,
     "metadata": {},
     "output_type": "execute_result"
    }
   ],
   "source": [
    "2**32"
   ]
  },
  {
   "cell_type": "code",
   "execution_count": 13,
   "metadata": {},
   "outputs": [
    {
     "name": "stderr",
     "output_type": "stream",
     "text": [
      "<ipython-input-11-a5a030b238fe>:4: RuntimeWarning: overflow encountered in long_scalars\n",
      "  m = ((y2-y1)*mod_inverse(x2-x1,p))%p\n",
      "<ipython-input-11-a5a030b238fe>:7: RuntimeWarning: overflow encountered in long_scalars\n",
      "  y3 = m*(x1-x3) - y1\n",
      "<ipython-input-11-a5a030b238fe>:11: RuntimeWarning: overflow encountered in long_scalars\n",
      "  m = ((3*(x1**2) + a)*(mod_inverse(2*y1,p)))%p\n",
      "<ipython-input-11-a5a030b238fe>:13: RuntimeWarning: overflow encountered in long_scalars\n",
      "  y3 = (m*(x1-x3) - y1)%p\n"
     ]
    }
   ],
   "source": [
    "G_plus_B = point_addition(G[0],G[1],private_B[0],private_B[1],p,a)\n",
    "\n",
    "B1 = point_multiplication(G_plus_B[0],G_plus_B[1],private_b,p,a)\n",
    "B2 = point_multiplication(private_B[0],private_B[1],private_b,p,a)"
   ]
  },
  {
   "cell_type": "code",
   "execution_count": 14,
   "metadata": {},
   "outputs": [],
   "source": [
    "A_B = point_multiplication(B2[0],B2[1],private_a,p,a)\n",
    "B_A = point_multiplication(A2[0],A2[1],private_b,p,a)"
   ]
  },
  {
   "cell_type": "code",
   "execution_count": 15,
   "metadata": {},
   "outputs": [
    {
     "name": "stderr",
     "output_type": "stream",
     "text": [
      "<ipython-input-11-a5a030b238fe>:11: RuntimeWarning: overflow encountered in long_scalars\n",
      "  m = ((3*(x1**2) + a)*(mod_inverse(2*y1,p)))%p\n",
      "<ipython-input-11-a5a030b238fe>:13: RuntimeWarning: overflow encountered in long_scalars\n",
      "  y3 = (m*(x1-x3) - y1)%p\n",
      "<ipython-input-11-a5a030b238fe>:4: RuntimeWarning: overflow encountered in long_scalars\n",
      "  m = ((y2-y1)*mod_inverse(x2-x1,p))%p\n",
      "<ipython-input-11-a5a030b238fe>:7: RuntimeWarning: overflow encountered in long_scalars\n",
      "  y3 = m*(x1-x3) - y1\n"
     ]
    }
   ],
   "source": [
    "b_plus_one_A1 = point_multiplication(A1[0],A1[1],(private_b+1),p,a)\n",
    "\n",
    "b_plus_one_A1_minus_A2 = point_subtraction(b_plus_one_A1[0],b_plus_one_A1[1],A2[0],A2[1],p,a)\n",
    "\n",
    "added_to_M = point_addition(b_plus_one_A1_minus_A2[0],b_plus_one_A1_minus_A2[1],A_B[0],A_B[1],p,a)"
   ]
  },
  {
   "cell_type": "code",
   "execution_count": 16,
   "metadata": {},
   "outputs": [
    {
     "name": "stdout",
     "output_type": "stream",
     "text": [
      "67500\n"
     ]
    }
   ],
   "source": [
    "coordinates, variables = imagePointsArray.shape\n",
    "encrypted_array = []\n",
    "print(coordinates)\n",
    "r=coordinates\n",
    "for i in range(coordinates):\n",
    "    EP = point_addition(imagePointsArray[i][0],imagePointsArray[i][1],added_to_M[0],added_to_M[1],p,a)\n",
    "    encrypted_array.append(EP[0])\n",
    "    encrypted_array.append(EP[1])"
   ]
  },
  {
   "cell_type": "code",
   "execution_count": 17,
   "metadata": {},
   "outputs": [
    {
     "name": "stdout",
     "output_type": "stream",
     "text": [
      "270000\n"
     ]
    }
   ],
   "source": [
    "cipher_array = []\n",
    "#print(cipher_array[0])\n",
    "for i in range(len(encrypted_array)):\n",
    "    arr = IntegerToArray(encrypted_array[i],256)\n",
    "    while len(arr)>2:\n",
    "        arr.remove(arr[0])\n",
    "    while len(arr)<2:\n",
    "        arr.insert(0,0)\n",
    "    for j in arr:\n",
    "        cipher_array.append(j)\n",
    "print(len(cipher_array))"
   ]
  },
  {
   "cell_type": "code",
   "execution_count": 18,
   "metadata": {},
   "outputs": [
    {
     "data": {
      "text/plain": [
       "array([[238, 189, 201, ..., 254, 140, 155],\n",
       "       [ 65, 135, 111, ..., 200,   3,  32],\n",
       "       [ 65, 135, 111, ..., 191, 219, 166],\n",
       "       ...,\n",
       "       [ 92, 113, 212, ..., 168, 206,  55],\n",
       "       [ 26, 128,  84, ...,  32, 244, 128],\n",
       "       [  2,  94,   1, ..., 177, 220, 216]])"
      ]
     },
     "execution_count": 18,
     "metadata": {},
     "output_type": "execute_result"
    }
   ],
   "source": [
    "encryption_arr = np.array(cipher_array, dtype=int)\n",
    "encryption_arr = np.reshape(encryption_arr, (rows, cols), order='C')\n",
    "encryption_arr"
   ]
  },
  {
   "cell_type": "code",
   "execution_count": 19,
   "metadata": {
    "scrolled": true
   },
   "outputs": [],
   "source": [
    "e_data = im.fromarray(encryption_arr.astype(np.uint8)) \n",
    "e_data.show() "
   ]
  },
  {
   "cell_type": "code",
   "execution_count": 20,
   "metadata": {},
   "outputs": [
    {
     "name": "stdout",
     "output_type": "stream",
     "text": [
      "(450, 600)\n",
      "[[238 189 201 ... 254 140 155]\n",
      " [ 65 135 111 ... 200   3  32]\n",
      " [ 65 135 111 ... 191 219 166]\n",
      " ...\n",
      " [ 92 113 212 ... 168 206  55]\n",
      " [ 26 128  84 ...  32 244 128]\n",
      " [  2  94   1 ... 177 220 216]]\n"
     ]
    }
   ],
   "source": [
    "#Decryption\n",
    "data = np.asarray(e_data)\n",
    "rows,cols = data.shape\n",
    "print(data.shape)\n",
    "print(data)"
   ]
  },
  {
   "cell_type": "code",
   "execution_count": 21,
   "metadata": {},
   "outputs": [
    {
     "name": "stdout",
     "output_type": "stream",
     "text": [
      "270000\n"
     ]
    }
   ],
   "source": [
    "totalPixs = rows*cols\n",
    "print(totalPixs)\n",
    "groupSize = IntegerDigits(totalPixs,256)\n",
    "groupedArray = np.reshape(data, (totalPixs//groupSize, groupSize), order='C')"
   ]
  },
  {
   "cell_type": "code",
   "execution_count": 22,
   "metadata": {},
   "outputs": [
    {
     "name": "stdout",
     "output_type": "stream",
     "text": [
      "135000\n"
     ]
    }
   ],
   "source": [
    "Em = []\n",
    "for i in range(totalPixs//groupSize):\n",
    "    newValue = singleLargeInteger(groupedArray[i],256)\n",
    "    Em.append(newValue)\n",
    "print(len(Em))\n",
    "if len(Em)%2 == 1:\n",
    "    Em.append(0)\n",
    "#print(Em)"
   ]
  },
  {
   "cell_type": "code",
   "execution_count": 23,
   "metadata": {},
   "outputs": [
    {
     "name": "stdout",
     "output_type": "stream",
     "text": [
      "[[61117 51517]\n",
      " [38728 36383]\n",
      " [45260 38121]\n",
      " ...\n",
      " [61621  1097]\n",
      " [57150 21630]\n",
      " [ 2993 56536]]\n"
     ]
    }
   ],
   "source": [
    "EmPointsArray = np.reshape(Em, (len(Em)//2, 2), order='C')\n",
    "print(EmPointsArray)"
   ]
  },
  {
   "cell_type": "code",
   "execution_count": 24,
   "metadata": {},
   "outputs": [
    {
     "name": "stderr",
     "output_type": "stream",
     "text": [
      "<ipython-input-11-a5a030b238fe>:4: RuntimeWarning: overflow encountered in long_scalars\n",
      "  m = ((y2-y1)*mod_inverse(x2-x1,p))%p\n",
      "<ipython-input-11-a5a030b238fe>:7: RuntimeWarning: overflow encountered in long_scalars\n",
      "  y3 = m*(x1-x3) - y1\n",
      "<ipython-input-11-a5a030b238fe>:11: RuntimeWarning: overflow encountered in long_scalars\n",
      "  m = ((3*(x1**2) + a)*(mod_inverse(2*y1,p)))%p\n",
      "<ipython-input-11-a5a030b238fe>:13: RuntimeWarning: overflow encountered in long_scalars\n",
      "  y3 = (m*(x1-x3) - y1)%p\n"
     ]
    }
   ],
   "source": [
    "G_plus_B1 = point_addition(G[0],G[1],B1[0],B1[1],p,a)\n",
    "private_a_G_plus_B1 = point_multiplication(G_plus_B1[0],G_plus_B1[1],private_a,p,a)\n",
    "private_a_G_plus_B1_plus_BA = point_addition(private_a_G_plus_B1[0],private_a_G_plus_B1[1],B_A[0],B_A[1],p,a)"
   ]
  },
  {
   "cell_type": "code",
   "execution_count": 25,
   "metadata": {},
   "outputs": [
    {
     "name": "stdout",
     "output_type": "stream",
     "text": [
      "67500\n"
     ]
    }
   ],
   "source": [
    "coordinates, variables = EmPointsArray.shape\n",
    "decrypted_array = []\n",
    "print(coordinates)\n",
    "r=coordinates\n",
    "for i in range(coordinates):\n",
    "    DP = point_subtraction(EmPointsArray[i][0],EmPointsArray[i][1],private_a_G_plus_B1_plus_BA[0],private_a_G_plus_B1_plus_BA[1],p,a)\n",
    "    decrypted_array.append(DP[0])\n",
    "    decrypted_array.append(DP[1])\n",
    "#print(decrypted_array)"
   ]
  },
  {
   "cell_type": "code",
   "execution_count": 26,
   "metadata": {},
   "outputs": [],
   "source": [
    "plaintext_array = []\n",
    "#print(plaintext_array[0])\n",
    "for i in range(len(decrypted_array)):\n",
    "    arr = IntegerToArray(decrypted_array[i],256)\n",
    "    while len(arr)>2:\n",
    "        arr.remove(arr[0])\n",
    "    while len(arr)<2:\n",
    "        arr.insert(0,0)\n",
    "    for j in arr:\n",
    "        plaintext_array.append(j)\n",
    "#print(plaintext_array)"
   ]
  },
  {
   "cell_type": "code",
   "execution_count": 27,
   "metadata": {},
   "outputs": [
    {
     "data": {
      "text/plain": [
       "array([[146, 136, 244, ...,  63, 157, 162],\n",
       "       [231, 195, 153, ..., 140, 117,  75],\n",
       "       [231, 195, 153, ...,   1, 215,  21],\n",
       "       ...,\n",
       "       [254, 246,  87, ...,  39, 205, 157],\n",
       "       [ 47, 203, 123, ..., 117, 161, 185],\n",
       "       [ 29,  21, 183, ..., 231, 235,  20]])"
      ]
     },
     "execution_count": 27,
     "metadata": {},
     "output_type": "execute_result"
    }
   ],
   "source": [
    "decryption_arr = np.array(plaintext_array, dtype=int)\n",
    "decryption_arr = np.reshape(decryption_arr, (rows, cols), order='C')\n",
    "decryption_arr"
   ]
  },
  {
   "cell_type": "code",
   "execution_count": 28,
   "metadata": {},
   "outputs": [],
   "source": [
    "d_data = im.fromarray(decryption_arr.astype(np.uint8)) \n",
    "d_data.show() "
   ]
  }
 ],
 "metadata": {
  "kernelspec": {
   "display_name": "Python 3",
   "language": "python",
   "name": "python3"
  },
  "language_info": {
   "codemirror_mode": {
    "name": "ipython",
    "version": 3
   },
   "file_extension": ".py",
   "mimetype": "text/x-python",
   "name": "python",
   "nbconvert_exporter": "python",
   "pygments_lexer": "ipython3",
   "version": "3.8.3"
  }
 },
 "nbformat": 4,
 "nbformat_minor": 4
}
