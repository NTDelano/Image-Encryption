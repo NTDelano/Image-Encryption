{
 "cells": [
  {
   "cell_type": "code",
   "execution_count": 1,
   "metadata": {},
   "outputs": [],
   "source": [
    "from sklearn.cluster import KMeans\n",
    "import matplotlib.pyplot as plt\n",
    "import numpy as np\n",
    "import cv2\n",
    "from collections import Counter\n",
    "from skimage.color import rgb2lab, deltaE_cie76\n",
    "import os\n",
    "import random\n",
    "from sympy import mod_inverse\n",
    "from PIL import Image as im\n",
    "\n",
    "%matplotlib inline\n",
    "def get_image2(image_path):\n",
    "    \"\"\"Get a numpy array of an image so that one can access values[x][y].\"\"\"\n",
    "    image = im.open(image_path, \"r\")\n",
    "    width, height = image.size\n",
    "    pixel_values = list(image.getdata())\n",
    "    if image.mode == \"RGB\":\n",
    "        channels = 3\n",
    "    elif image.mode == \"L\":\n",
    "        channels = 1\n",
    "    else:\n",
    "        print(\"Unknown mode: %s\" % image.mode)\n",
    "        return None\n",
    "    pixel_values = np.array(pixel_values).reshape((width, height, channels))\n",
    "    return pixel_values\n",
    "#mod_inverse?\n",
    "def get_image(image_path):\n",
    "    image = cv2.imread(image_path)\n",
    "    image = cv2.cvtColor(image, cv2.COLOR_BGR2GRAY)\n",
    "    print(image.shape)\n",
    "    return image"
   ]
  },
  {
   "cell_type": "code",
   "execution_count": 2,
   "metadata": {
    "scrolled": true
   },
   "outputs": [
    {
     "name": "stdout",
     "output_type": "stream",
     "text": [
      "(852, 1136)\n",
      "(78, 73, 95)\n",
      "[[ 77  77  77 ... 121 119 118]\n",
      " [ 77  77  77 ... 121 119 118]\n",
      " [ 77  77  77 ... 121 120 119]\n",
      " ...\n",
      " [199 198 198 ... 197 197 197]\n",
      " [197 197 197 ... 196 196 196]\n",
      " [197 196 196 ... 194 194 194]]\n"
     ]
    }
   ],
   "source": [
    "#path = r'C:\\Users\\soule\\OneDrive\\Pictures\\addie.jpg'\n",
    "path = r'C:\\Users\\soule\\OneDrive\\Pictures\\dbzf.jpg'\n",
    "l = get_image(path)\n",
    "img = im.open(path)\n",
    "colors = img.getpixel((0,0))\n",
    "print(colors)\n",
    "rows,cols = l.shape\n",
    "print(l)\n",
    "data = im.fromarray(l.astype(np.uint8)) \n",
    "data.show() "
   ]
  },
  {
   "cell_type": "code",
   "execution_count": 3,
   "metadata": {},
   "outputs": [],
   "source": [
    "new_arr = []\n",
    "for i in range(rows):\n",
    "    for j in range(cols):\n",
    "        new_arr.append(l[i][j])"
   ]
  },
  {
   "cell_type": "code",
   "execution_count": 4,
   "metadata": {},
   "outputs": [],
   "source": [
    "def IntegerDigits(p,b):\n",
    "    arr = []\n",
    "    while p>=1:\n",
    "        arr.append(p%b)\n",
    "        p = p//b\n",
    "        print(arr)\n",
    "    A = arr[::-1]\n",
    "    return len(A)-1\n",
    "\n",
    "def IntegerToArray(n,base):\n",
    "    A = []\n",
    "    while n>=1:\n",
    "        A.append(n%base)\n",
    "        n = n//base\n",
    "    Aflip = A[::-1]\n",
    "    return Aflip\n",
    "\n",
    "def singleLargeInteger(A,base):\n",
    "    integer = 0\n",
    "    power = 0\n",
    "    Anew = A[::-1]\n",
    "    for i in range(len(Anew)):\n",
    "        integer += (Anew[i] * base**i)\n",
    "        #print(integer)\n",
    "    return integer\n",
    "\n",
    "def Generate_Point(a,b,p):\n",
    "    x = random.randint(0,p)\n",
    "    y = np.arange(0,p)\n",
    "    possibilites = []\n",
    "    for i in range(len(y)):\n",
    "        yval = ((x**3) + (a*x) + b)%p\n",
    "            #print(x[i],y[j],y[j]**2 % p, yval)\n",
    "            #print(yval)\n",
    "        if (((y[i])**2)%p == yval):\n",
    "            possibilites.append(y[i])\n",
    "    if(len(possibilites)==0):\n",
    "        return Generate_Point(a,b,p)\n",
    "    else:\n",
    "        yindex = random.randint(0,len(possibilites)-1)\n",
    "        return x, possibilites[yindex]               "
   ]
  },
  {
   "cell_type": "code",
   "execution_count": 5,
   "metadata": {
    "scrolled": true
   },
   "outputs": [
    {
     "data": {
      "text/plain": [
       "19789"
      ]
     },
     "execution_count": 5,
     "metadata": {},
     "output_type": "execute_result"
    }
   ],
   "source": [
    "singleLargeInteger([77,77],256)"
   ]
  },
  {
   "cell_type": "code",
   "execution_count": 6,
   "metadata": {},
   "outputs": [
    {
     "name": "stdout",
     "output_type": "stream",
     "text": [
      "[65535]\n",
      "[65535, 65535]\n",
      "[65535, 65535, 65535]\n",
      "[65535, 65535, 65535, 65535]\n",
      "[65535, 65535, 65535, 65535, 65534]\n",
      "[65535, 65535, 65535, 65535, 65534, 65535]\n",
      "[65535, 65535, 65535, 65535, 65534, 65535, 65535]\n",
      "[65535, 65535, 65535, 65535, 65534, 65535, 65535, 65535]\n",
      "[65535, 65535, 65535, 65535, 65534, 65535, 65535, 65535, 65535]\n",
      "[65535, 65535, 65535, 65535, 65534, 65535, 65535, 65535, 65535, 65535]\n",
      "[65535, 65535, 65535, 65535, 65534, 65535, 65535, 65535, 65535, 65535, 65535]\n",
      "[65535, 65535, 65535, 65535, 65534, 65535, 65535, 65535, 65535, 65535, 65535, 65535]\n"
     ]
    },
    {
     "data": {
      "text/plain": [
       "11"
      ]
     },
     "execution_count": 6,
     "metadata": {},
     "output_type": "execute_result"
    }
   ],
   "source": [
    "IntegerDigits(6277101735386680763835789423207666416083908700390324961279,65536)"
   ]
  },
  {
   "cell_type": "code",
   "execution_count": 7,
   "metadata": {},
   "outputs": [
    {
     "name": "stdout",
     "output_type": "stream",
     "text": [
      "967872\n",
      "[181]\n",
      "[181, 216]\n",
      "[181, 216, 7]\n",
      "2\n",
      "[[ 77  77]\n",
      " [ 77  77]\n",
      " [ 77  77]\n",
      " ...\n",
      " [194 194]\n",
      " [194 194]\n",
      " [194 194]]\n"
     ]
    }
   ],
   "source": [
    "p = 514229\n",
    "totalPixs = rows*cols\n",
    "print(totalPixs)\n",
    "groupSize = IntegerDigits(p,256)\n",
    "print(groupSize)\n",
    "#groupedArray = np.reshape(l, (totalPixs//groupSize, groupSize), order='C')\n",
    "groupedArray = np.reshape(new_arr, (totalPixs//2, groupSize), order='C')\n",
    "groupedArray = groupedArray.astype('int64')\n",
    "print(groupedArray)"
   ]
  },
  {
   "cell_type": "code",
   "execution_count": 8,
   "metadata": {},
   "outputs": [
    {
     "data": {
      "text/plain": [
       "array([77, 77], dtype=int64)"
      ]
     },
     "execution_count": 8,
     "metadata": {},
     "output_type": "execute_result"
    }
   ],
   "source": [
    "groupedArray[0]"
   ]
  },
  {
   "cell_type": "markdown",
   "metadata": {},
   "source": [
    "Pm = []\n",
    "for i in range(totalPixs//groupSize):\n",
    "    newValue = singleLargeInteger(groupedArray[i],256)\n",
    "    Pm.append(newValue)\n",
    "print(len(Pm))\n",
    "if len(Pm)%2 == 1:\n",
    "    Pm.append(0)\n",
    "    print('activated')\n",
    "print(len(Pm))\n",
    "print(Pm[0],Pm[1])\n",
    "#print(maxP)"
   ]
  },
  {
   "cell_type": "code",
   "execution_count": 9,
   "metadata": {
    "scrolled": false
   },
   "outputs": [
    {
     "name": "stdout",
     "output_type": "stream",
     "text": [
      "[[ 77  77]\n",
      " [ 77  77]\n",
      " [ 77  77]\n",
      " ...\n",
      " [194 194]\n",
      " [194 194]\n",
      " [194 194]]\n"
     ]
    }
   ],
   "source": [
    "imagePointsArray = groupedArray\n",
    "#imagePointsArray = np.reshape(Pm, (len(Pm)//2, 2), order='C')\n",
    "imagePointsArray = imagePointsArray.astype('int64')\n",
    "print(imagePointsArray)"
   ]
  },
  {
   "cell_type": "code",
   "execution_count": 10,
   "metadata": {},
   "outputs": [],
   "source": [
    "#3803\n",
    "p = 514229\n",
    "a = -500\n",
    "b = 761\n"
   ]
  },
  {
   "cell_type": "code",
   "execution_count": 11,
   "metadata": {
    "scrolled": true
   },
   "outputs": [
    {
     "name": "stdout",
     "output_type": "stream",
     "text": [
      "28886 201831\n"
     ]
    }
   ],
   "source": [
    "#G = random point\n",
    "Gx, Gy = Generate_Point(a,b,p)\n",
    "print(Gx,Gy)"
   ]
  },
  {
   "cell_type": "code",
   "execution_count": 12,
   "metadata": {},
   "outputs": [
    {
     "name": "stdout",
     "output_type": "stream",
     "text": [
      "208351 119337\n"
     ]
    }
   ],
   "source": [
    "private_a = 741\n",
    "private_Ax, private_Ay = Generate_Point(a,b,p)\n",
    "print(private_Ax, private_Ay)"
   ]
  },
  {
   "cell_type": "code",
   "execution_count": 13,
   "metadata": {},
   "outputs": [
    {
     "name": "stdout",
     "output_type": "stream",
     "text": [
      "377413 48588\n"
     ]
    }
   ],
   "source": [
    "private_b = 9812\n",
    "private_Bx, private_By = Generate_Point(a,b,p)\n",
    "print(private_Bx, private_By)"
   ]
  },
  {
   "cell_type": "code",
   "execution_count": null,
   "metadata": {},
   "outputs": [],
   "source": []
  },
  {
   "cell_type": "code",
   "execution_count": 14,
   "metadata": {},
   "outputs": [],
   "source": [
    "def point_addition(x1,y1,x2,y2,p,a):\n",
    "    z = 0\n",
    "    if (x1 == z and y1 == z):\n",
    "        return x2, y2\n",
    "    if (x2 == z and y2 == z):\n",
    "        return x1,y1\n",
    "    if x1 == x2:\n",
    "        if (x1 == x2 and y1 == -y2%p):\n",
    "            return 0, 0\n",
    "        else:\n",
    "            den = int(mod_inverse(2*y1,p)%p)\n",
    "            m = int((3*(x1**2))%p)\n",
    "            m = int((m+a)%p)\n",
    "            m = int((m*den)%p)\n",
    "            m = int((((3*(x1**2))%p + a)*(den))%p)\n",
    "            #m = (((3*(x1**2))%p + a) * (2*))\n",
    "            #m = ((3*pow(x1, 2, p) + a)*pow(2*y1, p-2, p)) % p\n",
    "            #print(m)\n",
    "    else:\n",
    "        den = int(mod_inverse(x1-x2,p)%p)\n",
    "        m = int((y1-y2)%p)\n",
    "        m = int((m*den)%p)\n",
    "        #m = int(((y1 - y2)*den)%p)\n",
    "        #print(m)\n",
    "    x = int((m**2)%p)\n",
    "    x = int((x-x1-x2)%p)\n",
    "    #x = int(((m**2)%p - x1 - x2) % p)\n",
    "    #print(x)\n",
    "    y = int((x1-x)%p)\n",
    "    y = int((y*m)%p)\n",
    "    y = int((y-y1)%p)\n",
    "    #y = int((m*(x1 - x)%p - y1) % p)\n",
    "    #print(y)\n",
    "    return int(x), int(y)\n",
    "\n",
    "def point_subtraction(x1,y1,x2,y2,p,a):\n",
    "    y2 = int(-(y2))\n",
    "    y2 = int(y2%p)\n",
    "    return point_addition(x1,y1,x2,y2,p,a)\n",
    "\n",
    "def point_multiplication(x,y,k,p,a):\n",
    "    xnew,ynew = int(x),int(y)\n",
    "    for i in range(k-1):\n",
    "        xnew,ynew = point_addition(x,y,xnew,ynew,p,a)\n",
    "        #print(xnew,ynew)\n",
    "    return int(xnew),int(ynew)"
   ]
  },
  {
   "cell_type": "code",
   "execution_count": null,
   "metadata": {},
   "outputs": [],
   "source": []
  },
  {
   "cell_type": "code",
   "execution_count": 15,
   "metadata": {
    "scrolled": false
   },
   "outputs": [
    {
     "name": "stdout",
     "output_type": "stream",
     "text": [
      "15 11\n"
     ]
    },
    {
     "data": {
      "text/plain": [
       "(1, 7)"
      ]
     },
     "execution_count": 15,
     "metadata": {},
     "output_type": "execute_result"
    }
   ],
   "source": [
    "x,y = point_addition(9,4,10,20,37,2)\n",
    "print(x,y)\n",
    "point_multiplication(x,y,5,37,2)"
   ]
  },
  {
   "cell_type": "code",
   "execution_count": 16,
   "metadata": {
    "scrolled": true
   },
   "outputs": [],
   "source": [
    "G_plus_Ax, G_plus_Ay = point_addition(Gx,Gy,private_Ax,private_Ay,p,a)"
   ]
  },
  {
   "cell_type": "code",
   "execution_count": 17,
   "metadata": {
    "scrolled": true
   },
   "outputs": [],
   "source": [
    "A1x, A1y = point_multiplication(G_plus_Ax, G_plus_Ay, private_a, p, a)"
   ]
  },
  {
   "cell_type": "code",
   "execution_count": 18,
   "metadata": {},
   "outputs": [],
   "source": [
    "A2x, A2y = point_multiplication(private_Ax, private_Ay, private_a, p, a)"
   ]
  },
  {
   "cell_type": "code",
   "execution_count": 19,
   "metadata": {
    "scrolled": true
   },
   "outputs": [
    {
     "data": {
      "text/plain": [
       "4294967296"
      ]
     },
     "execution_count": 19,
     "metadata": {},
     "output_type": "execute_result"
    }
   ],
   "source": [
    "2**32"
   ]
  },
  {
   "cell_type": "code",
   "execution_count": 20,
   "metadata": {},
   "outputs": [],
   "source": [
    "G_plus_Bx, G_plus_By = point_addition(Gx, Gy, private_Bx, private_By, p, a)"
   ]
  },
  {
   "cell_type": "code",
   "execution_count": 21,
   "metadata": {},
   "outputs": [],
   "source": [
    "B1x, B1y = point_multiplication(G_plus_Bx, G_plus_By, private_b, p, a)"
   ]
  },
  {
   "cell_type": "code",
   "execution_count": 22,
   "metadata": {},
   "outputs": [],
   "source": [
    "B2x, B2y = point_multiplication(private_Bx, private_By, private_b, p, a)"
   ]
  },
  {
   "cell_type": "code",
   "execution_count": 23,
   "metadata": {},
   "outputs": [],
   "source": [
    "A_Bx, A_By = point_multiplication(B2x, B2y, private_a, p, a)"
   ]
  },
  {
   "cell_type": "code",
   "execution_count": 24,
   "metadata": {},
   "outputs": [],
   "source": [
    "B_Ax, B_Ay = point_multiplication(A2x, A2y, private_b, p, a)"
   ]
  },
  {
   "cell_type": "code",
   "execution_count": 25,
   "metadata": {
    "scrolled": true
   },
   "outputs": [],
   "source": [
    "b_plus_one_A1 = point_multiplication(A1x,A1y,(private_b+1),p,a)\n",
    "\n",
    "b_plus_one_A1_minus_A2 = point_subtraction(b_plus_one_A1[0],b_plus_one_A1[1],A2x,A2y,p,a)\n",
    "\n",
    "added_to_M = point_addition(b_plus_one_A1_minus_A2[0],b_plus_one_A1_minus_A2[1],A_Bx,A_By,p,a)"
   ]
  },
  {
   "cell_type": "code",
   "execution_count": 26,
   "metadata": {},
   "outputs": [
    {
     "name": "stdout",
     "output_type": "stream",
     "text": [
      "(483936, 2)\n",
      "483936\n",
      "967872\n",
      "282286\n"
     ]
    }
   ],
   "source": [
    "coordinates, variables = imagePointsArray.shape\n",
    "print(imagePointsArray.shape)\n",
    "encrypted_array = []\n",
    "print(coordinates)\n",
    "r=coordinates\n",
    "for i in range(coordinates):\n",
    "    EP = point_addition(imagePointsArray[i][0],imagePointsArray[i][1],added_to_M[0],added_to_M[1],p,a)\n",
    "    encrypted_array.append(EP[0])\n",
    "    encrypted_array.append(EP[1])\n",
    "print(len(encrypted_array))\n",
    "print(encrypted_array[0])"
   ]
  },
  {
   "cell_type": "markdown",
   "metadata": {},
   "source": [
    "final_encrypted_array = []\n",
    "for i in range(len(encrypted_array)):\n",
    "    value = encrypted_array[i]%256\n",
    "    divisor = encrypted_array[i]//256\n",
    "    final_encrypted_array.append(value)\n",
    "    final_encrypted_array.append(divisor)\n",
    "print(len(final_encrypted_array))"
   ]
  },
  {
   "cell_type": "markdown",
   "metadata": {},
   "source": [
    "#967872\n",
    "cipher_array = []\n",
    "extra_array = []\n",
    "for i in range(len(encrypted_array)):\n",
    "    #encrypted_array[i] = encrypted_array[i]%256\n",
    "    arr = IntegerToArray(encrypted_array[i],256)\n",
    "    #while len(arr)>2:\n",
    "        #arr.remove(arr[0])\n",
    "    while len(arr)<2:\n",
    "        arr.insert(0,0)\n",
    "    for j in arr:\n",
    "        cipher_array.append(j)\n",
    "print(len(cipher_array))"
   ]
  },
  {
   "cell_type": "markdown",
   "metadata": {},
   "source": [
    "#967872\n",
    "cipher_array = []\n",
    "arr = []\n",
    "for i in range(len(encrypted_array)):\n",
    "    for j in range(groupSize):\n",
    "        cipher_array.append(encrypted_array[i]//256**j)\n",
    "    #encrypted_array[i] = encrypted_array[i]%256\n",
    "    #arr = IntegerToArray(encrypted_array[i],256)\n",
    "    #while len(arr)>2:\n",
    "        #arr.remove(arr[0])\n",
    "    #while len(arr)<2:\n",
    "        a#rr.insert(0,0)\n",
    "    #for j in arr:\n",
    "        #cipher_array.append(j)\n",
    "print(len(cipher_array))"
   ]
  },
  {
   "cell_type": "code",
   "execution_count": 27,
   "metadata": {
    "scrolled": true
   },
   "outputs": [
    {
     "data": {
      "text/plain": [
       "array([[282286, 364036, 282286, ..., 420483, 328285, 416152],\n",
       "       [282286, 364036, 282286, ..., 420483, 328285, 416152],\n",
       "       [282286, 364036, 282286, ..., 451444, 311964, 426945],\n",
       "       ...,\n",
       "       [266243, 268054, 292020, ..., 478106, 428595, 478106],\n",
       "       [428595, 478106, 428595, ..., 258509,  20798, 258509],\n",
       "       [    45,  55399,  20798, ..., 119190, 162499, 119190]])"
      ]
     },
     "execution_count": 27,
     "metadata": {},
     "output_type": "execute_result"
    }
   ],
   "source": [
    "encryption_arr = np.array(encrypted_array, dtype=int)\n",
    "#encryption_arr = np.array(cipher_array, dtype=int)\n",
    "encryption_arr = np.reshape(encryption_arr, (rows, cols), order='C')\n",
    "encryption_arr"
   ]
  },
  {
   "cell_type": "code",
   "execution_count": 28,
   "metadata": {},
   "outputs": [
    {
     "data": {
      "text/plain": [
       "65536"
      ]
     },
     "execution_count": 28,
     "metadata": {},
     "output_type": "execute_result"
    }
   ],
   "source": [
    "256**2"
   ]
  },
  {
   "cell_type": "code",
   "execution_count": 29,
   "metadata": {
    "scrolled": true
   },
   "outputs": [],
   "source": [
    "e_data = im.fromarray(encryption_arr.astype(np.uint8)) \n",
    "e_data.show() "
   ]
  },
  {
   "cell_type": "code",
   "execution_count": 30,
   "metadata": {},
   "outputs": [
    {
     "name": "stdout",
     "output_type": "stream",
     "text": [
      "(852, 1136)\n",
      "[[282286 364036 282286 ... 420483 328285 416152]\n",
      " [282286 364036 282286 ... 420483 328285 416152]\n",
      " [282286 364036 282286 ... 451444 311964 426945]\n",
      " ...\n",
      " [266243 268054 292020 ... 478106 428595 478106]\n",
      " [428595 478106 428595 ... 258509  20798 258509]\n",
      " [    45  55399  20798 ... 119190 162499 119190]]\n"
     ]
    }
   ],
   "source": [
    "#Decryption\n",
    "data = encryption_arr\n",
    "rows,cols = data.shape\n",
    "print(data.shape)\n",
    "print(data)"
   ]
  },
  {
   "cell_type": "markdown",
   "metadata": {},
   "source": [
    "totalPixs = rows*cols\n",
    "print(totalPixs)\n",
    "#groupSize = IntegerDigits(totalPixs,256)\n",
    "groupedArray = np.reshape(data, (totalPixs//2, 2), order='C')\n",
    "print(groupedArray)"
   ]
  },
  {
   "cell_type": "markdown",
   "metadata": {},
   "source": [
    "Em = []\n",
    "for i in range(totalPixs//groupSize):\n",
    "    Em.append(groupedArray[i][0])\n",
    "print(len(Em))\n",
    "if len(Em)%2 == 1:\n",
    "    Em.append(0)\n",
    "print(Em[0],Em[1])\n",
    "if (encrypted_array==Em):\n",
    "    print('true')"
   ]
  },
  {
   "cell_type": "code",
   "execution_count": 31,
   "metadata": {
    "scrolled": false
   },
   "outputs": [],
   "source": [
    "#applied_data = np.reshape(data, (totalPixs//2, 2), order='C')\n",
    "#print(apply_divisor)\n",
    "#applied_data = []\n",
    "#for i in range(totalPixs//2):\n",
    "    #newValue = apply_divisor[i][1]*256 + apply_divisor[i][0]\n",
    "    #applied_data.append(newValue)\n",
    "#print((applied_data))"
   ]
  },
  {
   "cell_type": "code",
   "execution_count": null,
   "metadata": {},
   "outputs": [],
   "source": []
  },
  {
   "cell_type": "code",
   "execution_count": 32,
   "metadata": {
    "scrolled": false
   },
   "outputs": [
    {
     "name": "stdout",
     "output_type": "stream",
     "text": [
      "[[282286 364036]\n",
      " [282286 364036]\n",
      " [282286 364036]\n",
      " ...\n",
      " [162499 119190]\n",
      " [162499 119190]\n",
      " [162499 119190]]\n"
     ]
    }
   ],
   "source": [
    "#rows = rows//2\n",
    "#newTotal = rows*cols\n",
    "EmPointsArray = np.reshape(encryption_arr, (totalPixs//2, 2), order='C')\n",
    "print((EmPointsArray))"
   ]
  },
  {
   "cell_type": "code",
   "execution_count": 33,
   "metadata": {},
   "outputs": [],
   "source": [
    "G_plus_B1 = point_addition(Gx,Gy,B1x,B1y,p,a)\n",
    "private_a_G_plus_B1 = point_multiplication(G_plus_B1[0],G_plus_B1[1],private_a,p,a)\n",
    "private_a_G_plus_B1_plus_BA = point_addition(private_a_G_plus_B1[0],private_a_G_plus_B1[1],B_Ax,B_Ay,p,a)"
   ]
  },
  {
   "cell_type": "code",
   "execution_count": 34,
   "metadata": {
    "scrolled": true
   },
   "outputs": [
    {
     "name": "stdout",
     "output_type": "stream",
     "text": [
      "483936\n",
      "967872\n",
      "350906 162843\n"
     ]
    }
   ],
   "source": [
    "coordinates, variables = EmPointsArray.shape\n",
    "decrypted_array = []\n",
    "print(coordinates)\n",
    "r=coordinates\n",
    "for i in range(coordinates):\n",
    "    DP = point_subtraction(EmPointsArray[i][0],EmPointsArray[i][1],private_a_G_plus_B1_plus_BA[0],private_a_G_plus_B1_plus_BA[1],p,a)\n",
    "    decrypted_array.append(DP[0])\n",
    "    decrypted_array.append(DP[1])\n",
    "print(len(decrypted_array))\n",
    "print(decrypted_array[0],decrypted_array[1])"
   ]
  },
  {
   "cell_type": "code",
   "execution_count": 35,
   "metadata": {
    "scrolled": true
   },
   "outputs": [
    {
     "data": {
      "text/plain": [
       "[3, 20, 34]"
      ]
     },
     "execution_count": 35,
     "metadata": {},
     "output_type": "execute_result"
    }
   ],
   "source": [
    "IntegerToArray(201762,256)"
   ]
  },
  {
   "cell_type": "markdown",
   "metadata": {},
   "source": [
    "plaintext_array = []\n",
    "#print(plaintext_array[0])\n",
    "for i in range(len(decrypted_array)):\n",
    "    arr = IntegerToArray(decrypted_array[i],256)\n",
    "    #while len(arr)>groupSize:\n",
    "        #arr.remove(arr[0])\n",
    "    #while len(arr)<groupSize:\n",
    "        #arr.insert(0,0)\n",
    "    for j in arr:\n",
    "        plaintext_array.append(j)\n",
    "print(len(plaintext_array))"
   ]
  },
  {
   "cell_type": "code",
   "execution_count": 36,
   "metadata": {
    "scrolled": true
   },
   "outputs": [
    {
     "data": {
      "text/plain": [
       "array([[350906, 162843, 350906, ..., 163529,  22653, 417796],\n",
       "       [350906, 162843, 350906, ..., 163529,  22653, 417796],\n",
       "       [350906, 162843, 350906, ...,  40473, 420567,    580],\n",
       "       ...,\n",
       "       [226551, 148061, 177916, ..., 370110, 401969, 370110],\n",
       "       [401969, 370110, 401969, ..., 319568, 386679, 319568],\n",
       "       [ 64719, 445679, 386679, ..., 132785, 504454, 132785]])"
      ]
     },
     "execution_count": 36,
     "metadata": {},
     "output_type": "execute_result"
    }
   ],
   "source": [
    "decryption_arr = np.array(decrypted_array, dtype=int)\n",
    "#decryption_arr = np.array(plaintext_array, dtype=int)\n",
    "decryption_arr = np.reshape(decryption_arr, (rows, cols), order='C')\n",
    "decryption_arr"
   ]
  },
  {
   "cell_type": "code",
   "execution_count": 37,
   "metadata": {},
   "outputs": [],
   "source": [
    "d_data = im.fromarray(decryption_arr.astype(np.uint8)) \n",
    "d_data.show() "
   ]
  }
 ],
 "metadata": {
  "kernelspec": {
   "display_name": "Python 3",
   "language": "python",
   "name": "python3"
  },
  "language_info": {
   "codemirror_mode": {
    "name": "ipython",
    "version": 3
   },
   "file_extension": ".py",
   "mimetype": "text/x-python",
   "name": "python",
   "nbconvert_exporter": "python",
   "pygments_lexer": "ipython3",
   "version": "3.8.3"
  }
 },
 "nbformat": 4,
 "nbformat_minor": 4
}
