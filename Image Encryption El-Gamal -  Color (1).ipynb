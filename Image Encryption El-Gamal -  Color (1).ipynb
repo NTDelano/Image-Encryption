{
 "cells": [
  {
   "cell_type": "code",
   "execution_count": 1,
   "metadata": {},
   "outputs": [],
   "source": [
    "# Imports with all of my tools\n",
    "from sklearn.cluster import KMeans\n",
    "import matplotlib.pyplot as plt\n",
    "import numpy as np\n",
    "import cv2\n",
    "from collections import Counter\n",
    "from skimage.color import rgb2lab, deltaE_cie76\n",
    "import os\n",
    "import random\n",
    "from sympy import mod_inverse\n",
    "from PIL import Image as im\n",
    "\n",
    "%matplotlib inline\n",
    "\n",
    "\n",
    "def get_image(image_path):\n",
    "    image = cv2.imread(image_path)\n",
    "    image = cv2.cvtColor(image, cv2.COLOR_BGR2RGB)\n",
    "    print(image.shape)\n",
    "    return image"
   ]
  },
  {
   "cell_type": "code",
   "execution_count": 2,
   "metadata": {
    "scrolled": false
   },
   "outputs": [
    {
     "name": "stdout",
     "output_type": "stream",
     "text": [
      "(450, 600, 3)\n",
      "(30, 31, 35)\n"
     ]
    }
   ],
   "source": [
    "#path = r\"C:\\Users\\soule\\OneDrive\\Pictures\\UI_Goku.jpg\"\n",
    "#path = r\"C:\\Users\\soule\\OneDrive\\Pictures\\Freddy.png\"\n",
    "path = r\"C:\\Users\\soule\\OneDrive\\Pictures\\addie.jpg\"\n",
    "l = get_image(path)\n",
    "img = im.open(path)\n",
    "colors = img.getpixel((0, 1))\n",
    "print(colors)\n",
    "rows, cols, dims = l.shape\n",
    "# print(l)\n",
    "data = im.fromarray(l.astype(np.uint8))\n",
    "# print(l)\n",
    "data.show()"
   ]
  },
  {
   "cell_type": "code",
   "execution_count": 3,
   "metadata": {},
   "outputs": [],
   "source": [
    "def Generate_Point(a, b, p):\n",
    "    x = 3537294  # random.randint(0, p)\n",
    "    possibilites = []\n",
    "    for y in range(p):\n",
    "        yval = int((x ** 3) % p)\n",
    "        yval = int((yval + (a * x)) % p)\n",
    "        yval = int((yval + b) % p)\n",
    "        # yval = ((x ** 3) + (a * x) + b) % p\n",
    "        # print(yval)\n",
    "        # print(x[i],y[j],y[j]**2 % p, yval)\n",
    "        # print(yval)\n",
    "        testy = int((y ** 2) % p)\n",
    "        if testy == yval:\n",
    "            return x, y\n",
    "\n",
    "\n",
    "def IntegerDigits(p, b):\n",
    "    arr = []\n",
    "    while p >= 1:\n",
    "        arr.append(p % b)\n",
    "        p = p // b\n",
    "        print(arr)\n",
    "    A = arr[::-1]\n",
    "    return len(A) - 1\n",
    "\n",
    "\n",
    "def IntegerToArray(n, base):\n",
    "    A = []\n",
    "    while n >= 1:\n",
    "        A.append(n % base)\n",
    "        n = n // base\n",
    "    Aflip = A[::-1]\n",
    "    return Aflip\n",
    "\n",
    "\n",
    "def singleLargeInteger(A, base):\n",
    "    integer = 0\n",
    "    power = 0\n",
    "    Anew = A[::-1]\n",
    "    for i in range(len(Anew)):\n",
    "        integer += Anew[i] * base ** i\n",
    "        # print(integer)\n",
    "    return integer\n",
    "\n",
    "\n",
    "def point_addition(x1, y1, x2, y2, p, a):\n",
    "    z = 0\n",
    "    if x1 == z and y1 == z:\n",
    "        return x2, y2\n",
    "    if x2 == z and y2 == z:\n",
    "        return x1, y1\n",
    "    if x1 == x2:\n",
    "        if x1 == x2 and y1 == -y2 % p:\n",
    "            return 0, 0\n",
    "        else:\n",
    "            den = int(mod_inverse(2 * y1, p) % p)\n",
    "            m = int((3 * (x1 ** 2)) % p)\n",
    "            m = int((m + a) % p)\n",
    "            m = int((m * den) % p)\n",
    "            m = int((((3 * (x1 ** 2)) % p + a) * (den)) % p)\n",
    "            # m = (((3*(x1**2))%p + a) * (2*))\n",
    "            # m = ((3*pow(x1, 2, p) + a)*pow(2*y1, p-2, p)) % p\n",
    "            # print(m)\n",
    "    else:\n",
    "        den = int(mod_inverse(x1 - x2, p) % p)\n",
    "        m = int((y1 - y2) % p)\n",
    "        m = int((m * den) % p)\n",
    "        # m = int(((y1 - y2)*den)%p)\n",
    "        # print(m)\n",
    "    x = int((m ** 2) % p)\n",
    "    x = int((x - x1 - x2) % p)\n",
    "    # x = int(((m**2)%p - x1 - x2) % p)\n",
    "    # print(x)\n",
    "    y = int((x1 - x) % p)\n",
    "    y = int((y * m) % p)\n",
    "    y = int((y - y1) % p)\n",
    "    # y = int((m*(x1 - x)%p - y1) % p)\n",
    "    # print(y)\n",
    "    return int(x), int(y)\n",
    "\n",
    "\n",
    "def point_subtraction(x1, y1, x2, y2, p, a):\n",
    "    y2 = int(-(y2))\n",
    "    y2 = int(y2 % p)\n",
    "    return point_addition(x1, y1, x2, y2, p, a)\n",
    "\n",
    "\n",
    "def point_multiplication(x, y, k, p, a):\n",
    "    xnew, ynew = int(x), int(y)\n",
    "    for i in range(k - 1):\n",
    "        xnew, ynew = point_addition(x, y, xnew, ynew, p, a)\n",
    "        # print(xnew,ynew)\n",
    "    return int(xnew), int(ynew)"
   ]
  },
  {
   "cell_type": "code",
   "execution_count": 4,
   "metadata": {},
   "outputs": [
    {
     "name": "stdout",
     "output_type": "stream",
     "text": [
      "29 30 34\n"
     ]
    }
   ],
   "source": [
    "arr = []\n",
    "for i in range(rows):\n",
    "    for j in range(cols):\n",
    "        for k in range(dims):\n",
    "            arr.append(l[i][j][k])\n",
    "print(arr[0], arr[1], arr[2])\n",
    "# print(l)"
   ]
  },
  {
   "cell_type": "code",
   "execution_count": 5,
   "metadata": {},
   "outputs": [
    {
     "data": {
      "text/plain": [
       "4"
      ]
     },
     "execution_count": 5,
     "metadata": {},
     "output_type": "execute_result"
    }
   ],
   "source": [
    "1054 // 256"
   ]
  },
  {
   "cell_type": "code",
   "execution_count": 6,
   "metadata": {
    "scrolled": true
   },
   "outputs": [
    {
     "name": "stdout",
     "output_type": "stream",
     "text": [
      "270000\n",
      "810000\n",
      "[176]\n",
      "[176, 30]\n",
      "[176, 30, 4]\n",
      "2\n",
      "[[1908258 1974051]\n",
      " [2105637 2303016]\n",
      " [2500395 2631981]\n",
      " ...\n",
      " [5397810 5989681]\n",
      " [6449710 7436341]\n",
      " [8882504 7040555]]\n"
     ]
    }
   ],
   "source": [
    "totalPixs = rows * cols\n",
    "print(totalPixs)\n",
    "\n",
    "totalValues = rows * cols * dims\n",
    "print(totalValues)\n",
    "individual_colors_arr = np.reshape(arr, (totalValues // 3, 3), order=\"C\")\n",
    "\n",
    "pixel_arr = []\n",
    "for i in range(totalValues // 3):\n",
    "    newValue = singleLargeInteger(individual_colors_arr[i], 256)\n",
    "    pixel_arr.append(newValue)\n",
    "\n",
    "groupSize = IntegerDigits(totalPixs, 256)\n",
    "print(groupSize)\n",
    "groupedArray = np.reshape(pixel_arr, (totalPixs // groupSize, groupSize), order=\"C\")\n",
    "groupedArray = groupedArray.astype(\"int64\")\n",
    "print(groupedArray)"
   ]
  },
  {
   "cell_type": "code",
   "execution_count": 7,
   "metadata": {},
   "outputs": [
    {
     "data": {
      "text/plain": [
       "281474959933440"
      ]
     },
     "execution_count": 7,
     "metadata": {},
     "output_type": "execute_result"
    }
   ],
   "source": [
    "16777215 + (16777215 ** 2)"
   ]
  },
  {
   "cell_type": "code",
   "execution_count": 8,
   "metadata": {},
   "outputs": [
    {
     "name": "stdout",
     "output_type": "stream",
     "text": [
      "135000\n",
      "Max: 281474976710655\n",
      "135000\n",
      "32015258623779 35326729069608\n"
     ]
    }
   ],
   "source": [
    "Pm = []\n",
    "for i in range(totalPixs // groupSize):\n",
    "    newValue = singleLargeInteger(groupedArray[i], 16777216)\n",
    "    Pm.append(newValue)\n",
    "print(len(Pm))\n",
    "maxValue = 0\n",
    "for i in Pm:\n",
    "    if i > maxValue:\n",
    "        maxValue = i\n",
    "print(\"Max: \" + str(maxValue))\n",
    "if len(Pm) % 2 == 1:\n",
    "    Pm.append(0)\n",
    "    print(\"activated\")\n",
    "print(len(Pm))\n",
    "print(Pm[0], Pm[1])\n",
    "# print(maxP)"
   ]
  },
  {
   "cell_type": "code",
   "execution_count": 9,
   "metadata": {
    "scrolled": false
   },
   "outputs": [
    {
     "name": "stdout",
     "output_type": "stream",
     "text": [
      "[[ 32015258623779  35326729069608]\n",
      " [ 41949669632301  46364963318832]\n",
      " [ 47468786559534  40845845799462]\n",
      " ...\n",
      " [ 75158290779683  51943857930535]\n",
      " [ 49727638423332  90560230286641]\n",
      " [108208185243701 149023695269419]]\n"
     ]
    }
   ],
   "source": [
    "imagePointsArray = np.reshape(Pm, (len(Pm) // 2, 2), order=\"C\")\n",
    "print(imagePointsArray)"
   ]
  },
  {
   "cell_type": "code",
   "execution_count": 10,
   "metadata": {},
   "outputs": [],
   "source": [
    "p = 18014398241046527  # 1073676287  # 1046527  # 16127\n",
    "a = -5000\n",
    "b = 76193"
   ]
  },
  {
   "cell_type": "code",
   "execution_count": 11,
   "metadata": {
    "scrolled": true
   },
   "outputs": [
    {
     "name": "stdout",
     "output_type": "stream",
     "text": [
      "[3537294, 355471301]\n"
     ]
    }
   ],
   "source": [
    "# armins private keys\n",
    "private_A = 712\n",
    "# point_A = Generate_Point(a, b, p)\n",
    "point_A = [3537294, 355471301]\n",
    "print(point_A)"
   ]
  },
  {
   "cell_type": "code",
   "execution_count": 12,
   "metadata": {},
   "outputs": [
    {
     "name": "stdout",
     "output_type": "stream",
     "text": [
      "16848117959144065 259058147306912\n"
     ]
    }
   ],
   "source": [
    "x1 = 3537294\n",
    "y1 = 355471301\n",
    "xval = (x1 ** 3 + (a * x1) + b) % p\n",
    "yval = (y1 ** 2) % p\n",
    "print(xval, yval)"
   ]
  },
  {
   "cell_type": "code",
   "execution_count": 13,
   "metadata": {},
   "outputs": [
    {
     "name": "stdout",
     "output_type": "stream",
     "text": [
      "(14793776336358049, 3737597295942823)\n"
     ]
    }
   ],
   "source": [
    "# armins public key\n",
    "public_A = point_multiplication(point_A[0], point_A[1], private_A, p, a)\n",
    "print(public_A)"
   ]
  },
  {
   "cell_type": "code",
   "execution_count": 14,
   "metadata": {},
   "outputs": [],
   "source": [
    "# Erins key is 92\n",
    "e_key = 92"
   ]
  },
  {
   "cell_type": "code",
   "execution_count": 15,
   "metadata": {},
   "outputs": [
    {
     "name": "stdout",
     "output_type": "stream",
     "text": [
      "67500\n",
      "135000\n"
     ]
    }
   ],
   "source": [
    "coordinates, variables = imagePointsArray.shape\n",
    "c2 = []\n",
    "print(coordinates)\n",
    "r = coordinates\n",
    "c1 = point_multiplication(point_A[0], point_A[1], e_key, p, a)\n",
    "added_to_M = point_multiplication(public_A[0], public_A[1], e_key, p, a)\n",
    "for i in range(coordinates):\n",
    "    c2_operation = point_addition(\n",
    "        imagePointsArray[i][0],\n",
    "        imagePointsArray[i][1],\n",
    "        added_to_M[0],\n",
    "        added_to_M[1],\n",
    "        p,\n",
    "        a,\n",
    "    )\n",
    "    c2.append(c2_operation[0])\n",
    "    c2.append(c2_operation[1])\n",
    "print(len(c2))"
   ]
  },
  {
   "cell_type": "code",
   "execution_count": 16,
   "metadata": {},
   "outputs": [
    {
     "name": "stdout",
     "output_type": "stream",
     "text": [
      "270000\n"
     ]
    }
   ],
   "source": [
    "final_encrypted_array = []\n",
    "for i in range(len(c2)):\n",
    "    for j in range(groupSize):\n",
    "        final_encrypted_array.append(c2[i] // (256 ** j))\n",
    "print(len(final_encrypted_array))"
   ]
  },
  {
   "cell_type": "code",
   "execution_count": 17,
   "metadata": {
    "scrolled": true
   },
   "outputs": [
    {
     "name": "stdout",
     "output_type": "stream",
     "text": [
      "(450, 600)\n"
     ]
    }
   ],
   "source": [
    "encryption_arr = np.array(final_encrypted_array)\n",
    "encryption_arr = np.reshape(encryption_arr, (rows, cols), order=\"C\")\n",
    "print(encryption_arr.shape)\n",
    "# for i range(rows):\n",
    "#    for j in range(cols):\n",
    "#        value = encryption_arr[i][j]\n",
    "# e2 = encryption_arr % 256\n",
    "# print(e2)"
   ]
  },
  {
   "cell_type": "code",
   "execution_count": 18,
   "metadata": {},
   "outputs": [
    {
     "name": "stdout",
     "output_type": "stream",
     "text": [
      "98\n"
     ]
    }
   ],
   "source": [
    "print(459362 % 256)"
   ]
  },
  {
   "cell_type": "code",
   "execution_count": 19,
   "metadata": {
    "scrolled": true
   },
   "outputs": [],
   "source": [
    "e_data = im.fromarray(encryption_arr.astype(np.uint8))\n",
    "#e_data.save(\"addie_Encrypted.jpg\")\n",
    "e_data.show()"
   ]
  },
  {
   "cell_type": "markdown",
   "metadata": {
    "scrolled": true
   },
   "source": [
    "# Decryption\n",
    "data = encryption_arr\n",
    "x, y = data.shape\n",
    "print(x, y)\n",
    "print(data.shape)\n",
    "# print(data)"
   ]
  },
  {
   "cell_type": "code",
   "execution_count": 20,
   "metadata": {},
   "outputs": [
    {
     "name": "stdout",
     "output_type": "stream",
     "text": [
      "270000\n",
      "3033769800746954 11850663284167 1384110026469356 5406679790895\n"
     ]
    }
   ],
   "source": [
    "arr = []\n",
    "for i in range(rows):\n",
    "    for j in range(cols):\n",
    "        arr.append(encryption_arr[i][j])\n",
    "print(len(arr))\n",
    "print(arr[0], arr[1], arr[2], arr[3])\n",
    "# print(arr)"
   ]
  },
  {
   "cell_type": "code",
   "execution_count": 21,
   "metadata": {},
   "outputs": [
    {
     "name": "stdout",
     "output_type": "stream",
     "text": [
      "135000\n"
     ]
    }
   ],
   "source": [
    "original_arr = []\n",
    "arr = np.reshape(arr, (totalPixs // groupSize, groupSize), order=\"C\")\n",
    "for i in range(totalPixs // groupSize):\n",
    "    original_arr.append(arr[i][0])\n",
    "print(len(original_arr))"
   ]
  },
  {
   "cell_type": "code",
   "execution_count": null,
   "metadata": {},
   "outputs": [],
   "source": []
  },
  {
   "cell_type": "markdown",
   "metadata": {},
   "source": [
    "x = x // 2"
   ]
  },
  {
   "cell_type": "code",
   "execution_count": 22,
   "metadata": {
    "scrolled": true
   },
   "outputs": [
    {
     "name": "stdout",
     "output_type": "stream",
     "text": [
      "[[ 3033769800746954  1384110026469356]\n",
      " [ 9814385684058553  6893919098119200]\n",
      " [13940987470907310  5659402900917132]\n",
      " ...\n",
      " [13892022653093875 16287503742853119]\n",
      " [  851677443928384 17215024479198624]\n",
      " [12907152201209536 17515324058388560]]\n"
     ]
    }
   ],
   "source": [
    "# newTotal = x * y\n",
    "EmPointsArray = np.reshape(original_arr, (len(original_arr) // 2, 2), order=\"C\")\n",
    "print(EmPointsArray)"
   ]
  },
  {
   "cell_type": "code",
   "execution_count": 23,
   "metadata": {},
   "outputs": [
    {
     "name": "stdout",
     "output_type": "stream",
     "text": [
      "67500\n",
      "135000\n",
      "32015258623779 35326729069608\n"
     ]
    }
   ],
   "source": [
    "coordinates, variables = EmPointsArray.shape\n",
    "subtract_from_c2 = point_multiplication(c1[0], c1[1], private_A, p, a)\n",
    "decrypted_array = []\n",
    "print(coordinates)\n",
    "r = coordinates\n",
    "for i in range(coordinates):\n",
    "    # C_E - (alpha * (G+B_1) + B_A)\n",
    "    DP = point_subtraction(\n",
    "        EmPointsArray[i][0],\n",
    "        EmPointsArray[i][1],\n",
    "        subtract_from_c2[0],\n",
    "        subtract_from_c2[1],\n",
    "        p,\n",
    "        a,\n",
    "    )\n",
    "    decrypted_array.append(DP[0])\n",
    "    decrypted_array.append(DP[1])\n",
    "print(len(decrypted_array))\n",
    "print(decrypted_array[0], decrypted_array[1])"
   ]
  },
  {
   "cell_type": "code",
   "execution_count": 24,
   "metadata": {},
   "outputs": [
    {
     "name": "stdout",
     "output_type": "stream",
     "text": [
      "270000\n"
     ]
    }
   ],
   "source": [
    "plaintext_array = []\n",
    "# print(plaintext_array[0])\n",
    "for i in range(len(decrypted_array)):\n",
    "    arr = IntegerToArray(decrypted_array[i], 16777216)\n",
    "    while len(arr) > groupSize:\n",
    "        arr.remove(arr[0])\n",
    "    while len(arr) < groupSize:\n",
    "        arr.insert(0, 0)\n",
    "    for j in arr:\n",
    "        plaintext_array.append(j)\n",
    "print(len(plaintext_array))"
   ]
  },
  {
   "cell_type": "code",
   "execution_count": 25,
   "metadata": {},
   "outputs": [
    {
     "name": "stdout",
     "output_type": "stream",
     "text": [
      "810000\n"
     ]
    }
   ],
   "source": [
    "plaintext_array_color = []\n",
    "for i in range(len(plaintext_array)):\n",
    "    arr = IntegerToArray(plaintext_array[i], 256)\n",
    "    while len(arr) > 3:\n",
    "        arr.remove(arr[0])\n",
    "    while len(arr) < 3:\n",
    "        arr.insert(0, 0)\n",
    "    for j in arr:\n",
    "        plaintext_array_color.append(j)\n",
    "print(len(plaintext_array_color))"
   ]
  },
  {
   "cell_type": "code",
   "execution_count": 26,
   "metadata": {
    "scrolled": true
   },
   "outputs": [],
   "source": [
    "decryption_arr = np.array(plaintext_array_color, dtype=int)\n",
    "decryption_arr = np.reshape(decryption_arr, (rows, cols, 3), order=\"C\")\n",
    "# decryption_arr"
   ]
  },
  {
   "cell_type": "code",
   "execution_count": 27,
   "metadata": {},
   "outputs": [],
   "source": [
    "d_data = im.fromarray(decryption_arr.astype(np.uint8))\n",
    "#d_data.save(\"addie_Decrypted.jpg\")\n",
    "d_data.show()"
   ]
  }
 ],
 "metadata": {
  "kernelspec": {
   "display_name": "Python 3",
   "language": "python",
   "name": "python3"
  },
  "language_info": {
   "codemirror_mode": {
    "name": "ipython",
    "version": 3
   },
   "file_extension": ".py",
   "mimetype": "text/x-python",
   "name": "python",
   "nbconvert_exporter": "python",
   "pygments_lexer": "ipython3",
   "version": "3.8.3"
  }
 },
 "nbformat": 4,
 "nbformat_minor": 4
}
