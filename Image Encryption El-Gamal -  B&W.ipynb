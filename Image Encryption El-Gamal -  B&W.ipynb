{
 "cells": [
  {
   "cell_type": "code",
   "execution_count": 1,
   "metadata": {},
   "outputs": [],
   "source": [
    "# Imports with all of my tools\n",
    "from sklearn.cluster import KMeans\n",
    "import matplotlib.pyplot as plt\n",
    "import numpy as np\n",
    "import cv2\n",
    "from collections import Counter\n",
    "from skimage.color import rgb2lab, deltaE_cie76\n",
    "import os\n",
    "import random\n",
    "from sympy import mod_inverse\n",
    "from PIL import Image as im\n",
    "\n",
    "%matplotlib inline\n",
    "\n",
    "\n",
    "def get_image(image_path):\n",
    "    image = cv2.imread(image_path)\n",
    "    image = cv2.cvtColor(image, cv2.COLOR_BGR2GRAY)\n",
    "    print(image.shape)\n",
    "    return image"
   ]
  },
  {
   "cell_type": "code",
   "execution_count": 2,
   "metadata": {
    "scrolled": true
   },
   "outputs": [
    {
     "data": {
      "application/javascript": [
       "\n",
       "            setTimeout(function() {\n",
       "                var nbb_cell_id = 2;\n",
       "                var nbb_unformatted_code = \"%load_ext nb_black\";\n",
       "                var nbb_formatted_code = \"%load_ext nb_black\";\n",
       "                var nbb_cells = Jupyter.notebook.get_cells();\n",
       "                for (var i = 0; i < nbb_cells.length; ++i) {\n",
       "                    if (nbb_cells[i].input_prompt_number == nbb_cell_id) {\n",
       "                        if (nbb_cells[i].get_text() == nbb_unformatted_code) {\n",
       "                             nbb_cells[i].set_text(nbb_formatted_code);\n",
       "                        }\n",
       "                        break;\n",
       "                    }\n",
       "                }\n",
       "            }, 500);\n",
       "            "
      ],
      "text/plain": [
       "<IPython.core.display.Javascript object>"
      ]
     },
     "metadata": {},
     "output_type": "display_data"
    }
   ],
   "source": [
    "%load_ext nb_black"
   ]
  },
  {
   "cell_type": "code",
   "execution_count": 3,
   "metadata": {
    "scrolled": false
   },
   "outputs": [
    {
     "name": "stdout",
     "output_type": "stream",
     "text": [
      "(450, 600)\n",
      "(30, 31, 35)\n"
     ]
    },
    {
     "data": {
      "application/javascript": [
       "\n",
       "            setTimeout(function() {\n",
       "                var nbb_cell_id = 3;\n",
       "                var nbb_unformatted_code = \"path = r\\\"C:\\\\Users\\\\soule\\\\OneDrive\\\\Pictures\\\\addie.jpg\\\"\\nl = get_image(path)\\nimg = im.open(path)\\ncolors = img.getpixel((0, 1))\\nprint(colors)\\nrows, cols = l.shape\\n# print(l)\\ndata = im.fromarray(l.astype(np.uint8))\\ndata.show()\";\n",
       "                var nbb_formatted_code = \"path = r\\\"C:\\\\Users\\\\soule\\\\OneDrive\\\\Pictures\\\\addie.jpg\\\"\\nl = get_image(path)\\nimg = im.open(path)\\ncolors = img.getpixel((0, 1))\\nprint(colors)\\nrows, cols = l.shape\\n# print(l)\\ndata = im.fromarray(l.astype(np.uint8))\\ndata.show()\";\n",
       "                var nbb_cells = Jupyter.notebook.get_cells();\n",
       "                for (var i = 0; i < nbb_cells.length; ++i) {\n",
       "                    if (nbb_cells[i].input_prompt_number == nbb_cell_id) {\n",
       "                        if (nbb_cells[i].get_text() == nbb_unformatted_code) {\n",
       "                             nbb_cells[i].set_text(nbb_formatted_code);\n",
       "                        }\n",
       "                        break;\n",
       "                    }\n",
       "                }\n",
       "            }, 500);\n",
       "            "
      ],
      "text/plain": [
       "<IPython.core.display.Javascript object>"
      ]
     },
     "metadata": {},
     "output_type": "display_data"
    }
   ],
   "source": [
    "path = r\"C:\\Users\\soule\\OneDrive\\Pictures\\addie.jpg\"\n",
    "l = get_image(path)\n",
    "img = im.open(path)\n",
    "colors = img.getpixel((0, 1))\n",
    "print(colors)\n",
    "rows, cols = l.shape\n",
    "# print(l)\n",
    "data = im.fromarray(l.astype(np.uint8))\n",
    "data.show()"
   ]
  },
  {
   "cell_type": "code",
   "execution_count": 4,
   "metadata": {},
   "outputs": [
    {
     "data": {
      "application/javascript": [
       "\n",
       "            setTimeout(function() {\n",
       "                var nbb_cell_id = 4;\n",
       "                var nbb_unformatted_code = \"def Generate_Point(a, b, p):\\n    x = random.randint(0, p)\\n    print(x)\\n    y = np.arange(0, p)\\n    possibilites = []\\n    for i in range(len(y)):\\n        yval = int((x ** 3) % p)\\n        yval = int((yval + (a * x)) % p)\\n        yval = int((yval + b) % p)\\n        # yval = ((x ** 3) + (a * x) + b) % p\\n        # print(yval)\\n        # print(x[i],y[j],y[j]**2 % p, yval)\\n        # print(yval)\\n        testy = int((y[i] ** 2) % p)\\n        if testy == yval:\\n            possibilites.append(y[i])\\n            print(possibilites)\\n    if len(possibilites) == 0:\\n        return Generate_Point(a, b, p)\\n    else:\\n        yindex = random.randint(0, len(possibilites) - 1)\\n        return x, possibilites[yindex]\\n\\n\\ndef point_addition(x1, y1, x2, y2, p, a):\\n    z = 0\\n    if x1 == z and y1 == z:\\n        return x2, y2\\n    if x2 == z and y2 == z:\\n        return x1, y1\\n    if x1 == x2:\\n        if x1 == x2 and y1 == -y2 % p:\\n            return 0, 0\\n        else:\\n            den = int(mod_inverse(2 * y1, p) % p)\\n            m = int((3 * (x1 ** 2)) % p)\\n            m = int((m + a) % p)\\n            m = int((m * den) % p)\\n            m = int((((3 * (x1 ** 2)) % p + a) * (den)) % p)\\n            # m = (((3*(x1**2))%p + a) * (2*))\\n            # m = ((3*pow(x1, 2, p) + a)*pow(2*y1, p-2, p)) % p\\n            # print(m)\\n    else:\\n        den = int(mod_inverse(x1 - x2, p) % p)\\n        m = int((y1 - y2) % p)\\n        m = int((m * den) % p)\\n        # m = int(((y1 - y2)*den)%p)\\n        # print(m)\\n    x = int((m ** 2) % p)\\n    x = int((x - x1 - x2) % p)\\n    # x = int(((m**2)%p - x1 - x2) % p)\\n    # print(x)\\n    y = int((x1 - x) % p)\\n    y = int((y * m) % p)\\n    y = int((y - y1) % p)\\n    # y = int((m*(x1 - x)%p - y1) % p)\\n    # print(y)\\n    return int(x), int(y)\\n\\n\\ndef point_subtraction(x1, y1, x2, y2, p, a):\\n    y2 = int(-(y2))\\n    y2 = int(y2 % p)\\n    return point_addition(x1, y1, x2, y2, p, a)\\n\\n\\ndef point_multiplication(x, y, k, p, a):\\n    xnew, ynew = int(x), int(y)\\n    for i in range(k - 1):\\n        xnew, ynew = point_addition(x, y, xnew, ynew, p, a)\\n        # print(xnew,ynew)\\n    return int(xnew), int(ynew)\";\n",
       "                var nbb_formatted_code = \"def Generate_Point(a, b, p):\\n    x = random.randint(0, p)\\n    print(x)\\n    y = np.arange(0, p)\\n    possibilites = []\\n    for i in range(len(y)):\\n        yval = int((x ** 3) % p)\\n        yval = int((yval + (a * x)) % p)\\n        yval = int((yval + b) % p)\\n        # yval = ((x ** 3) + (a * x) + b) % p\\n        # print(yval)\\n        # print(x[i],y[j],y[j]**2 % p, yval)\\n        # print(yval)\\n        testy = int((y[i] ** 2) % p)\\n        if testy == yval:\\n            possibilites.append(y[i])\\n            print(possibilites)\\n    if len(possibilites) == 0:\\n        return Generate_Point(a, b, p)\\n    else:\\n        yindex = random.randint(0, len(possibilites) - 1)\\n        return x, possibilites[yindex]\\n\\n\\ndef point_addition(x1, y1, x2, y2, p, a):\\n    z = 0\\n    if x1 == z and y1 == z:\\n        return x2, y2\\n    if x2 == z and y2 == z:\\n        return x1, y1\\n    if x1 == x2:\\n        if x1 == x2 and y1 == -y2 % p:\\n            return 0, 0\\n        else:\\n            den = int(mod_inverse(2 * y1, p) % p)\\n            m = int((3 * (x1 ** 2)) % p)\\n            m = int((m + a) % p)\\n            m = int((m * den) % p)\\n            m = int((((3 * (x1 ** 2)) % p + a) * (den)) % p)\\n            # m = (((3*(x1**2))%p + a) * (2*))\\n            # m = ((3*pow(x1, 2, p) + a)*pow(2*y1, p-2, p)) % p\\n            # print(m)\\n    else:\\n        den = int(mod_inverse(x1 - x2, p) % p)\\n        m = int((y1 - y2) % p)\\n        m = int((m * den) % p)\\n        # m = int(((y1 - y2)*den)%p)\\n        # print(m)\\n    x = int((m ** 2) % p)\\n    x = int((x - x1 - x2) % p)\\n    # x = int(((m**2)%p - x1 - x2) % p)\\n    # print(x)\\n    y = int((x1 - x) % p)\\n    y = int((y * m) % p)\\n    y = int((y - y1) % p)\\n    # y = int((m*(x1 - x)%p - y1) % p)\\n    # print(y)\\n    return int(x), int(y)\\n\\n\\ndef point_subtraction(x1, y1, x2, y2, p, a):\\n    y2 = int(-(y2))\\n    y2 = int(y2 % p)\\n    return point_addition(x1, y1, x2, y2, p, a)\\n\\n\\ndef point_multiplication(x, y, k, p, a):\\n    xnew, ynew = int(x), int(y)\\n    for i in range(k - 1):\\n        xnew, ynew = point_addition(x, y, xnew, ynew, p, a)\\n        # print(xnew,ynew)\\n    return int(xnew), int(ynew)\";\n",
       "                var nbb_cells = Jupyter.notebook.get_cells();\n",
       "                for (var i = 0; i < nbb_cells.length; ++i) {\n",
       "                    if (nbb_cells[i].input_prompt_number == nbb_cell_id) {\n",
       "                        if (nbb_cells[i].get_text() == nbb_unformatted_code) {\n",
       "                             nbb_cells[i].set_text(nbb_formatted_code);\n",
       "                        }\n",
       "                        break;\n",
       "                    }\n",
       "                }\n",
       "            }, 500);\n",
       "            "
      ],
      "text/plain": [
       "<IPython.core.display.Javascript object>"
      ]
     },
     "metadata": {},
     "output_type": "display_data"
    }
   ],
   "source": [
    "def Generate_Point(a, b, p):\n",
    "    x = random.randint(0, p)\n",
    "    print(x)\n",
    "    y = np.arange(0, p)\n",
    "    possibilites = []\n",
    "    for i in range(len(y)):\n",
    "        yval = int((x ** 3) % p)\n",
    "        yval = int((yval + (a * x)) % p)\n",
    "        yval = int((yval + b) % p)\n",
    "        # yval = ((x ** 3) + (a * x) + b) % p\n",
    "        # print(yval)\n",
    "        # print(x[i],y[j],y[j]**2 % p, yval)\n",
    "        # print(yval)\n",
    "        testy = int((y[i] ** 2) % p)\n",
    "        if testy == yval:\n",
    "            possibilites.append(y[i])\n",
    "            print(possibilites)\n",
    "    if len(possibilites) == 0:\n",
    "        return Generate_Point(a, b, p)\n",
    "    else:\n",
    "        yindex = random.randint(0, len(possibilites) - 1)\n",
    "        return x, possibilites[yindex]\n",
    "\n",
    "\n",
    "def point_addition(x1, y1, x2, y2, p, a):\n",
    "    z = 0\n",
    "    if x1 == z and y1 == z:\n",
    "        return x2, y2\n",
    "    if x2 == z and y2 == z:\n",
    "        return x1, y1\n",
    "    if x1 == x2:\n",
    "        if x1 == x2 and y1 == -y2 % p:\n",
    "            return 0, 0\n",
    "        else:\n",
    "            den = int(mod_inverse(2 * y1, p) % p)\n",
    "            m = int((3 * (x1 ** 2)) % p)\n",
    "            m = int((m + a) % p)\n",
    "            m = int((m * den) % p)\n",
    "            m = int((((3 * (x1 ** 2)) % p + a) * (den)) % p)\n",
    "            # m = (((3*(x1**2))%p + a) * (2*))\n",
    "            # m = ((3*pow(x1, 2, p) + a)*pow(2*y1, p-2, p)) % p\n",
    "            # print(m)\n",
    "    else:\n",
    "        den = int(mod_inverse(x1 - x2, p) % p)\n",
    "        m = int((y1 - y2) % p)\n",
    "        m = int((m * den) % p)\n",
    "        # m = int(((y1 - y2)*den)%p)\n",
    "        # print(m)\n",
    "    x = int((m ** 2) % p)\n",
    "    x = int((x - x1 - x2) % p)\n",
    "    # x = int(((m**2)%p - x1 - x2) % p)\n",
    "    # print(x)\n",
    "    y = int((x1 - x) % p)\n",
    "    y = int((y * m) % p)\n",
    "    y = int((y - y1) % p)\n",
    "    # y = int((m*(x1 - x)%p - y1) % p)\n",
    "    # print(y)\n",
    "    return int(x), int(y)\n",
    "\n",
    "\n",
    "def point_subtraction(x1, y1, x2, y2, p, a):\n",
    "    y2 = int(-(y2))\n",
    "    y2 = int(y2 % p)\n",
    "    return point_addition(x1, y1, x2, y2, p, a)\n",
    "\n",
    "\n",
    "def point_multiplication(x, y, k, p, a):\n",
    "    xnew, ynew = int(x), int(y)\n",
    "    for i in range(k - 1):\n",
    "        xnew, ynew = point_addition(x, y, xnew, ynew, p, a)\n",
    "        # print(xnew,ynew)\n",
    "    return int(xnew), int(ynew)"
   ]
  },
  {
   "cell_type": "code",
   "execution_count": 5,
   "metadata": {},
   "outputs": [
    {
     "name": "stdout",
     "output_type": "stream",
     "text": [
      "30 31 33\n",
      "[[ 30  31  33 ...  71  79  95]\n",
      " [ 31  32  34 ...  76  74  99]\n",
      " [ 31  32  34 ... 105  87 113]\n",
      " ...\n",
      " [ 90  88  85 ... 116  98  91]\n",
      " [ 87  89  78 ... 111 120 101]\n",
      " [ 66  63  48 ... 110 129 101]]\n"
     ]
    },
    {
     "data": {
      "application/javascript": [
       "\n",
       "            setTimeout(function() {\n",
       "                var nbb_cell_id = 5;\n",
       "                var nbb_unformatted_code = \"arr = []\\nfor i in range(rows):\\n    for j in range(cols):\\n        arr.append(l[i][j])\\nprint(arr[0], arr[1], arr[2])\\nprint(l)\";\n",
       "                var nbb_formatted_code = \"arr = []\\nfor i in range(rows):\\n    for j in range(cols):\\n        arr.append(l[i][j])\\nprint(arr[0], arr[1], arr[2])\\nprint(l)\";\n",
       "                var nbb_cells = Jupyter.notebook.get_cells();\n",
       "                for (var i = 0; i < nbb_cells.length; ++i) {\n",
       "                    if (nbb_cells[i].input_prompt_number == nbb_cell_id) {\n",
       "                        if (nbb_cells[i].get_text() == nbb_unformatted_code) {\n",
       "                             nbb_cells[i].set_text(nbb_formatted_code);\n",
       "                        }\n",
       "                        break;\n",
       "                    }\n",
       "                }\n",
       "            }, 500);\n",
       "            "
      ],
      "text/plain": [
       "<IPython.core.display.Javascript object>"
      ]
     },
     "metadata": {},
     "output_type": "display_data"
    }
   ],
   "source": [
    "arr = []\n",
    "for i in range(rows):\n",
    "    for j in range(cols):\n",
    "        arr.append(l[i][j])\n",
    "print(arr[0], arr[1], arr[2])\n",
    "print(l)"
   ]
  },
  {
   "cell_type": "code",
   "execution_count": 6,
   "metadata": {},
   "outputs": [
    {
     "name": "stdout",
     "output_type": "stream",
     "text": [
      "270000\n"
     ]
    },
    {
     "data": {
      "application/javascript": [
       "\n",
       "            setTimeout(function() {\n",
       "                var nbb_cell_id = 6;\n",
       "                var nbb_unformatted_code = \"totalPixs = rows * cols\\nprint(totalPixs)\";\n",
       "                var nbb_formatted_code = \"totalPixs = rows * cols\\nprint(totalPixs)\";\n",
       "                var nbb_cells = Jupyter.notebook.get_cells();\n",
       "                for (var i = 0; i < nbb_cells.length; ++i) {\n",
       "                    if (nbb_cells[i].input_prompt_number == nbb_cell_id) {\n",
       "                        if (nbb_cells[i].get_text() == nbb_unformatted_code) {\n",
       "                             nbb_cells[i].set_text(nbb_formatted_code);\n",
       "                        }\n",
       "                        break;\n",
       "                    }\n",
       "                }\n",
       "            }, 500);\n",
       "            "
      ],
      "text/plain": [
       "<IPython.core.display.Javascript object>"
      ]
     },
     "metadata": {},
     "output_type": "display_data"
    }
   ],
   "source": [
    "totalPixs = rows * cols\n",
    "print(totalPixs)"
   ]
  },
  {
   "cell_type": "code",
   "execution_count": 7,
   "metadata": {
    "scrolled": false
   },
   "outputs": [
    {
     "name": "stdout",
     "output_type": "stream",
     "text": [
      "[[ 30  31]\n",
      " [ 33  36]\n",
      " [ 39  41]\n",
      " ...\n",
      " [ 85  92]\n",
      " [ 97 110]\n",
      " [129 101]]\n"
     ]
    },
    {
     "data": {
      "application/javascript": [
       "\n",
       "            setTimeout(function() {\n",
       "                var nbb_cell_id = 7;\n",
       "                var nbb_unformatted_code = \"imagePointsArray = np.reshape(arr, (totalPixs // 2, 2), order=\\\"C\\\")\\nprint(imagePointsArray)\";\n",
       "                var nbb_formatted_code = \"imagePointsArray = np.reshape(arr, (totalPixs // 2, 2), order=\\\"C\\\")\\nprint(imagePointsArray)\";\n",
       "                var nbb_cells = Jupyter.notebook.get_cells();\n",
       "                for (var i = 0; i < nbb_cells.length; ++i) {\n",
       "                    if (nbb_cells[i].input_prompt_number == nbb_cell_id) {\n",
       "                        if (nbb_cells[i].get_text() == nbb_unformatted_code) {\n",
       "                             nbb_cells[i].set_text(nbb_formatted_code);\n",
       "                        }\n",
       "                        break;\n",
       "                    }\n",
       "                }\n",
       "            }, 500);\n",
       "            "
      ],
      "text/plain": [
       "<IPython.core.display.Javascript object>"
      ]
     },
     "metadata": {},
     "output_type": "display_data"
    }
   ],
   "source": [
    "imagePointsArray = np.reshape(arr, (totalPixs // 2, 2), order=\"C\")\n",
    "print(imagePointsArray)"
   ]
  },
  {
   "cell_type": "code",
   "execution_count": 8,
   "metadata": {},
   "outputs": [
    {
     "data": {
      "application/javascript": [
       "\n",
       "            setTimeout(function() {\n",
       "                var nbb_cell_id = 8;\n",
       "                var nbb_unformatted_code = \"p = 1046527  # 16127\\na = -5000\\nb = 76193\";\n",
       "                var nbb_formatted_code = \"p = 1046527  # 16127\\na = -5000\\nb = 76193\";\n",
       "                var nbb_cells = Jupyter.notebook.get_cells();\n",
       "                for (var i = 0; i < nbb_cells.length; ++i) {\n",
       "                    if (nbb_cells[i].input_prompt_number == nbb_cell_id) {\n",
       "                        if (nbb_cells[i].get_text() == nbb_unformatted_code) {\n",
       "                             nbb_cells[i].set_text(nbb_formatted_code);\n",
       "                        }\n",
       "                        break;\n",
       "                    }\n",
       "                }\n",
       "            }, 500);\n",
       "            "
      ],
      "text/plain": [
       "<IPython.core.display.Javascript object>"
      ]
     },
     "metadata": {},
     "output_type": "display_data"
    }
   ],
   "source": [
    "p = 16769023 #1046527  # 16127\n",
    "a = -5000\n",
    "b = 76193"
   ]
  },
  {
   "cell_type": "code",
   "execution_count": 9,
   "metadata": {},
   "outputs": [
    {
     "name": "stdout",
     "output_type": "stream",
     "text": [
      "823874\n",
      "1037795\n",
      "[502249]\n",
      "[502249, 580335]\n",
      "(1037795, 502249)\n"
     ]
    },
    {
     "data": {
      "application/javascript": [
       "\n",
       "            setTimeout(function() {\n",
       "                var nbb_cell_id = 9;\n",
       "                var nbb_unformatted_code = \"# armins private keys\\nprivate_A = 712\\npoint_A = Generate_Point(a, b, p)\\nprint(point_A)\";\n",
       "                var nbb_formatted_code = \"# armins private keys\\nprivate_A = 712\\npoint_A = Generate_Point(a, b, p)\\nprint(point_A)\";\n",
       "                var nbb_cells = Jupyter.notebook.get_cells();\n",
       "                for (var i = 0; i < nbb_cells.length; ++i) {\n",
       "                    if (nbb_cells[i].input_prompt_number == nbb_cell_id) {\n",
       "                        if (nbb_cells[i].get_text() == nbb_unformatted_code) {\n",
       "                             nbb_cells[i].set_text(nbb_formatted_code);\n",
       "                        }\n",
       "                        break;\n",
       "                    }\n",
       "                }\n",
       "            }, 500);\n",
       "            "
      ],
      "text/plain": [
       "<IPython.core.display.Javascript object>"
      ]
     },
     "metadata": {},
     "output_type": "display_data"
    }
   ],
   "source": [
    "# armins private keys\n",
    "private_A = 712\n",
    "point_A = Generate_Point(a, b, p)\n",
    "print(point_A)"
   ]
  },
  {
   "cell_type": "code",
   "execution_count": 10,
   "metadata": {},
   "outputs": [
    {
     "name": "stdout",
     "output_type": "stream",
     "text": [
      "(387108, 87436)\n"
     ]
    },
    {
     "data": {
      "application/javascript": [
       "\n",
       "            setTimeout(function() {\n",
       "                var nbb_cell_id = 10;\n",
       "                var nbb_unformatted_code = \"# armins public key\\npublic_A = point_multiplication(point_A[0], point_A[1], private_A, p, a)\\nprint(public_A)\";\n",
       "                var nbb_formatted_code = \"# armins public key\\npublic_A = point_multiplication(point_A[0], point_A[1], private_A, p, a)\\nprint(public_A)\";\n",
       "                var nbb_cells = Jupyter.notebook.get_cells();\n",
       "                for (var i = 0; i < nbb_cells.length; ++i) {\n",
       "                    if (nbb_cells[i].input_prompt_number == nbb_cell_id) {\n",
       "                        if (nbb_cells[i].get_text() == nbb_unformatted_code) {\n",
       "                             nbb_cells[i].set_text(nbb_formatted_code);\n",
       "                        }\n",
       "                        break;\n",
       "                    }\n",
       "                }\n",
       "            }, 500);\n",
       "            "
      ],
      "text/plain": [
       "<IPython.core.display.Javascript object>"
      ]
     },
     "metadata": {},
     "output_type": "display_data"
    }
   ],
   "source": [
    "# armins public key\n",
    "public_A = point_multiplication(point_A[0], point_A[1], private_A, p, a)\n",
    "print(public_A)"
   ]
  },
  {
   "cell_type": "code",
   "execution_count": 11,
   "metadata": {},
   "outputs": [
    {
     "data": {
      "application/javascript": [
       "\n",
       "            setTimeout(function() {\n",
       "                var nbb_cell_id = 11;\n",
       "                var nbb_unformatted_code = \"# Erins key is 92\\ne_key = 92\";\n",
       "                var nbb_formatted_code = \"# Erins key is 92\\ne_key = 92\";\n",
       "                var nbb_cells = Jupyter.notebook.get_cells();\n",
       "                for (var i = 0; i < nbb_cells.length; ++i) {\n",
       "                    if (nbb_cells[i].input_prompt_number == nbb_cell_id) {\n",
       "                        if (nbb_cells[i].get_text() == nbb_unformatted_code) {\n",
       "                             nbb_cells[i].set_text(nbb_formatted_code);\n",
       "                        }\n",
       "                        break;\n",
       "                    }\n",
       "                }\n",
       "            }, 500);\n",
       "            "
      ],
      "text/plain": [
       "<IPython.core.display.Javascript object>"
      ]
     },
     "metadata": {},
     "output_type": "display_data"
    }
   ],
   "source": [
    "# Erins key is 92\n",
    "e_key = 92"
   ]
  },
  {
   "cell_type": "code",
   "execution_count": 12,
   "metadata": {},
   "outputs": [
    {
     "name": "stdout",
     "output_type": "stream",
     "text": [
      "135000\n",
      "270000\n"
     ]
    },
    {
     "data": {
      "application/javascript": [
       "\n",
       "            setTimeout(function() {\n",
       "                var nbb_cell_id = 12;\n",
       "                var nbb_unformatted_code = \"coordinates, variables = imagePointsArray.shape\\nc2 = []\\nprint(coordinates)\\nr = coordinates\\nc1 = point_multiplication(point_A[0], point_A[1], e_key, p, a)\\nadded_to_M = point_multiplication(public_A[0], public_A[1], e_key, p, a)\\nfor i in range(coordinates):\\n    c2_operation = point_addition(\\n        imagePointsArray[i][0],\\n        imagePointsArray[i][1],\\n        added_to_M[0],\\n        added_to_M[1],\\n        p,\\n        a,\\n    )\\n    c2.append(c2_operation[0])\\n    c2.append(c2_operation[1])\\nprint(len(c2))\";\n",
       "                var nbb_formatted_code = \"coordinates, variables = imagePointsArray.shape\\nc2 = []\\nprint(coordinates)\\nr = coordinates\\nc1 = point_multiplication(point_A[0], point_A[1], e_key, p, a)\\nadded_to_M = point_multiplication(public_A[0], public_A[1], e_key, p, a)\\nfor i in range(coordinates):\\n    c2_operation = point_addition(\\n        imagePointsArray[i][0],\\n        imagePointsArray[i][1],\\n        added_to_M[0],\\n        added_to_M[1],\\n        p,\\n        a,\\n    )\\n    c2.append(c2_operation[0])\\n    c2.append(c2_operation[1])\\nprint(len(c2))\";\n",
       "                var nbb_cells = Jupyter.notebook.get_cells();\n",
       "                for (var i = 0; i < nbb_cells.length; ++i) {\n",
       "                    if (nbb_cells[i].input_prompt_number == nbb_cell_id) {\n",
       "                        if (nbb_cells[i].get_text() == nbb_unformatted_code) {\n",
       "                             nbb_cells[i].set_text(nbb_formatted_code);\n",
       "                        }\n",
       "                        break;\n",
       "                    }\n",
       "                }\n",
       "            }, 500);\n",
       "            "
      ],
      "text/plain": [
       "<IPython.core.display.Javascript object>"
      ]
     },
     "metadata": {},
     "output_type": "display_data"
    }
   ],
   "source": [
    "coordinates, variables = imagePointsArray.shape\n",
    "c2 = []\n",
    "print(coordinates)\n",
    "r = coordinates\n",
    "c1 = point_multiplication(point_A[0], point_A[1], e_key, p, a)\n",
    "added_to_M = point_multiplication(public_A[0], public_A[1], e_key, p, a)\n",
    "for i in range(coordinates):\n",
    "    c2_operation = point_addition(\n",
    "        imagePointsArray[i][0],\n",
    "        imagePointsArray[i][1],\n",
    "        added_to_M[0],\n",
    "        added_to_M[1],\n",
    "        p,\n",
    "        a,\n",
    "    )\n",
    "    c2.append(c2_operation[0])\n",
    "    c2.append(c2_operation[1])\n",
    "print(len(c2))"
   ]
  },
  {
   "cell_type": "markdown",
   "metadata": {},
   "source": [
    "final_encrypted_array = []\n",
    "for i in range(len(encrypted_array)):\n",
    "    scaled_value = encrypted_array[i] % 256\n",
    "    divisor = encrypted_array[i] // 256\n",
    "    final_encrypted_array.append(scaled_value)\n",
    "    final_encrypted_array.append(divisor)"
   ]
  },
  {
   "cell_type": "code",
   "execution_count": 13,
   "metadata": {
    "scrolled": true
   },
   "outputs": [
    {
     "name": "stdout",
     "output_type": "stream",
     "text": [
      "[[ 403024  303319  585944 ...  469593   31161  116384]\n",
      " [ 532564  804361 1021802 ...  853991  258189  648316]\n",
      " [ 532564  804361 1021802 ...  987240  331007 1020112]\n",
      " ...\n",
      " [ 493277  454838  582381 ...  267853  282256  209762]\n",
      " [  37827  577133  312164 ...  217268  241277  293404]\n",
      " [ 971059  759249  415011 ...  947933  301704  409426]]\n",
      "[[ 80 215 216 ...  89 185 160]\n",
      " [ 84   9 106 ... 231 141 124]\n",
      " [ 84   9 106 ... 104 255 208]\n",
      " ...\n",
      " [221 182 237 ...  77 144  98]\n",
      " [195 109 100 ... 180 125  28]\n",
      " [ 51 209  35 ... 221 136  82]]\n"
     ]
    },
    {
     "data": {
      "application/javascript": [
       "\n",
       "            setTimeout(function() {\n",
       "                var nbb_cell_id = 13;\n",
       "                var nbb_unformatted_code = \"encryption_arr = np.array(c2, dtype=int)\\nencryption_arr = np.reshape(encryption_arr, (rows, cols), order=\\\"C\\\")\\nprint(encryption_arr)\\ne2 = encryption_arr % 256\\nprint(e2)\";\n",
       "                var nbb_formatted_code = \"encryption_arr = np.array(c2, dtype=int)\\nencryption_arr = np.reshape(encryption_arr, (rows, cols), order=\\\"C\\\")\\nprint(encryption_arr)\\ne2 = encryption_arr % 256\\nprint(e2)\";\n",
       "                var nbb_cells = Jupyter.notebook.get_cells();\n",
       "                for (var i = 0; i < nbb_cells.length; ++i) {\n",
       "                    if (nbb_cells[i].input_prompt_number == nbb_cell_id) {\n",
       "                        if (nbb_cells[i].get_text() == nbb_unformatted_code) {\n",
       "                             nbb_cells[i].set_text(nbb_formatted_code);\n",
       "                        }\n",
       "                        break;\n",
       "                    }\n",
       "                }\n",
       "            }, 500);\n",
       "            "
      ],
      "text/plain": [
       "<IPython.core.display.Javascript object>"
      ]
     },
     "metadata": {},
     "output_type": "display_data"
    }
   ],
   "source": [
    "encryption_arr = np.array(c2, dtype=int)\n",
    "encryption_arr = np.reshape(encryption_arr, (rows, cols), order=\"C\")\n",
    "print(encryption_arr)\n",
    "e2 = encryption_arr % 256\n",
    "print(e2)"
   ]
  },
  {
   "cell_type": "code",
   "execution_count": 14,
   "metadata": {},
   "outputs": [
    {
     "name": "stdout",
     "output_type": "stream",
     "text": [
      "98\n"
     ]
    },
    {
     "data": {
      "application/javascript": [
       "\n",
       "            setTimeout(function() {\n",
       "                var nbb_cell_id = 14;\n",
       "                var nbb_unformatted_code = \"print(459362 % 256)\";\n",
       "                var nbb_formatted_code = \"print(459362 % 256)\";\n",
       "                var nbb_cells = Jupyter.notebook.get_cells();\n",
       "                for (var i = 0; i < nbb_cells.length; ++i) {\n",
       "                    if (nbb_cells[i].input_prompt_number == nbb_cell_id) {\n",
       "                        if (nbb_cells[i].get_text() == nbb_unformatted_code) {\n",
       "                             nbb_cells[i].set_text(nbb_formatted_code);\n",
       "                        }\n",
       "                        break;\n",
       "                    }\n",
       "                }\n",
       "            }, 500);\n",
       "            "
      ],
      "text/plain": [
       "<IPython.core.display.Javascript object>"
      ]
     },
     "metadata": {},
     "output_type": "display_data"
    }
   ],
   "source": [
    "print(459362 % 256)"
   ]
  },
  {
   "cell_type": "code",
   "execution_count": 15,
   "metadata": {
    "scrolled": true
   },
   "outputs": [
    {
     "data": {
      "application/javascript": [
       "\n",
       "            setTimeout(function() {\n",
       "                var nbb_cell_id = 15;\n",
       "                var nbb_unformatted_code = \"e_data = im.fromarray(e2.astype(np.uint8))\\ne_data.show()\";\n",
       "                var nbb_formatted_code = \"e_data = im.fromarray(e2.astype(np.uint8))\\ne_data.show()\";\n",
       "                var nbb_cells = Jupyter.notebook.get_cells();\n",
       "                for (var i = 0; i < nbb_cells.length; ++i) {\n",
       "                    if (nbb_cells[i].input_prompt_number == nbb_cell_id) {\n",
       "                        if (nbb_cells[i].get_text() == nbb_unformatted_code) {\n",
       "                             nbb_cells[i].set_text(nbb_formatted_code);\n",
       "                        }\n",
       "                        break;\n",
       "                    }\n",
       "                }\n",
       "            }, 500);\n",
       "            "
      ],
      "text/plain": [
       "<IPython.core.display.Javascript object>"
      ]
     },
     "metadata": {},
     "output_type": "display_data"
    }
   ],
   "source": [
    "e_data = im.fromarray(e2.astype(np.uint8))\n",
    "e_data.show()"
   ]
  },
  {
   "cell_type": "markdown",
   "metadata": {
    "scrolled": true
   },
   "source": [
    "# Decryption\n",
    "data = encryption_arr\n",
    "x, y = data.shape\n",
    "print(x, y)\n",
    "print(data.shape)\n",
    "# print(data)"
   ]
  },
  {
   "cell_type": "code",
   "execution_count": 16,
   "metadata": {},
   "outputs": [
    {
     "name": "stdout",
     "output_type": "stream",
     "text": [
      "270000\n",
      "403024 303319 585944 65361\n"
     ]
    },
    {
     "data": {
      "application/javascript": [
       "\n",
       "            setTimeout(function() {\n",
       "                var nbb_cell_id = 16;\n",
       "                var nbb_unformatted_code = \"arr = []\\nfor i in range(rows):\\n    for j in range(cols):\\n        arr.append(encryption_arr[i][j])\\nprint(len(arr))\\nprint(arr[0], arr[1], arr[2], arr[3])\\n# print(arr)\";\n",
       "                var nbb_formatted_code = \"arr = []\\nfor i in range(rows):\\n    for j in range(cols):\\n        arr.append(encryption_arr[i][j])\\nprint(len(arr))\\nprint(arr[0], arr[1], arr[2], arr[3])\\n# print(arr)\";\n",
       "                var nbb_cells = Jupyter.notebook.get_cells();\n",
       "                for (var i = 0; i < nbb_cells.length; ++i) {\n",
       "                    if (nbb_cells[i].input_prompt_number == nbb_cell_id) {\n",
       "                        if (nbb_cells[i].get_text() == nbb_unformatted_code) {\n",
       "                             nbb_cells[i].set_text(nbb_formatted_code);\n",
       "                        }\n",
       "                        break;\n",
       "                    }\n",
       "                }\n",
       "            }, 500);\n",
       "            "
      ],
      "text/plain": [
       "<IPython.core.display.Javascript object>"
      ]
     },
     "metadata": {},
     "output_type": "display_data"
    }
   ],
   "source": [
    "arr = []\n",
    "for i in range(rows):\n",
    "    for j in range(cols):\n",
    "        arr.append(encryption_arr[i][j])\n",
    "print(len(arr))\n",
    "print(arr[0], arr[1], arr[2], arr[3])\n",
    "# print(arr)"
   ]
  },
  {
   "cell_type": "code",
   "execution_count": null,
   "metadata": {},
   "outputs": [],
   "source": []
  },
  {
   "cell_type": "markdown",
   "metadata": {
    "scrolled": false
   },
   "source": [
    "apply_divisor = np.reshape(encryption_arr, (len(arr) // 2, 2), order=\"C\")\n",
    "applied_data = []\n",
    "for i in range(len(arr) // 2):\n",
    "    newValue = apply_divisor[i][1] * 256 + apply_divisor[i][0]\n",
    "    applied_data.append(newValue)\n",
    "print(len(applied_data))"
   ]
  },
  {
   "cell_type": "markdown",
   "metadata": {},
   "source": [
    "x = x // 2"
   ]
  },
  {
   "cell_type": "code",
   "execution_count": 17,
   "metadata": {},
   "outputs": [
    {
     "name": "stdout",
     "output_type": "stream",
     "text": [
      "[[403024 303319]\n",
      " [585944  65361]\n",
      " [ 39609 738748]\n",
      " ...\n",
      " [627935 648487]\n",
      " [ 94730 947933]\n",
      " [301704 409426]]\n"
     ]
    },
    {
     "data": {
      "application/javascript": [
       "\n",
       "            setTimeout(function() {\n",
       "                var nbb_cell_id = 17;\n",
       "                var nbb_unformatted_code = \"# newTotal = x * y\\nEmPointsArray = np.reshape(arr, (totalPixs // 2, 2), order=\\\"C\\\")\\nprint(EmPointsArray)\";\n",
       "                var nbb_formatted_code = \"# newTotal = x * y\\nEmPointsArray = np.reshape(arr, (totalPixs // 2, 2), order=\\\"C\\\")\\nprint(EmPointsArray)\";\n",
       "                var nbb_cells = Jupyter.notebook.get_cells();\n",
       "                for (var i = 0; i < nbb_cells.length; ++i) {\n",
       "                    if (nbb_cells[i].input_prompt_number == nbb_cell_id) {\n",
       "                        if (nbb_cells[i].get_text() == nbb_unformatted_code) {\n",
       "                             nbb_cells[i].set_text(nbb_formatted_code);\n",
       "                        }\n",
       "                        break;\n",
       "                    }\n",
       "                }\n",
       "            }, 500);\n",
       "            "
      ],
      "text/plain": [
       "<IPython.core.display.Javascript object>"
      ]
     },
     "metadata": {},
     "output_type": "display_data"
    }
   ],
   "source": [
    "# newTotal = x * y\n",
    "EmPointsArray = np.reshape(arr, (totalPixs // 2, 2), order=\"C\")\n",
    "print(EmPointsArray)"
   ]
  },
  {
   "cell_type": "code",
   "execution_count": 18,
   "metadata": {},
   "outputs": [
    {
     "name": "stdout",
     "output_type": "stream",
     "text": [
      "135000\n"
     ]
    },
    {
     "data": {
      "application/javascript": [
       "\n",
       "            setTimeout(function() {\n",
       "                var nbb_cell_id = 18;\n",
       "                var nbb_unformatted_code = \"coordinates, variables = EmPointsArray.shape\\nsubtract_from_c2 = point_multiplication(c1[0],c1[1],private_A,p,a)\\ndecrypted_array = []\\nprint(coordinates)\\nr=coordinates\\nfor i in range(coordinates):\\n    #C_E - (alpha * (G+B_1) + B_A)\\n    DP = point_subtraction(\\n        EmPointsArray[i][0],\\n        EmPointsArray[i][1],\\n        subtract_from_c2[0],\\n        subtract_from_c2[1],\\n        p,\\n        a\\n    )\\n    decrypted_array.append(DP[0])\\n    decrypted_array.append(DP[1])\";\n",
       "                var nbb_formatted_code = \"coordinates, variables = EmPointsArray.shape\\nsubtract_from_c2 = point_multiplication(c1[0], c1[1], private_A, p, a)\\ndecrypted_array = []\\nprint(coordinates)\\nr = coordinates\\nfor i in range(coordinates):\\n    # C_E - (alpha * (G+B_1) + B_A)\\n    DP = point_subtraction(\\n        EmPointsArray[i][0],\\n        EmPointsArray[i][1],\\n        subtract_from_c2[0],\\n        subtract_from_c2[1],\\n        p,\\n        a,\\n    )\\n    decrypted_array.append(DP[0])\\n    decrypted_array.append(DP[1])\";\n",
       "                var nbb_cells = Jupyter.notebook.get_cells();\n",
       "                for (var i = 0; i < nbb_cells.length; ++i) {\n",
       "                    if (nbb_cells[i].input_prompt_number == nbb_cell_id) {\n",
       "                        if (nbb_cells[i].get_text() == nbb_unformatted_code) {\n",
       "                             nbb_cells[i].set_text(nbb_formatted_code);\n",
       "                        }\n",
       "                        break;\n",
       "                    }\n",
       "                }\n",
       "            }, 500);\n",
       "            "
      ],
      "text/plain": [
       "<IPython.core.display.Javascript object>"
      ]
     },
     "metadata": {},
     "output_type": "display_data"
    }
   ],
   "source": [
    "coordinates, variables = EmPointsArray.shape\n",
    "subtract_from_c2 = point_multiplication(c1[0],c1[1],private_A,p,a)\n",
    "decrypted_array = []\n",
    "print(coordinates)\n",
    "r=coordinates\n",
    "for i in range(coordinates):\n",
    "    #C_E - (alpha * (G+B_1) + B_A)\n",
    "    DP = point_subtraction(\n",
    "        EmPointsArray[i][0],\n",
    "        EmPointsArray[i][1],\n",
    "        subtract_from_c2[0],\n",
    "        subtract_from_c2[1],\n",
    "        p,\n",
    "        a\n",
    "    )\n",
    "    decrypted_array.append(DP[0])\n",
    "    decrypted_array.append(DP[1])\n"
   ]
  },
  {
   "cell_type": "code",
   "execution_count": 19,
   "metadata": {},
   "outputs": [
    {
     "data": {
      "text/plain": [
       "array([[ 30,  31,  33, ...,  71,  79,  95],\n",
       "       [ 31,  32,  34, ...,  76,  74,  99],\n",
       "       [ 31,  32,  34, ..., 105,  87, 113],\n",
       "       ...,\n",
       "       [ 90,  88,  85, ..., 116,  98,  91],\n",
       "       [ 87,  89,  78, ..., 111, 120, 101],\n",
       "       [ 66,  63,  48, ..., 110, 129, 101]])"
      ]
     },
     "execution_count": 19,
     "metadata": {},
     "output_type": "execute_result"
    },
    {
     "data": {
      "application/javascript": [
       "\n",
       "            setTimeout(function() {\n",
       "                var nbb_cell_id = 19;\n",
       "                var nbb_unformatted_code = \"decryption_arr = np.array(decrypted_array, dtype=int)\\ndecryption_arr = np.reshape(decryption_arr, (rows, cols), order=\\\"C\\\")\\ndecryption_arr\";\n",
       "                var nbb_formatted_code = \"decryption_arr = np.array(decrypted_array, dtype=int)\\ndecryption_arr = np.reshape(decryption_arr, (rows, cols), order=\\\"C\\\")\\ndecryption_arr\";\n",
       "                var nbb_cells = Jupyter.notebook.get_cells();\n",
       "                for (var i = 0; i < nbb_cells.length; ++i) {\n",
       "                    if (nbb_cells[i].input_prompt_number == nbb_cell_id) {\n",
       "                        if (nbb_cells[i].get_text() == nbb_unformatted_code) {\n",
       "                             nbb_cells[i].set_text(nbb_formatted_code);\n",
       "                        }\n",
       "                        break;\n",
       "                    }\n",
       "                }\n",
       "            }, 500);\n",
       "            "
      ],
      "text/plain": [
       "<IPython.core.display.Javascript object>"
      ]
     },
     "metadata": {},
     "output_type": "display_data"
    }
   ],
   "source": [
    "decryption_arr = np.array(decrypted_array, dtype=int)\n",
    "decryption_arr = np.reshape(decryption_arr, (rows, cols), order=\"C\")\n",
    "decryption_arr"
   ]
  },
  {
   "cell_type": "code",
   "execution_count": 20,
   "metadata": {},
   "outputs": [
    {
     "data": {
      "application/javascript": [
       "\n",
       "            setTimeout(function() {\n",
       "                var nbb_cell_id = 20;\n",
       "                var nbb_unformatted_code = \"d_data = im.fromarray(decryption_arr.astype(np.uint8))\\nd_data.show()\";\n",
       "                var nbb_formatted_code = \"d_data = im.fromarray(decryption_arr.astype(np.uint8))\\nd_data.show()\";\n",
       "                var nbb_cells = Jupyter.notebook.get_cells();\n",
       "                for (var i = 0; i < nbb_cells.length; ++i) {\n",
       "                    if (nbb_cells[i].input_prompt_number == nbb_cell_id) {\n",
       "                        if (nbb_cells[i].get_text() == nbb_unformatted_code) {\n",
       "                             nbb_cells[i].set_text(nbb_formatted_code);\n",
       "                        }\n",
       "                        break;\n",
       "                    }\n",
       "                }\n",
       "            }, 500);\n",
       "            "
      ],
      "text/plain": [
       "<IPython.core.display.Javascript object>"
      ]
     },
     "metadata": {},
     "output_type": "display_data"
    }
   ],
   "source": [
    "d_data = im.fromarray(decryption_arr.astype(np.uint8))\n",
    "d_data.show()"
   ]
  }
 ],
 "metadata": {
  "kernelspec": {
   "display_name": "Python 3",
   "language": "python",
   "name": "python3"
  },
  "language_info": {
   "codemirror_mode": {
    "name": "ipython",
    "version": 3
   },
   "file_extension": ".py",
   "mimetype": "text/x-python",
   "name": "python",
   "nbconvert_exporter": "python",
   "pygments_lexer": "ipython3",
   "version": "3.8.3"
  }
 },
 "nbformat": 4,
 "nbformat_minor": 4
}
