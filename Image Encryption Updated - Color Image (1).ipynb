{
 "cells": [
  {
   "cell_type": "code",
   "execution_count": 1,
   "metadata": {},
   "outputs": [],
   "source": [
    "#Imports with all of my tools\n",
    "from sklearn.cluster import KMeans\n",
    "import matplotlib.pyplot as plt\n",
    "import numpy as np\n",
    "import cv2\n",
    "from collections import Counter\n",
    "from skimage.color import rgb2lab, deltaE_cie76\n",
    "import os\n",
    "import random\n",
    "from sympy import mod_inverse\n",
    "from PIL import Image as im\n",
    "%matplotlib inline\n",
    "\n",
    "def get_image(image_path):\n",
    "    image = cv2.imread(image_path)\n",
    "    image = cv2.cvtColor(image, cv2.COLOR_BGR2RGB)\n",
    "    print(image.shape)\n",
    "    return image"
   ]
  },
  {
   "cell_type": "code",
   "execution_count": 2,
   "metadata": {},
   "outputs": [
    {
     "data": {
      "application/javascript": [
       "\n",
       "            setTimeout(function() {\n",
       "                var nbb_cell_id = 2;\n",
       "                var nbb_unformatted_code = \"%load_ext nb_black\";\n",
       "                var nbb_formatted_code = \"%load_ext nb_black\";\n",
       "                var nbb_cells = Jupyter.notebook.get_cells();\n",
       "                for (var i = 0; i < nbb_cells.length; ++i) {\n",
       "                    if (nbb_cells[i].input_prompt_number == nbb_cell_id) {\n",
       "                        if (nbb_cells[i].get_text() == nbb_unformatted_code) {\n",
       "                             nbb_cells[i].set_text(nbb_formatted_code);\n",
       "                        }\n",
       "                        break;\n",
       "                    }\n",
       "                }\n",
       "            }, 500);\n",
       "            "
      ],
      "text/plain": [
       "<IPython.core.display.Javascript object>"
      ]
     },
     "metadata": {},
     "output_type": "display_data"
    }
   ],
   "source": [
    "%load_ext nb_black"
   ]
  },
  {
   "cell_type": "code",
   "execution_count": 3,
   "metadata": {
    "scrolled": false
   },
   "outputs": [
    {
     "name": "stdout",
     "output_type": "stream",
     "text": [
      "(450, 600, 3)\n",
      "(30, 31, 35)\n"
     ]
    },
    {
     "data": {
      "application/javascript": [
       "\n",
       "            setTimeout(function() {\n",
       "                var nbb_cell_id = 3;\n",
       "                var nbb_unformatted_code = \"path = r\\\"C:\\\\Users\\\\soule\\\\OneDrive\\\\Pictures\\\\addie.jpg\\\"\\nl = get_image(path)\\nimg = im.open(path)\\ncolors = img.getpixel((0, 1))\\nprint(colors)\\nx, y, z = l.shape\\n# print(l)\\ndata = im.fromarray(l.astype(np.uint8))\\ndata.show()\";\n",
       "                var nbb_formatted_code = \"path = r\\\"C:\\\\Users\\\\soule\\\\OneDrive\\\\Pictures\\\\addie.jpg\\\"\\nl = get_image(path)\\nimg = im.open(path)\\ncolors = img.getpixel((0, 1))\\nprint(colors)\\nx, y, z = l.shape\\n# print(l)\\ndata = im.fromarray(l.astype(np.uint8))\\ndata.show()\";\n",
       "                var nbb_cells = Jupyter.notebook.get_cells();\n",
       "                for (var i = 0; i < nbb_cells.length; ++i) {\n",
       "                    if (nbb_cells[i].input_prompt_number == nbb_cell_id) {\n",
       "                        if (nbb_cells[i].get_text() == nbb_unformatted_code) {\n",
       "                             nbb_cells[i].set_text(nbb_formatted_code);\n",
       "                        }\n",
       "                        break;\n",
       "                    }\n",
       "                }\n",
       "            }, 500);\n",
       "            "
      ],
      "text/plain": [
       "<IPython.core.display.Javascript object>"
      ]
     },
     "metadata": {},
     "output_type": "display_data"
    }
   ],
   "source": [
    "path = r\"C:\\Users\\soule\\OneDrive\\Pictures\\addie.jpg\"\n",
    "l = get_image(path)\n",
    "img = im.open(path)\n",
    "colors = img.getpixel((0, 1))\n",
    "print(colors)\n",
    "x, y, z = l.shape\n",
    "# print(l)\n",
    "data = im.fromarray(l.astype(np.uint8))\n",
    "data.show()"
   ]
  },
  {
   "cell_type": "code",
   "execution_count": 4,
   "metadata": {},
   "outputs": [
    {
     "data": {
      "application/javascript": [
       "\n",
       "            setTimeout(function() {\n",
       "                var nbb_cell_id = 4;\n",
       "                var nbb_unformatted_code = \"def Generate_Point(a, b, p):\\n    x = random.randint(0, p)\\n    y = np.arange(0, p)\\n    possibilites = []\\n    for i in range(len(y)):\\n        yval = ((x ** 3) + (a * x) + b) % p\\n        # print(x[i],y[j],y[j]**2 % p, yval)\\n        # print(yval)\\n        if ((y[i]) ** 2) % p == yval:\\n            possibilites.append(y[i])\\n    if len(possibilites) == 0:\\n        return Generate_Point(a, b, p)\\n    else:\\n        yindex = random.randint(0, len(possibilites) - 1)\\n        return x, possibilites[yindex]\";\n",
       "                var nbb_formatted_code = \"def Generate_Point(a, b, p):\\n    x = random.randint(0, p)\\n    y = np.arange(0, p)\\n    possibilites = []\\n    for i in range(len(y)):\\n        yval = ((x ** 3) + (a * x) + b) % p\\n        # print(x[i],y[j],y[j]**2 % p, yval)\\n        # print(yval)\\n        if ((y[i]) ** 2) % p == yval:\\n            possibilites.append(y[i])\\n    if len(possibilites) == 0:\\n        return Generate_Point(a, b, p)\\n    else:\\n        yindex = random.randint(0, len(possibilites) - 1)\\n        return x, possibilites[yindex]\";\n",
       "                var nbb_cells = Jupyter.notebook.get_cells();\n",
       "                for (var i = 0; i < nbb_cells.length; ++i) {\n",
       "                    if (nbb_cells[i].input_prompt_number == nbb_cell_id) {\n",
       "                        if (nbb_cells[i].get_text() == nbb_unformatted_code) {\n",
       "                             nbb_cells[i].set_text(nbb_formatted_code);\n",
       "                        }\n",
       "                        break;\n",
       "                    }\n",
       "                }\n",
       "            }, 500);\n",
       "            "
      ],
      "text/plain": [
       "<IPython.core.display.Javascript object>"
      ]
     },
     "metadata": {},
     "output_type": "display_data"
    }
   ],
   "source": [
    "def Generate_Point(a, b, p):\n",
    "    x = random.randint(0, p)\n",
    "    y = np.arange(0, p)\n",
    "    possibilites = []\n",
    "    for i in range(len(y)):\n",
    "        yval = ((x ** 3) + (a * x) + b) % p\n",
    "        # print(x[i],y[j],y[j]**2 % p, yval)\n",
    "        # print(yval)\n",
    "        if ((y[i]) ** 2) % p == yval:\n",
    "            possibilites.append(y[i])\n",
    "    if len(possibilites) == 0:\n",
    "        return Generate_Point(a, b, p)\n",
    "    else:\n",
    "        yindex = random.randint(0, len(possibilites) - 1)\n",
    "        return x, possibilites[yindex]"
   ]
  },
  {
   "cell_type": "code",
   "execution_count": 5,
   "metadata": {},
   "outputs": [
    {
     "name": "stdout",
     "output_type": "stream",
     "text": [
      "810000\n"
     ]
    },
    {
     "data": {
      "application/javascript": [
       "\n",
       "            setTimeout(function() {\n",
       "                var nbb_cell_id = 5;\n",
       "                var nbb_unformatted_code = \"arr = []\\nfor i in range(x):\\n    for j in range(y):\\n        for k in range(z):\\n            arr.append(l[i][j][k])\\nprint(len(arr))\";\n",
       "                var nbb_formatted_code = \"arr = []\\nfor i in range(x):\\n    for j in range(y):\\n        for k in range(z):\\n            arr.append(l[i][j][k])\\nprint(len(arr))\";\n",
       "                var nbb_cells = Jupyter.notebook.get_cells();\n",
       "                for (var i = 0; i < nbb_cells.length; ++i) {\n",
       "                    if (nbb_cells[i].input_prompt_number == nbb_cell_id) {\n",
       "                        if (nbb_cells[i].get_text() == nbb_unformatted_code) {\n",
       "                             nbb_cells[i].set_text(nbb_formatted_code);\n",
       "                        }\n",
       "                        break;\n",
       "                    }\n",
       "                }\n",
       "            }, 500);\n",
       "            "
      ],
      "text/plain": [
       "<IPython.core.display.Javascript object>"
      ]
     },
     "metadata": {},
     "output_type": "display_data"
    }
   ],
   "source": [
    "arr = []\n",
    "for i in range(x):\n",
    "    for j in range(y):\n",
    "        for k in range(z):\n",
    "            arr.append(l[i][j][k])\n",
    "print(len(arr))"
   ]
  },
  {
   "cell_type": "code",
   "execution_count": 6,
   "metadata": {},
   "outputs": [
    {
     "name": "stdout",
     "output_type": "stream",
     "text": [
      "270000\n",
      "810000\n"
     ]
    },
    {
     "data": {
      "application/javascript": [
       "\n",
       "            setTimeout(function() {\n",
       "                var nbb_cell_id = 6;\n",
       "                var nbb_unformatted_code = \"totalPixs = x * y\\nprint(totalPixs)\\n\\ntotalValues = x * y * z\\nprint(totalValues)\";\n",
       "                var nbb_formatted_code = \"totalPixs = x * y\\nprint(totalPixs)\\n\\ntotalValues = x * y * z\\nprint(totalValues)\";\n",
       "                var nbb_cells = Jupyter.notebook.get_cells();\n",
       "                for (var i = 0; i < nbb_cells.length; ++i) {\n",
       "                    if (nbb_cells[i].input_prompt_number == nbb_cell_id) {\n",
       "                        if (nbb_cells[i].get_text() == nbb_unformatted_code) {\n",
       "                             nbb_cells[i].set_text(nbb_formatted_code);\n",
       "                        }\n",
       "                        break;\n",
       "                    }\n",
       "                }\n",
       "            }, 500);\n",
       "            "
      ],
      "text/plain": [
       "<IPython.core.display.Javascript object>"
      ]
     },
     "metadata": {},
     "output_type": "display_data"
    }
   ],
   "source": [
    "totalPixs = x * y\n",
    "print(totalPixs)\n",
    "\n",
    "totalValues = x * y * z\n",
    "print(totalValues)"
   ]
  },
  {
   "cell_type": "code",
   "execution_count": 7,
   "metadata": {
    "scrolled": true
   },
   "outputs": [
    {
     "name": "stdout",
     "output_type": "stream",
     "text": [
      "[[ 29  30]\n",
      " [ 34  30]\n",
      " [ 31  35]\n",
      " ...\n",
      " [135 137]\n",
      " [ 72 107]\n",
      " [110  43]]\n"
     ]
    },
    {
     "data": {
      "application/javascript": [
       "\n",
       "            setTimeout(function() {\n",
       "                var nbb_cell_id = 7;\n",
       "                var nbb_unformatted_code = \"imagePointsArray = np.reshape(arr, (totalValues // 2, 2), order=\\\"C\\\")\\nprint(imagePointsArray)\";\n",
       "                var nbb_formatted_code = \"imagePointsArray = np.reshape(arr, (totalValues // 2, 2), order=\\\"C\\\")\\nprint(imagePointsArray)\";\n",
       "                var nbb_cells = Jupyter.notebook.get_cells();\n",
       "                for (var i = 0; i < nbb_cells.length; ++i) {\n",
       "                    if (nbb_cells[i].input_prompt_number == nbb_cell_id) {\n",
       "                        if (nbb_cells[i].get_text() == nbb_unformatted_code) {\n",
       "                             nbb_cells[i].set_text(nbb_formatted_code);\n",
       "                        }\n",
       "                        break;\n",
       "                    }\n",
       "                }\n",
       "            }, 500);\n",
       "            "
      ],
      "text/plain": [
       "<IPython.core.display.Javascript object>"
      ]
     },
     "metadata": {},
     "output_type": "display_data"
    }
   ],
   "source": [
    "imagePointsArray = np.reshape(arr, (totalValues // 2, 2), order=\"C\")\n",
    "print(imagePointsArray)"
   ]
  },
  {
   "cell_type": "code",
   "execution_count": 8,
   "metadata": {},
   "outputs": [
    {
     "data": {
      "application/javascript": [
       "\n",
       "            setTimeout(function() {\n",
       "                var nbb_cell_id = 8;\n",
       "                var nbb_unformatted_code = \"p = 1046527  # 3803\\na = -500\\nb = 761\";\n",
       "                var nbb_formatted_code = \"p = 1046527  # 3803\\na = -500\\nb = 761\";\n",
       "                var nbb_cells = Jupyter.notebook.get_cells();\n",
       "                for (var i = 0; i < nbb_cells.length; ++i) {\n",
       "                    if (nbb_cells[i].input_prompt_number == nbb_cell_id) {\n",
       "                        if (nbb_cells[i].get_text() == nbb_unformatted_code) {\n",
       "                             nbb_cells[i].set_text(nbb_formatted_code);\n",
       "                        }\n",
       "                        break;\n",
       "                    }\n",
       "                }\n",
       "            }, 500);\n",
       "            "
      ],
      "text/plain": [
       "<IPython.core.display.Javascript object>"
      ]
     },
     "metadata": {},
     "output_type": "display_data"
    }
   ],
   "source": [
    "p = 1046527  # 3803\n",
    "a = -500\n",
    "b = 761"
   ]
  },
  {
   "cell_type": "code",
   "execution_count": 9,
   "metadata": {
    "scrolled": true
   },
   "outputs": [
    {
     "name": "stdout",
     "output_type": "stream",
     "text": [
      "987000 593353\n"
     ]
    },
    {
     "data": {
      "application/javascript": [
       "\n",
       "            setTimeout(function() {\n",
       "                var nbb_cell_id = 9;\n",
       "                var nbb_unformatted_code = \"# G = random point\\nGx, Gy = Generate_Point(a, b, p)\\nprint(Gx, Gy)\";\n",
       "                var nbb_formatted_code = \"# G = random point\\nGx, Gy = Generate_Point(a, b, p)\\nprint(Gx, Gy)\";\n",
       "                var nbb_cells = Jupyter.notebook.get_cells();\n",
       "                for (var i = 0; i < nbb_cells.length; ++i) {\n",
       "                    if (nbb_cells[i].input_prompt_number == nbb_cell_id) {\n",
       "                        if (nbb_cells[i].get_text() == nbb_unformatted_code) {\n",
       "                             nbb_cells[i].set_text(nbb_formatted_code);\n",
       "                        }\n",
       "                        break;\n",
       "                    }\n",
       "                }\n",
       "            }, 500);\n",
       "            "
      ],
      "text/plain": [
       "<IPython.core.display.Javascript object>"
      ]
     },
     "metadata": {},
     "output_type": "display_data"
    }
   ],
   "source": [
    "# G = random point\n",
    "Gx, Gy = Generate_Point(a, b, p)\n",
    "print(Gx, Gy)"
   ]
  },
  {
   "cell_type": "code",
   "execution_count": 10,
   "metadata": {},
   "outputs": [
    {
     "name": "stdout",
     "output_type": "stream",
     "text": [
      "559762 271120\n"
     ]
    },
    {
     "data": {
      "application/javascript": [
       "\n",
       "            setTimeout(function() {\n",
       "                var nbb_cell_id = 10;\n",
       "                var nbb_unformatted_code = \"# Amanda's alpha and point A\\nprivate_a = 741\\nprivate_Ax, private_Ay = Generate_Point(a, b, p)\\nprint(private_Ax, private_Ay)\";\n",
       "                var nbb_formatted_code = \"# Amanda's alpha and point A\\nprivate_a = 741\\nprivate_Ax, private_Ay = Generate_Point(a, b, p)\\nprint(private_Ax, private_Ay)\";\n",
       "                var nbb_cells = Jupyter.notebook.get_cells();\n",
       "                for (var i = 0; i < nbb_cells.length; ++i) {\n",
       "                    if (nbb_cells[i].input_prompt_number == nbb_cell_id) {\n",
       "                        if (nbb_cells[i].get_text() == nbb_unformatted_code) {\n",
       "                             nbb_cells[i].set_text(nbb_formatted_code);\n",
       "                        }\n",
       "                        break;\n",
       "                    }\n",
       "                }\n",
       "            }, 500);\n",
       "            "
      ],
      "text/plain": [
       "<IPython.core.display.Javascript object>"
      ]
     },
     "metadata": {},
     "output_type": "display_data"
    }
   ],
   "source": [
    "# Amanda's alpha and point A\n",
    "private_a = 741\n",
    "private_Ax, private_Ay = Generate_Point(a, b, p)\n",
    "print(private_Ax, private_Ay)"
   ]
  },
  {
   "cell_type": "code",
   "execution_count": 11,
   "metadata": {},
   "outputs": [
    {
     "name": "stdout",
     "output_type": "stream",
     "text": [
      "524412 886655\n"
     ]
    },
    {
     "data": {
      "application/javascript": [
       "\n",
       "            setTimeout(function() {\n",
       "                var nbb_cell_id = 11;\n",
       "                var nbb_unformatted_code = \"# Bill's beta and point B\\nprivate_b = 9812\\nprivate_Bx, private_By = Generate_Point(a, b, p)\\nprint(private_Bx, private_By)\";\n",
       "                var nbb_formatted_code = \"# Bill's beta and point B\\nprivate_b = 9812\\nprivate_Bx, private_By = Generate_Point(a, b, p)\\nprint(private_Bx, private_By)\";\n",
       "                var nbb_cells = Jupyter.notebook.get_cells();\n",
       "                for (var i = 0; i < nbb_cells.length; ++i) {\n",
       "                    if (nbb_cells[i].input_prompt_number == nbb_cell_id) {\n",
       "                        if (nbb_cells[i].get_text() == nbb_unformatted_code) {\n",
       "                             nbb_cells[i].set_text(nbb_formatted_code);\n",
       "                        }\n",
       "                        break;\n",
       "                    }\n",
       "                }\n",
       "            }, 500);\n",
       "            "
      ],
      "text/plain": [
       "<IPython.core.display.Javascript object>"
      ]
     },
     "metadata": {},
     "output_type": "display_data"
    }
   ],
   "source": [
    "# Bill's beta and point B\n",
    "private_b = 9812\n",
    "private_Bx, private_By = Generate_Point(a, b, p)\n",
    "print(private_Bx, private_By)"
   ]
  },
  {
   "cell_type": "code",
   "execution_count": 12,
   "metadata": {},
   "outputs": [
    {
     "data": {
      "application/javascript": [
       "\n",
       "            setTimeout(function() {\n",
       "                var nbb_cell_id = 12;\n",
       "                var nbb_unformatted_code = \"def point_addition(x1, y1, x2, y2, p, a):\\n    z = 0\\n    if x1 == z and y1 == z:\\n        return x2, y2\\n    if x2 == z and y2 == z:\\n        return x1, y1\\n    if x1 == x2:\\n        if x1 == x2 and y1 == -y2 % p:\\n            return 0, 0\\n        else:\\n            den = int(mod_inverse(2 * y1, p) % p)\\n            m = int((3 * (x1 ** 2)) % p)\\n            m = int((m + a) % p)\\n            m = int((m * den) % p)\\n            m = int((((3 * (x1 ** 2)) % p + a) * (den)) % p)\\n            # m = (((3*(x1**2))%p + a) * (2*))\\n            # m = ((3*pow(x1, 2, p) + a)*pow(2*y1, p-2, p)) % p\\n            # print(m)\\n    else:\\n        den = int(mod_inverse(x1 - x2, p) % p)\\n        m = int((y1 - y2) % p)\\n        m = int((m * den) % p)\\n        # m = int(((y1 - y2)*den)%p)\\n        # print(m)\\n    x = int((m ** 2) % p)\\n    x = int((x - x1 - x2) % p)\\n    # x = int(((m**2)%p - x1 - x2) % p)\\n    # print(x)\\n    y = int((x1 - x) % p)\\n    y = int((y * m) % p)\\n    y = int((y - y1) % p)\\n    # y = int((m*(x1 - x)%p - y1) % p)\\n    # print(y)\\n    return int(x), int(y)\\n\\n\\ndef point_subtraction(x1, y1, x2, y2, p, a):\\n    y2 = int(-(y2))\\n    y2 = int(y2 % p)\\n    return point_addition(x1, y1, x2, y2, p, a)\\n\\n\\ndef point_multiplication(x, y, k, p, a):\\n    xnew, ynew = int(x), int(y)\\n    for i in range(k - 1):\\n        xnew, ynew = point_addition(x, y, xnew, ynew, p, a)\\n        # print(xnew,ynew)\\n    return int(xnew), int(ynew)\";\n",
       "                var nbb_formatted_code = \"def point_addition(x1, y1, x2, y2, p, a):\\n    z = 0\\n    if x1 == z and y1 == z:\\n        return x2, y2\\n    if x2 == z and y2 == z:\\n        return x1, y1\\n    if x1 == x2:\\n        if x1 == x2 and y1 == -y2 % p:\\n            return 0, 0\\n        else:\\n            den = int(mod_inverse(2 * y1, p) % p)\\n            m = int((3 * (x1 ** 2)) % p)\\n            m = int((m + a) % p)\\n            m = int((m * den) % p)\\n            m = int((((3 * (x1 ** 2)) % p + a) * (den)) % p)\\n            # m = (((3*(x1**2))%p + a) * (2*))\\n            # m = ((3*pow(x1, 2, p) + a)*pow(2*y1, p-2, p)) % p\\n            # print(m)\\n    else:\\n        den = int(mod_inverse(x1 - x2, p) % p)\\n        m = int((y1 - y2) % p)\\n        m = int((m * den) % p)\\n        # m = int(((y1 - y2)*den)%p)\\n        # print(m)\\n    x = int((m ** 2) % p)\\n    x = int((x - x1 - x2) % p)\\n    # x = int(((m**2)%p - x1 - x2) % p)\\n    # print(x)\\n    y = int((x1 - x) % p)\\n    y = int((y * m) % p)\\n    y = int((y - y1) % p)\\n    # y = int((m*(x1 - x)%p - y1) % p)\\n    # print(y)\\n    return int(x), int(y)\\n\\n\\ndef point_subtraction(x1, y1, x2, y2, p, a):\\n    y2 = int(-(y2))\\n    y2 = int(y2 % p)\\n    return point_addition(x1, y1, x2, y2, p, a)\\n\\n\\ndef point_multiplication(x, y, k, p, a):\\n    xnew, ynew = int(x), int(y)\\n    for i in range(k - 1):\\n        xnew, ynew = point_addition(x, y, xnew, ynew, p, a)\\n        # print(xnew,ynew)\\n    return int(xnew), int(ynew)\";\n",
       "                var nbb_cells = Jupyter.notebook.get_cells();\n",
       "                for (var i = 0; i < nbb_cells.length; ++i) {\n",
       "                    if (nbb_cells[i].input_prompt_number == nbb_cell_id) {\n",
       "                        if (nbb_cells[i].get_text() == nbb_unformatted_code) {\n",
       "                             nbb_cells[i].set_text(nbb_formatted_code);\n",
       "                        }\n",
       "                        break;\n",
       "                    }\n",
       "                }\n",
       "            }, 500);\n",
       "            "
      ],
      "text/plain": [
       "<IPython.core.display.Javascript object>"
      ]
     },
     "metadata": {},
     "output_type": "display_data"
    }
   ],
   "source": [
    "def point_addition(x1, y1, x2, y2, p, a):\n",
    "    z = 0\n",
    "    if x1 == z and y1 == z:\n",
    "        return x2, y2\n",
    "    if x2 == z and y2 == z:\n",
    "        return x1, y1\n",
    "    if x1 == x2:\n",
    "        if x1 == x2 and y1 == -y2 % p:\n",
    "            return 0, 0\n",
    "        else:\n",
    "            den = int(mod_inverse(2 * y1, p) % p)\n",
    "            m = int((3 * (x1 ** 2)) % p)\n",
    "            m = int((m + a) % p)\n",
    "            m = int((m * den) % p)\n",
    "            m = int((((3 * (x1 ** 2)) % p + a) * (den)) % p)\n",
    "            # m = (((3*(x1**2))%p + a) * (2*))\n",
    "            # m = ((3*pow(x1, 2, p) + a)*pow(2*y1, p-2, p)) % p\n",
    "            # print(m)\n",
    "    else:\n",
    "        den = int(mod_inverse(x1 - x2, p) % p)\n",
    "        m = int((y1 - y2) % p)\n",
    "        m = int((m * den) % p)\n",
    "        # m = int(((y1 - y2)*den)%p)\n",
    "        # print(m)\n",
    "    x = int((m ** 2) % p)\n",
    "    x = int((x - x1 - x2) % p)\n",
    "    # x = int(((m**2)%p - x1 - x2) % p)\n",
    "    # print(x)\n",
    "    y = int((x1 - x) % p)\n",
    "    y = int((y * m) % p)\n",
    "    y = int((y - y1) % p)\n",
    "    # y = int((m*(x1 - x)%p - y1) % p)\n",
    "    # print(y)\n",
    "    return int(x), int(y)\n",
    "\n",
    "\n",
    "def point_subtraction(x1, y1, x2, y2, p, a):\n",
    "    y2 = int(-(y2))\n",
    "    y2 = int(y2 % p)\n",
    "    return point_addition(x1, y1, x2, y2, p, a)\n",
    "\n",
    "\n",
    "def point_multiplication(x, y, k, p, a):\n",
    "    xnew, ynew = int(x), int(y)\n",
    "    for i in range(k - 1):\n",
    "        xnew, ynew = point_addition(x, y, xnew, ynew, p, a)\n",
    "        # print(xnew,ynew)\n",
    "    return int(xnew), int(ynew)"
   ]
  },
  {
   "cell_type": "markdown",
   "metadata": {},
   "source": [
    "def point_addition(x1, y1, x2, y2, p, a):\n",
    "    z = 0\n",
    "    if x1 == z and y1 == z:\n",
    "        return x2, y2\n",
    "    if x2 == z and y2 == z:\n",
    "        return x1, y1\n",
    "    if x1 == x2:\n",
    "        if x1 == x2 and y1 == -y2 % p:\n",
    "            return 0, 0\n",
    "        else:\n",
    "            den = mod_inverse(2 * y1, p)\n",
    "            m = (((3 * (x1 ** 2)) % p + a) * (den)) % p\n",
    "    else:\n",
    "        den = mod_inverse(x1 - x2, p)\n",
    "        m = (y1 - y2) * den % p\n",
    "\n",
    "    x = ((m ** 2) % p - x1 - x2) % p\n",
    "\n",
    "    y = (m * (x1 - x) % p - y1) % p\n",
    "\n",
    "    return x, y\n",
    "\n",
    "\n",
    "def point_subtraction(x1, y1, x2, y2, p, a):\n",
    "    y2 = -(y2)\n",
    "    y2 = y2 % p\n",
    "    return point_addition(x1, y1, x2, y2, p, a)\n",
    "\n",
    "\n",
    "def point_multiplication(x, y, k, p, a):\n",
    "    xnew, ynew = x, y\n",
    "    for i in range(k - 1):\n",
    "        xnew, ynew = point_addition(x, y, xnew, ynew, p, a)\n",
    "        # print(xnew,ynew)\n",
    "    return xnew, ynew"
   ]
  },
  {
   "cell_type": "code",
   "execution_count": null,
   "metadata": {
    "scrolled": false
   },
   "outputs": [],
   "source": []
  },
  {
   "cell_type": "code",
   "execution_count": 13,
   "metadata": {
    "scrolled": true
   },
   "outputs": [
    {
     "data": {
      "application/javascript": [
       "\n",
       "            setTimeout(function() {\n",
       "                var nbb_cell_id = 13;\n",
       "                var nbb_unformatted_code = \"# G+A\\nG_plus_Ax, G_plus_Ay = point_addition(Gx, Gy, private_Ax, private_Ay, p, a)\";\n",
       "                var nbb_formatted_code = \"# G+A\\nG_plus_Ax, G_plus_Ay = point_addition(Gx, Gy, private_Ax, private_Ay, p, a)\";\n",
       "                var nbb_cells = Jupyter.notebook.get_cells();\n",
       "                for (var i = 0; i < nbb_cells.length; ++i) {\n",
       "                    if (nbb_cells[i].input_prompt_number == nbb_cell_id) {\n",
       "                        if (nbb_cells[i].get_text() == nbb_unformatted_code) {\n",
       "                             nbb_cells[i].set_text(nbb_formatted_code);\n",
       "                        }\n",
       "                        break;\n",
       "                    }\n",
       "                }\n",
       "            }, 500);\n",
       "            "
      ],
      "text/plain": [
       "<IPython.core.display.Javascript object>"
      ]
     },
     "metadata": {},
     "output_type": "display_data"
    }
   ],
   "source": [
    "# G+A\n",
    "G_plus_Ax, G_plus_Ay = point_addition(Gx, Gy, private_Ax, private_Ay, p, a)"
   ]
  },
  {
   "cell_type": "code",
   "execution_count": 14,
   "metadata": {
    "scrolled": false
   },
   "outputs": [
    {
     "data": {
      "application/javascript": [
       "\n",
       "            setTimeout(function() {\n",
       "                var nbb_cell_id = 14;\n",
       "                var nbb_unformatted_code = \"# A_1 = alpha*(G+A)\\nA1x, A1y = point_multiplication(G_plus_Ax, G_plus_Ay, private_a, p, a)\";\n",
       "                var nbb_formatted_code = \"# A_1 = alpha*(G+A)\\nA1x, A1y = point_multiplication(G_plus_Ax, G_plus_Ay, private_a, p, a)\";\n",
       "                var nbb_cells = Jupyter.notebook.get_cells();\n",
       "                for (var i = 0; i < nbb_cells.length; ++i) {\n",
       "                    if (nbb_cells[i].input_prompt_number == nbb_cell_id) {\n",
       "                        if (nbb_cells[i].get_text() == nbb_unformatted_code) {\n",
       "                             nbb_cells[i].set_text(nbb_formatted_code);\n",
       "                        }\n",
       "                        break;\n",
       "                    }\n",
       "                }\n",
       "            }, 500);\n",
       "            "
      ],
      "text/plain": [
       "<IPython.core.display.Javascript object>"
      ]
     },
     "metadata": {},
     "output_type": "display_data"
    }
   ],
   "source": [
    "# A_1 = alpha*(G+A)\n",
    "A1x, A1y = point_multiplication(G_plus_Ax, G_plus_Ay, private_a, p, a)"
   ]
  },
  {
   "cell_type": "code",
   "execution_count": 15,
   "metadata": {},
   "outputs": [
    {
     "data": {
      "application/javascript": [
       "\n",
       "            setTimeout(function() {\n",
       "                var nbb_cell_id = 15;\n",
       "                var nbb_unformatted_code = \"# A_2 = alpha * A\\nA2x, A2y = point_multiplication(private_Ax, private_Ay, private_a, p, a)\";\n",
       "                var nbb_formatted_code = \"# A_2 = alpha * A\\nA2x, A2y = point_multiplication(private_Ax, private_Ay, private_a, p, a)\";\n",
       "                var nbb_cells = Jupyter.notebook.get_cells();\n",
       "                for (var i = 0; i < nbb_cells.length; ++i) {\n",
       "                    if (nbb_cells[i].input_prompt_number == nbb_cell_id) {\n",
       "                        if (nbb_cells[i].get_text() == nbb_unformatted_code) {\n",
       "                             nbb_cells[i].set_text(nbb_formatted_code);\n",
       "                        }\n",
       "                        break;\n",
       "                    }\n",
       "                }\n",
       "            }, 500);\n",
       "            "
      ],
      "text/plain": [
       "<IPython.core.display.Javascript object>"
      ]
     },
     "metadata": {},
     "output_type": "display_data"
    }
   ],
   "source": [
    "# A_2 = alpha * A\n",
    "A2x, A2y = point_multiplication(private_Ax, private_Ay, private_a, p, a)"
   ]
  },
  {
   "cell_type": "code",
   "execution_count": 16,
   "metadata": {},
   "outputs": [
    {
     "data": {
      "application/javascript": [
       "\n",
       "            setTimeout(function() {\n",
       "                var nbb_cell_id = 16;\n",
       "                var nbb_unformatted_code = \"# G+B\\nG_plus_Bx, G_plus_By = point_addition(Gx, Gy, private_Bx, private_By, p, a)\";\n",
       "                var nbb_formatted_code = \"# G+B\\nG_plus_Bx, G_plus_By = point_addition(Gx, Gy, private_Bx, private_By, p, a)\";\n",
       "                var nbb_cells = Jupyter.notebook.get_cells();\n",
       "                for (var i = 0; i < nbb_cells.length; ++i) {\n",
       "                    if (nbb_cells[i].input_prompt_number == nbb_cell_id) {\n",
       "                        if (nbb_cells[i].get_text() == nbb_unformatted_code) {\n",
       "                             nbb_cells[i].set_text(nbb_formatted_code);\n",
       "                        }\n",
       "                        break;\n",
       "                    }\n",
       "                }\n",
       "            }, 500);\n",
       "            "
      ],
      "text/plain": [
       "<IPython.core.display.Javascript object>"
      ]
     },
     "metadata": {},
     "output_type": "display_data"
    }
   ],
   "source": [
    "# G+B\n",
    "G_plus_Bx, G_plus_By = point_addition(Gx, Gy, private_Bx, private_By, p, a)"
   ]
  },
  {
   "cell_type": "code",
   "execution_count": 17,
   "metadata": {},
   "outputs": [
    {
     "data": {
      "application/javascript": [
       "\n",
       "            setTimeout(function() {\n",
       "                var nbb_cell_id = 17;\n",
       "                var nbb_unformatted_code = \"# B_1 = beta * (G+B)\\nB1x, B1y = point_multiplication(G_plus_Bx, G_plus_By, private_b, p, a)\";\n",
       "                var nbb_formatted_code = \"# B_1 = beta * (G+B)\\nB1x, B1y = point_multiplication(G_plus_Bx, G_plus_By, private_b, p, a)\";\n",
       "                var nbb_cells = Jupyter.notebook.get_cells();\n",
       "                for (var i = 0; i < nbb_cells.length; ++i) {\n",
       "                    if (nbb_cells[i].input_prompt_number == nbb_cell_id) {\n",
       "                        if (nbb_cells[i].get_text() == nbb_unformatted_code) {\n",
       "                             nbb_cells[i].set_text(nbb_formatted_code);\n",
       "                        }\n",
       "                        break;\n",
       "                    }\n",
       "                }\n",
       "            }, 500);\n",
       "            "
      ],
      "text/plain": [
       "<IPython.core.display.Javascript object>"
      ]
     },
     "metadata": {},
     "output_type": "display_data"
    }
   ],
   "source": [
    "# B_1 = beta * (G+B)\n",
    "B1x, B1y = point_multiplication(G_plus_Bx, G_plus_By, private_b, p, a)"
   ]
  },
  {
   "cell_type": "code",
   "execution_count": 18,
   "metadata": {},
   "outputs": [
    {
     "data": {
      "application/javascript": [
       "\n",
       "            setTimeout(function() {\n",
       "                var nbb_cell_id = 18;\n",
       "                var nbb_unformatted_code = \"# B_2 = beta * B\\nB2x, B2y = point_multiplication(private_Bx, private_By, private_b, p, a)\";\n",
       "                var nbb_formatted_code = \"# B_2 = beta * B\\nB2x, B2y = point_multiplication(private_Bx, private_By, private_b, p, a)\";\n",
       "                var nbb_cells = Jupyter.notebook.get_cells();\n",
       "                for (var i = 0; i < nbb_cells.length; ++i) {\n",
       "                    if (nbb_cells[i].input_prompt_number == nbb_cell_id) {\n",
       "                        if (nbb_cells[i].get_text() == nbb_unformatted_code) {\n",
       "                             nbb_cells[i].set_text(nbb_formatted_code);\n",
       "                        }\n",
       "                        break;\n",
       "                    }\n",
       "                }\n",
       "            }, 500);\n",
       "            "
      ],
      "text/plain": [
       "<IPython.core.display.Javascript object>"
      ]
     },
     "metadata": {},
     "output_type": "display_data"
    }
   ],
   "source": [
    "# B_2 = beta * B\n",
    "B2x, B2y = point_multiplication(private_Bx, private_By, private_b, p, a)"
   ]
  },
  {
   "cell_type": "code",
   "execution_count": 19,
   "metadata": {},
   "outputs": [
    {
     "data": {
      "application/javascript": [
       "\n",
       "            setTimeout(function() {\n",
       "                var nbb_cell_id = 19;\n",
       "                var nbb_unformatted_code = \"# A_B = alpha * B_2\\nA_Bx, A_By = point_multiplication(B2x, B2y, private_a, p, a)\";\n",
       "                var nbb_formatted_code = \"# A_B = alpha * B_2\\nA_Bx, A_By = point_multiplication(B2x, B2y, private_a, p, a)\";\n",
       "                var nbb_cells = Jupyter.notebook.get_cells();\n",
       "                for (var i = 0; i < nbb_cells.length; ++i) {\n",
       "                    if (nbb_cells[i].input_prompt_number == nbb_cell_id) {\n",
       "                        if (nbb_cells[i].get_text() == nbb_unformatted_code) {\n",
       "                             nbb_cells[i].set_text(nbb_formatted_code);\n",
       "                        }\n",
       "                        break;\n",
       "                    }\n",
       "                }\n",
       "            }, 500);\n",
       "            "
      ],
      "text/plain": [
       "<IPython.core.display.Javascript object>"
      ]
     },
     "metadata": {},
     "output_type": "display_data"
    }
   ],
   "source": [
    "# A_B = alpha * B_2\n",
    "A_Bx, A_By = point_multiplication(B2x, B2y, private_a, p, a)"
   ]
  },
  {
   "cell_type": "code",
   "execution_count": 20,
   "metadata": {},
   "outputs": [
    {
     "data": {
      "application/javascript": [
       "\n",
       "            setTimeout(function() {\n",
       "                var nbb_cell_id = 20;\n",
       "                var nbb_unformatted_code = \"# B_A = beta * A_2\\nB_Ax, B_Ay = point_multiplication(A2x, A2y, private_b, p, a)\";\n",
       "                var nbb_formatted_code = \"# B_A = beta * A_2\\nB_Ax, B_Ay = point_multiplication(A2x, A2y, private_b, p, a)\";\n",
       "                var nbb_cells = Jupyter.notebook.get_cells();\n",
       "                for (var i = 0; i < nbb_cells.length; ++i) {\n",
       "                    if (nbb_cells[i].input_prompt_number == nbb_cell_id) {\n",
       "                        if (nbb_cells[i].get_text() == nbb_unformatted_code) {\n",
       "                             nbb_cells[i].set_text(nbb_formatted_code);\n",
       "                        }\n",
       "                        break;\n",
       "                    }\n",
       "                }\n",
       "            }, 500);\n",
       "            "
      ],
      "text/plain": [
       "<IPython.core.display.Javascript object>"
      ]
     },
     "metadata": {},
     "output_type": "display_data"
    }
   ],
   "source": [
    "# B_A = beta * A_2\n",
    "B_Ax, B_Ay = point_multiplication(A2x, A2y, private_b, p, a)"
   ]
  },
  {
   "cell_type": "code",
   "execution_count": 21,
   "metadata": {
    "scrolled": true
   },
   "outputs": [
    {
     "data": {
      "application/javascript": [
       "\n",
       "            setTimeout(function() {\n",
       "                var nbb_cell_id = 21;\n",
       "                var nbb_unformatted_code = \"# (beta + 1) * A_1\\nb_plus_one_A1 = point_multiplication(A1x, A1y, (private_b + 1), p, a)\\n\\n# (beta + 1)*A_1 - A_2\\nb_plus_one_A1_minus_A2 = point_subtraction(\\n    b_plus_one_A1[0], b_plus_one_A1[1], A2x, A2y, p, a\\n)\\n\\n# (beta + 1)*A_1 - A_2 + A_B\\nadded_to_M = point_addition(\\n    b_plus_one_A1_minus_A2[0], b_plus_one_A1_minus_A2[1], A_Bx, A_By, p, a\\n)\";\n",
       "                var nbb_formatted_code = \"# (beta + 1) * A_1\\nb_plus_one_A1 = point_multiplication(A1x, A1y, (private_b + 1), p, a)\\n\\n# (beta + 1)*A_1 - A_2\\nb_plus_one_A1_minus_A2 = point_subtraction(\\n    b_plus_one_A1[0], b_plus_one_A1[1], A2x, A2y, p, a\\n)\\n\\n# (beta + 1)*A_1 - A_2 + A_B\\nadded_to_M = point_addition(\\n    b_plus_one_A1_minus_A2[0], b_plus_one_A1_minus_A2[1], A_Bx, A_By, p, a\\n)\";\n",
       "                var nbb_cells = Jupyter.notebook.get_cells();\n",
       "                for (var i = 0; i < nbb_cells.length; ++i) {\n",
       "                    if (nbb_cells[i].input_prompt_number == nbb_cell_id) {\n",
       "                        if (nbb_cells[i].get_text() == nbb_unformatted_code) {\n",
       "                             nbb_cells[i].set_text(nbb_formatted_code);\n",
       "                        }\n",
       "                        break;\n",
       "                    }\n",
       "                }\n",
       "            }, 500);\n",
       "            "
      ],
      "text/plain": [
       "<IPython.core.display.Javascript object>"
      ]
     },
     "metadata": {},
     "output_type": "display_data"
    }
   ],
   "source": [
    "# (beta + 1) * A_1\n",
    "b_plus_one_A1 = point_multiplication(A1x, A1y, (private_b + 1), p, a)\n",
    "\n",
    "# (beta + 1)*A_1 - A_2\n",
    "b_plus_one_A1_minus_A2 = point_subtraction(\n",
    "    b_plus_one_A1[0], b_plus_one_A1[1], A2x, A2y, p, a\n",
    ")\n",
    "\n",
    "# (beta + 1)*A_1 - A_2 + A_B\n",
    "added_to_M = point_addition(\n",
    "    b_plus_one_A1_minus_A2[0], b_plus_one_A1_minus_A2[1], A_Bx, A_By, p, a\n",
    ")"
   ]
  },
  {
   "cell_type": "code",
   "execution_count": 22,
   "metadata": {},
   "outputs": [
    {
     "name": "stdout",
     "output_type": "stream",
     "text": [
      "405000\n",
      "810000\n"
     ]
    },
    {
     "data": {
      "application/javascript": [
       "\n",
       "            setTimeout(function() {\n",
       "                var nbb_cell_id = 22;\n",
       "                var nbb_unformatted_code = \"coordinates, variables = imagePointsArray.shape\\nencrypted_array = []\\nremainder_array = []\\nprint(coordinates)\\nr = coordinates\\nfor i in range(coordinates):\\n    # M + (beta + 1)*A_1 - A_2 + A_B\\n    EP = point_addition(\\n        imagePointsArray[i][0],\\n        imagePointsArray[i][1],\\n        added_to_M[0],\\n        added_to_M[1],\\n        p,\\n        a,\\n    )\\n    encrypted_array.append(EP[0])\\n    encrypted_array.append(EP[1])\\nprint(len(encrypted_array))\";\n",
       "                var nbb_formatted_code = \"coordinates, variables = imagePointsArray.shape\\nencrypted_array = []\\nremainder_array = []\\nprint(coordinates)\\nr = coordinates\\nfor i in range(coordinates):\\n    # M + (beta + 1)*A_1 - A_2 + A_B\\n    EP = point_addition(\\n        imagePointsArray[i][0],\\n        imagePointsArray[i][1],\\n        added_to_M[0],\\n        added_to_M[1],\\n        p,\\n        a,\\n    )\\n    encrypted_array.append(EP[0])\\n    encrypted_array.append(EP[1])\\nprint(len(encrypted_array))\";\n",
       "                var nbb_cells = Jupyter.notebook.get_cells();\n",
       "                for (var i = 0; i < nbb_cells.length; ++i) {\n",
       "                    if (nbb_cells[i].input_prompt_number == nbb_cell_id) {\n",
       "                        if (nbb_cells[i].get_text() == nbb_unformatted_code) {\n",
       "                             nbb_cells[i].set_text(nbb_formatted_code);\n",
       "                        }\n",
       "                        break;\n",
       "                    }\n",
       "                }\n",
       "            }, 500);\n",
       "            "
      ],
      "text/plain": [
       "<IPython.core.display.Javascript object>"
      ]
     },
     "metadata": {},
     "output_type": "display_data"
    }
   ],
   "source": [
    "coordinates, variables = imagePointsArray.shape\n",
    "encrypted_array = []\n",
    "remainder_array = []\n",
    "print(coordinates)\n",
    "r = coordinates\n",
    "for i in range(coordinates):\n",
    "    # M + (beta + 1)*A_1 - A_2 + A_B\n",
    "    EP = point_addition(\n",
    "        imagePointsArray[i][0],\n",
    "        imagePointsArray[i][1],\n",
    "        added_to_M[0],\n",
    "        added_to_M[1],\n",
    "        p,\n",
    "        a,\n",
    "    )\n",
    "    encrypted_array.append(EP[0])\n",
    "    encrypted_array.append(EP[1])\n",
    "print(len(encrypted_array))"
   ]
  },
  {
   "cell_type": "code",
   "execution_count": 23,
   "metadata": {},
   "outputs": [
    {
     "data": {
      "application/javascript": [
       "\n",
       "            setTimeout(function() {\n",
       "                var nbb_cell_id = 23;\n",
       "                var nbb_unformatted_code = \"final_encrypted_array = []\\nfor i in range(len(encrypted_array)):\\n    scaled_value = encrypted_array[i] % 256\\n    divisor = encrypted_array[i] // 256\\n    final_encrypted_array.append(scaled_value)\\n    final_encrypted_array.append(divisor)\";\n",
       "                var nbb_formatted_code = \"final_encrypted_array = []\\nfor i in range(len(encrypted_array)):\\n    scaled_value = encrypted_array[i] % 256\\n    divisor = encrypted_array[i] // 256\\n    final_encrypted_array.append(scaled_value)\\n    final_encrypted_array.append(divisor)\";\n",
       "                var nbb_cells = Jupyter.notebook.get_cells();\n",
       "                for (var i = 0; i < nbb_cells.length; ++i) {\n",
       "                    if (nbb_cells[i].input_prompt_number == nbb_cell_id) {\n",
       "                        if (nbb_cells[i].get_text() == nbb_unformatted_code) {\n",
       "                             nbb_cells[i].set_text(nbb_formatted_code);\n",
       "                        }\n",
       "                        break;\n",
       "                    }\n",
       "                }\n",
       "            }, 500);\n",
       "            "
      ],
      "text/plain": [
       "<IPython.core.display.Javascript object>"
      ]
     },
     "metadata": {},
     "output_type": "display_data"
    }
   ],
   "source": [
    "final_encrypted_array = []\n",
    "for i in range(len(encrypted_array)):\n",
    "    scaled_value = encrypted_array[i] % 256\n",
    "    divisor = encrypted_array[i] // 256\n",
    "    final_encrypted_array.append(scaled_value)\n",
    "    final_encrypted_array.append(divisor)"
   ]
  },
  {
   "cell_type": "code",
   "execution_count": 24,
   "metadata": {},
   "outputs": [
    {
     "data": {
      "application/javascript": [
       "\n",
       "            setTimeout(function() {\n",
       "                var nbb_cell_id = 24;\n",
       "                var nbb_unformatted_code = \"encryption_arr = np.array(final_encrypted_array, dtype=int)\\nencryption_arr = np.reshape(encryption_arr, (2 * x, y, 3), order=\\\"C\\\")\";\n",
       "                var nbb_formatted_code = \"encryption_arr = np.array(final_encrypted_array, dtype=int)\\nencryption_arr = np.reshape(encryption_arr, (2 * x, y, 3), order=\\\"C\\\")\";\n",
       "                var nbb_cells = Jupyter.notebook.get_cells();\n",
       "                for (var i = 0; i < nbb_cells.length; ++i) {\n",
       "                    if (nbb_cells[i].input_prompt_number == nbb_cell_id) {\n",
       "                        if (nbb_cells[i].get_text() == nbb_unformatted_code) {\n",
       "                             nbb_cells[i].set_text(nbb_formatted_code);\n",
       "                        }\n",
       "                        break;\n",
       "                    }\n",
       "                }\n",
       "            }, 500);\n",
       "            "
      ],
      "text/plain": [
       "<IPython.core.display.Javascript object>"
      ]
     },
     "metadata": {},
     "output_type": "display_data"
    }
   ],
   "source": [
    "encryption_arr = np.array(final_encrypted_array, dtype=int)\n",
    "encryption_arr = np.reshape(encryption_arr, (2 * x, y, 3), order=\"C\")"
   ]
  },
  {
   "cell_type": "code",
   "execution_count": 25,
   "metadata": {
    "scrolled": true
   },
   "outputs": [
    {
     "data": {
      "application/javascript": [
       "\n",
       "            setTimeout(function() {\n",
       "                var nbb_cell_id = 25;\n",
       "                var nbb_unformatted_code = \"e_data = im.fromarray(encryption_arr.astype(np.uint8))\\ne_data.show()\";\n",
       "                var nbb_formatted_code = \"e_data = im.fromarray(encryption_arr.astype(np.uint8))\\ne_data.show()\";\n",
       "                var nbb_cells = Jupyter.notebook.get_cells();\n",
       "                for (var i = 0; i < nbb_cells.length; ++i) {\n",
       "                    if (nbb_cells[i].input_prompt_number == nbb_cell_id) {\n",
       "                        if (nbb_cells[i].get_text() == nbb_unformatted_code) {\n",
       "                             nbb_cells[i].set_text(nbb_formatted_code);\n",
       "                        }\n",
       "                        break;\n",
       "                    }\n",
       "                }\n",
       "            }, 500);\n",
       "            "
      ],
      "text/plain": [
       "<IPython.core.display.Javascript object>"
      ]
     },
     "metadata": {},
     "output_type": "display_data"
    }
   ],
   "source": [
    "e_data = im.fromarray(encryption_arr.astype(np.uint8))\n",
    "e_data.show()"
   ]
  },
  {
   "cell_type": "code",
   "execution_count": 26,
   "metadata": {
    "scrolled": true
   },
   "outputs": [
    {
     "name": "stdout",
     "output_type": "stream",
     "text": [
      "900 600 3\n",
      "(900, 600, 3)\n"
     ]
    },
    {
     "data": {
      "application/javascript": [
       "\n",
       "            setTimeout(function() {\n",
       "                var nbb_cell_id = 26;\n",
       "                var nbb_unformatted_code = \"# Decryption\\ndata = np.asarray(e_data)\\nx, y, z = data.shape\\nprint(x, y, z)\\nprint(data.shape)\\n# print(data)\";\n",
       "                var nbb_formatted_code = \"# Decryption\\ndata = np.asarray(e_data)\\nx, y, z = data.shape\\nprint(x, y, z)\\nprint(data.shape)\\n# print(data)\";\n",
       "                var nbb_cells = Jupyter.notebook.get_cells();\n",
       "                for (var i = 0; i < nbb_cells.length; ++i) {\n",
       "                    if (nbb_cells[i].input_prompt_number == nbb_cell_id) {\n",
       "                        if (nbb_cells[i].get_text() == nbb_unformatted_code) {\n",
       "                             nbb_cells[i].set_text(nbb_formatted_code);\n",
       "                        }\n",
       "                        break;\n",
       "                    }\n",
       "                }\n",
       "            }, 500);\n",
       "            "
      ],
      "text/plain": [
       "<IPython.core.display.Javascript object>"
      ]
     },
     "metadata": {},
     "output_type": "display_data"
    }
   ],
   "source": [
    "# Decryption\n",
    "data = np.asarray(e_data)\n",
    "x, y, z = data.shape\n",
    "print(x, y, z)\n",
    "print(data.shape)\n",
    "# print(data)"
   ]
  },
  {
   "cell_type": "code",
   "execution_count": 27,
   "metadata": {},
   "outputs": [
    {
     "name": "stdout",
     "output_type": "stream",
     "text": [
      "1620000\n",
      "214 87 168 19\n"
     ]
    },
    {
     "data": {
      "application/javascript": [
       "\n",
       "            setTimeout(function() {\n",
       "                var nbb_cell_id = 27;\n",
       "                var nbb_unformatted_code = \"arr = []\\nfor i in range(x):\\n    for j in range(y):\\n        for k in range(z):\\n            arr.append(data[i][j][k])\\nprint(len(arr))\\nprint(arr[0], arr[1], arr[2], arr[3])\\n# print(arr)\";\n",
       "                var nbb_formatted_code = \"arr = []\\nfor i in range(x):\\n    for j in range(y):\\n        for k in range(z):\\n            arr.append(data[i][j][k])\\nprint(len(arr))\\nprint(arr[0], arr[1], arr[2], arr[3])\\n# print(arr)\";\n",
       "                var nbb_cells = Jupyter.notebook.get_cells();\n",
       "                for (var i = 0; i < nbb_cells.length; ++i) {\n",
       "                    if (nbb_cells[i].input_prompt_number == nbb_cell_id) {\n",
       "                        if (nbb_cells[i].get_text() == nbb_unformatted_code) {\n",
       "                             nbb_cells[i].set_text(nbb_formatted_code);\n",
       "                        }\n",
       "                        break;\n",
       "                    }\n",
       "                }\n",
       "            }, 500);\n",
       "            "
      ],
      "text/plain": [
       "<IPython.core.display.Javascript object>"
      ]
     },
     "metadata": {},
     "output_type": "display_data"
    }
   ],
   "source": [
    "arr = []\n",
    "for i in range(x):\n",
    "    for j in range(y):\n",
    "        for k in range(z):\n",
    "            arr.append(data[i][j][k])\n",
    "print(len(arr))\n",
    "print(arr[0], arr[1], arr[2], arr[3])\n",
    "# print(arr)"
   ]
  },
  {
   "cell_type": "code",
   "execution_count": 28,
   "metadata": {},
   "outputs": [
    {
     "name": "stdout",
     "output_type": "stream",
     "text": [
      "270000\n",
      "1620000\n"
     ]
    },
    {
     "data": {
      "application/javascript": [
       "\n",
       "            setTimeout(function() {\n",
       "                var nbb_cell_id = 28;\n",
       "                var nbb_unformatted_code = \"totalPixs = (x // 2) * y\\nprint(totalPixs)\\ntotalValues = x * y * z\\nprint(totalValues)\";\n",
       "                var nbb_formatted_code = \"totalPixs = (x // 2) * y\\nprint(totalPixs)\\ntotalValues = x * y * z\\nprint(totalValues)\";\n",
       "                var nbb_cells = Jupyter.notebook.get_cells();\n",
       "                for (var i = 0; i < nbb_cells.length; ++i) {\n",
       "                    if (nbb_cells[i].input_prompt_number == nbb_cell_id) {\n",
       "                        if (nbb_cells[i].get_text() == nbb_unformatted_code) {\n",
       "                             nbb_cells[i].set_text(nbb_formatted_code);\n",
       "                        }\n",
       "                        break;\n",
       "                    }\n",
       "                }\n",
       "            }, 500);\n",
       "            "
      ],
      "text/plain": [
       "<IPython.core.display.Javascript object>"
      ]
     },
     "metadata": {},
     "output_type": "display_data"
    }
   ],
   "source": [
    "totalPixs = (x // 2) * y\n",
    "print(totalPixs)\n",
    "totalValues = x * y * z\n",
    "print(totalValues)"
   ]
  },
  {
   "cell_type": "code",
   "execution_count": 29,
   "metadata": {
    "scrolled": false
   },
   "outputs": [
    {
     "name": "stdout",
     "output_type": "stream",
     "text": [
      "810000\n"
     ]
    },
    {
     "data": {
      "application/javascript": [
       "\n",
       "            setTimeout(function() {\n",
       "                var nbb_cell_id = 29;\n",
       "                var nbb_unformatted_code = \"apply_divisor = np.reshape(arr, (totalValues // 2, 2), order=\\\"C\\\")\\napplied_data = []\\nfor i in range(totalValues // 2):\\n    newValue = apply_divisor[i][1] * 256 + apply_divisor[i][0]\\n    applied_data.append(newValue)\\nprint(len(applied_data))\";\n",
       "                var nbb_formatted_code = \"apply_divisor = np.reshape(arr, (totalValues // 2, 2), order=\\\"C\\\")\\napplied_data = []\\nfor i in range(totalValues // 2):\\n    newValue = apply_divisor[i][1] * 256 + apply_divisor[i][0]\\n    applied_data.append(newValue)\\nprint(len(applied_data))\";\n",
       "                var nbb_cells = Jupyter.notebook.get_cells();\n",
       "                for (var i = 0; i < nbb_cells.length; ++i) {\n",
       "                    if (nbb_cells[i].input_prompt_number == nbb_cell_id) {\n",
       "                        if (nbb_cells[i].get_text() == nbb_unformatted_code) {\n",
       "                             nbb_cells[i].set_text(nbb_formatted_code);\n",
       "                        }\n",
       "                        break;\n",
       "                    }\n",
       "                }\n",
       "            }, 500);\n",
       "            "
      ],
      "text/plain": [
       "<IPython.core.display.Javascript object>"
      ]
     },
     "metadata": {},
     "output_type": "display_data"
    }
   ],
   "source": [
    "apply_divisor = np.reshape(arr, (totalValues // 2, 2), order=\"C\")\n",
    "applied_data = []\n",
    "for i in range(totalValues // 2):\n",
    "    newValue = apply_divisor[i][1] * 256 + apply_divisor[i][0]\n",
    "    applied_data.append(newValue)\n",
    "print(len(applied_data))"
   ]
  },
  {
   "cell_type": "code",
   "execution_count": 30,
   "metadata": {},
   "outputs": [
    {
     "data": {
      "application/javascript": [
       "\n",
       "            setTimeout(function() {\n",
       "                var nbb_cell_id = 30;\n",
       "                var nbb_unformatted_code = \"x = x // 2\";\n",
       "                var nbb_formatted_code = \"x = x // 2\";\n",
       "                var nbb_cells = Jupyter.notebook.get_cells();\n",
       "                for (var i = 0; i < nbb_cells.length; ++i) {\n",
       "                    if (nbb_cells[i].input_prompt_number == nbb_cell_id) {\n",
       "                        if (nbb_cells[i].get_text() == nbb_unformatted_code) {\n",
       "                             nbb_cells[i].set_text(nbb_formatted_code);\n",
       "                        }\n",
       "                        break;\n",
       "                    }\n",
       "                }\n",
       "            }, 500);\n",
       "            "
      ],
      "text/plain": [
       "<IPython.core.display.Javascript object>"
      ]
     },
     "metadata": {},
     "output_type": "display_data"
    }
   ],
   "source": [
    "x = x // 2"
   ]
  },
  {
   "cell_type": "code",
   "execution_count": 31,
   "metadata": {},
   "outputs": [
    {
     "name": "stdout",
     "output_type": "stream",
     "text": [
      "[[22486  5032]\n",
      " [37757 59283]\n",
      " [ 6378 32057]\n",
      " ...\n",
      " [36285   261]\n",
      " [19764 50280]\n",
      " [56400 64693]]\n"
     ]
    },
    {
     "data": {
      "application/javascript": [
       "\n",
       "            setTimeout(function() {\n",
       "                var nbb_cell_id = 31;\n",
       "                var nbb_unformatted_code = \"newTotal = x * y * z\\nEmPointsArray = np.reshape(applied_data, (newTotal // 2, 2), order=\\\"C\\\")\\nprint(EmPointsArray)\";\n",
       "                var nbb_formatted_code = \"newTotal = x * y * z\\nEmPointsArray = np.reshape(applied_data, (newTotal // 2, 2), order=\\\"C\\\")\\nprint(EmPointsArray)\";\n",
       "                var nbb_cells = Jupyter.notebook.get_cells();\n",
       "                for (var i = 0; i < nbb_cells.length; ++i) {\n",
       "                    if (nbb_cells[i].input_prompt_number == nbb_cell_id) {\n",
       "                        if (nbb_cells[i].get_text() == nbb_unformatted_code) {\n",
       "                             nbb_cells[i].set_text(nbb_formatted_code);\n",
       "                        }\n",
       "                        break;\n",
       "                    }\n",
       "                }\n",
       "            }, 500);\n",
       "            "
      ],
      "text/plain": [
       "<IPython.core.display.Javascript object>"
      ]
     },
     "metadata": {},
     "output_type": "display_data"
    }
   ],
   "source": [
    "newTotal = x * y * z\n",
    "EmPointsArray = np.reshape(applied_data, (newTotal // 2, 2), order=\"C\")\n",
    "print(EmPointsArray)"
   ]
  },
  {
   "cell_type": "code",
   "execution_count": 32,
   "metadata": {},
   "outputs": [
    {
     "data": {
      "application/javascript": [
       "\n",
       "            setTimeout(function() {\n",
       "                var nbb_cell_id = 32;\n",
       "                var nbb_unformatted_code = \"# G + B_1\\nG_plus_B1 = point_addition(Gx, Gy, B1x, B1y, p, a)\\n\\n# alpha * (G+B_1) = alpha*G + alpha*B_1\\nprivate_a_G_plus_B1 = point_multiplication(G_plus_B1[0], G_plus_B1[1], private_a, p, a)\\n\\n# alpha * (G+B_1) + B_A\\nprivate_a_G_plus_B1_plus_BA = point_addition(\\n    private_a_G_plus_B1[0], private_a_G_plus_B1[1], B_Ax, B_Ay, p, a\\n)\";\n",
       "                var nbb_formatted_code = \"# G + B_1\\nG_plus_B1 = point_addition(Gx, Gy, B1x, B1y, p, a)\\n\\n# alpha * (G+B_1) = alpha*G + alpha*B_1\\nprivate_a_G_plus_B1 = point_multiplication(G_plus_B1[0], G_plus_B1[1], private_a, p, a)\\n\\n# alpha * (G+B_1) + B_A\\nprivate_a_G_plus_B1_plus_BA = point_addition(\\n    private_a_G_plus_B1[0], private_a_G_plus_B1[1], B_Ax, B_Ay, p, a\\n)\";\n",
       "                var nbb_cells = Jupyter.notebook.get_cells();\n",
       "                for (var i = 0; i < nbb_cells.length; ++i) {\n",
       "                    if (nbb_cells[i].input_prompt_number == nbb_cell_id) {\n",
       "                        if (nbb_cells[i].get_text() == nbb_unformatted_code) {\n",
       "                             nbb_cells[i].set_text(nbb_formatted_code);\n",
       "                        }\n",
       "                        break;\n",
       "                    }\n",
       "                }\n",
       "            }, 500);\n",
       "            "
      ],
      "text/plain": [
       "<IPython.core.display.Javascript object>"
      ]
     },
     "metadata": {},
     "output_type": "display_data"
    }
   ],
   "source": [
    "# G + B_1\n",
    "G_plus_B1 = point_addition(Gx, Gy, B1x, B1y, p, a)\n",
    "\n",
    "# alpha * (G+B_1) = alpha*G + alpha*B_1\n",
    "private_a_G_plus_B1 = point_multiplication(G_plus_B1[0], G_plus_B1[1], private_a, p, a)\n",
    "\n",
    "# alpha * (G+B_1) + B_A\n",
    "private_a_G_plus_B1_plus_BA = point_addition(\n",
    "    private_a_G_plus_B1[0], private_a_G_plus_B1[1], B_Ax, B_Ay, p, a\n",
    ")"
   ]
  },
  {
   "cell_type": "code",
   "execution_count": 33,
   "metadata": {},
   "outputs": [
    {
     "name": "stdout",
     "output_type": "stream",
     "text": [
      "405000\n"
     ]
    },
    {
     "data": {
      "application/javascript": [
       "\n",
       "            setTimeout(function() {\n",
       "                var nbb_cell_id = 33;\n",
       "                var nbb_unformatted_code = \"coordinates, variables = EmPointsArray.shape\\ndecrypted_array = []\\nprint(coordinates)\\nr=coordinates\\nfor i in range(coordinates):\\n    #C_E - (alpha * (G+B_1) + B_A)\\n    DP = point_subtraction(EmPointsArray[i][0],EmPointsArray[i][1],private_a_G_plus_B1_plus_BA[0],private_a_G_plus_B1_plus_BA[1],p,a)\\n    decrypted_array.append(DP[0])\\n    decrypted_array.append(DP[1])\";\n",
       "                var nbb_formatted_code = \"coordinates, variables = EmPointsArray.shape\\ndecrypted_array = []\\nprint(coordinates)\\nr = coordinates\\nfor i in range(coordinates):\\n    # C_E - (alpha * (G+B_1) + B_A)\\n    DP = point_subtraction(\\n        EmPointsArray[i][0],\\n        EmPointsArray[i][1],\\n        private_a_G_plus_B1_plus_BA[0],\\n        private_a_G_plus_B1_plus_BA[1],\\n        p,\\n        a,\\n    )\\n    decrypted_array.append(DP[0])\\n    decrypted_array.append(DP[1])\";\n",
       "                var nbb_cells = Jupyter.notebook.get_cells();\n",
       "                for (var i = 0; i < nbb_cells.length; ++i) {\n",
       "                    if (nbb_cells[i].input_prompt_number == nbb_cell_id) {\n",
       "                        if (nbb_cells[i].get_text() == nbb_unformatted_code) {\n",
       "                             nbb_cells[i].set_text(nbb_formatted_code);\n",
       "                        }\n",
       "                        break;\n",
       "                    }\n",
       "                }\n",
       "            }, 500);\n",
       "            "
      ],
      "text/plain": [
       "<IPython.core.display.Javascript object>"
      ]
     },
     "metadata": {},
     "output_type": "display_data"
    }
   ],
   "source": [
    "coordinates, variables = EmPointsArray.shape\n",
    "decrypted_array = []\n",
    "print(coordinates)\n",
    "r=coordinates\n",
    "for i in range(coordinates):\n",
    "    #C_E - (alpha * (G+B_1) + B_A)\n",
    "    DP = point_subtraction(EmPointsArray[i][0],EmPointsArray[i][1],private_a_G_plus_B1_plus_BA[0],private_a_G_plus_B1_plus_BA[1],p,a)\n",
    "    decrypted_array.append(DP[0])\n",
    "    decrypted_array.append(DP[1])\n"
   ]
  },
  {
   "cell_type": "code",
   "execution_count": 34,
   "metadata": {},
   "outputs": [
    {
     "data": {
      "text/plain": [
       "array([[[ 342303,  951156,   99759],\n",
       "        [  50820,  520054,  828210],\n",
       "        [ 194345,  775927, 1013484],\n",
       "        ...,\n",
       "        [ 745624,  649264,  974740],\n",
       "        [ 689669,  448882,  402111],\n",
       "        [ 915628,  253697,   40576]],\n",
       "\n",
       "       [[ 428199,  404642,  746686],\n",
       "        [ 819646,  239325,  572714],\n",
       "        [  23239,  138522,  654611],\n",
       "        ...,\n",
       "        [ 770832,   40057,   67874],\n",
       "        [ 800146,   37484,  644708],\n",
       "        [ 301009,  407311,  580489]],\n",
       "\n",
       "       [[ 428199,  404642,  746686],\n",
       "        [ 819646,  239325,  572714],\n",
       "        [  23239,  138522,  654611],\n",
       "        ...,\n",
       "        [ 525605,  656665,  746289],\n",
       "        [ 755155,  252336,  464843],\n",
       "        [ 449206,  843709,  718971]],\n",
       "\n",
       "       ...,\n",
       "\n",
       "       [[ 387356,  238385,  329644],\n",
       "        [ 376871,  794019,  705064],\n",
       "        [ 680458,  405888,  671311],\n",
       "        ...,\n",
       "        [ 583443,   34070,  809433],\n",
       "        [  13097,  626617,  692317],\n",
       "        [ 272276,  596232,  544581]],\n",
       "\n",
       "       [[ 338900,  640758, 1024152],\n",
       "        [ 216227,  414774,  237374],\n",
       "        [ 561988,  599054,  815908],\n",
       "        ...,\n",
       "        [ 535024,  424933,  498792],\n",
       "        [  41635,  275837,  858984],\n",
       "        [ 787475,  856500,  555990]],\n",
       "\n",
       "       [[  64972,  953261,  436645],\n",
       "        [ 565153,  482384,  946976],\n",
       "        [ 720262,  714467,  848015],\n",
       "        ...,\n",
       "        [ 860775,  468286,  375655],\n",
       "        [ 880633,  794408,  116245],\n",
       "        [  40495,  544447, 1044971]]])"
      ]
     },
     "execution_count": 34,
     "metadata": {},
     "output_type": "execute_result"
    },
    {
     "data": {
      "application/javascript": [
       "\n",
       "            setTimeout(function() {\n",
       "                var nbb_cell_id = 34;\n",
       "                var nbb_unformatted_code = \"decryption_arr = np.array(decrypted_array, dtype=int)\\ndecryption_arr = np.reshape(decryption_arr, (x, y, z), order=\\\"C\\\")\\ndecryption_arr\";\n",
       "                var nbb_formatted_code = \"decryption_arr = np.array(decrypted_array, dtype=int)\\ndecryption_arr = np.reshape(decryption_arr, (x, y, z), order=\\\"C\\\")\\ndecryption_arr\";\n",
       "                var nbb_cells = Jupyter.notebook.get_cells();\n",
       "                for (var i = 0; i < nbb_cells.length; ++i) {\n",
       "                    if (nbb_cells[i].input_prompt_number == nbb_cell_id) {\n",
       "                        if (nbb_cells[i].get_text() == nbb_unformatted_code) {\n",
       "                             nbb_cells[i].set_text(nbb_formatted_code);\n",
       "                        }\n",
       "                        break;\n",
       "                    }\n",
       "                }\n",
       "            }, 500);\n",
       "            "
      ],
      "text/plain": [
       "<IPython.core.display.Javascript object>"
      ]
     },
     "metadata": {},
     "output_type": "display_data"
    }
   ],
   "source": [
    "decryption_arr = np.array(decrypted_array, dtype=int)\n",
    "decryption_arr = np.reshape(decryption_arr, (x, y, z), order=\"C\")\n",
    "decryption_arr"
   ]
  },
  {
   "cell_type": "code",
   "execution_count": 35,
   "metadata": {},
   "outputs": [
    {
     "data": {
      "application/javascript": [
       "\n",
       "            setTimeout(function() {\n",
       "                var nbb_cell_id = 35;\n",
       "                var nbb_unformatted_code = \"d_data = im.fromarray(decryption_arr.astype(np.uint8))\\nd_data.show()\";\n",
       "                var nbb_formatted_code = \"d_data = im.fromarray(decryption_arr.astype(np.uint8))\\nd_data.show()\";\n",
       "                var nbb_cells = Jupyter.notebook.get_cells();\n",
       "                for (var i = 0; i < nbb_cells.length; ++i) {\n",
       "                    if (nbb_cells[i].input_prompt_number == nbb_cell_id) {\n",
       "                        if (nbb_cells[i].get_text() == nbb_unformatted_code) {\n",
       "                             nbb_cells[i].set_text(nbb_formatted_code);\n",
       "                        }\n",
       "                        break;\n",
       "                    }\n",
       "                }\n",
       "            }, 500);\n",
       "            "
      ],
      "text/plain": [
       "<IPython.core.display.Javascript object>"
      ]
     },
     "metadata": {},
     "output_type": "display_data"
    }
   ],
   "source": [
    "d_data = im.fromarray(decryption_arr.astype(np.uint8))\n",
    "d_data.show()"
   ]
  }
 ],
 "metadata": {
  "kernelspec": {
   "display_name": "Python 3",
   "language": "python",
   "name": "python3"
  },
  "language_info": {
   "codemirror_mode": {
    "name": "ipython",
    "version": 3
   },
   "file_extension": ".py",
   "mimetype": "text/x-python",
   "name": "python",
   "nbconvert_exporter": "python",
   "pygments_lexer": "ipython3",
   "version": "3.8.3"
  }
 },
 "nbformat": 4,
 "nbformat_minor": 4
}
