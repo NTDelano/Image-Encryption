{
 "cells": [
  {
   "cell_type": "code",
   "execution_count": 1,
   "metadata": {},
   "outputs": [],
   "source": [
    "# Imports with all of my tools\n",
    "from sklearn.cluster import KMeans\n",
    "import matplotlib.pyplot as plt\n",
    "import numpy as np\n",
    "import cv2\n",
    "from collections import Counter\n",
    "from skimage.color import rgb2lab, deltaE_cie76\n",
    "import os\n",
    "import random\n",
    "from sympy import mod_inverse\n",
    "from PIL import Image as im\n",
    "\n",
    "%matplotlib inline\n",
    "\n",
    "\n",
    "def get_image(image_path):\n",
    "    image = cv2.imread(image_path)\n",
    "    image = cv2.cvtColor(image, cv2.COLOR_BGR2GRAY)\n",
    "    print(image.shape)\n",
    "    return image"
   ]
  },
  {
   "cell_type": "code",
   "execution_count": 2,
   "metadata": {
    "scrolled": false
   },
   "outputs": [
    {
     "name": "stdout",
     "output_type": "stream",
     "text": [
      "(410, 728)\n"
     ]
    }
   ],
   "source": [
    "#Set directory of my image of addie and retrieve it as a black and white image\n",
    "#path = r\"C:\\Users\\soule\\OneDrive\\Pictures\\UI_Goku.jpg\"\n",
    "# path = r\"C:\\Users\\soule\\OneDrive\\Pictures\\Freddy.png\"\n",
    "path = r\"C:\\Users\\soule\\OneDrive\\Pictures\\addie.jpg\"\n",
    "l = get_image(path)\n",
    "img = im.open(path)\n",
    "colors = img.getpixel((0, 1))\n",
    "\n",
    "#rows=450 and cols=600 based on our picture\n",
    "rows, cols = l.shape\n",
    "data = im.fromarray(l.astype(np.uint8))\n",
    "data.show()"
   ]
  },
  {
   "cell_type": "code",
   "execution_count": 3,
   "metadata": {},
   "outputs": [],
   "source": [
    "def Generate_Point(a, b, p):\n",
    "    x = random.randint(0, p)\n",
    "    print(x)\n",
    "    \n",
    "    y = np.arange(0, p)\n",
    "    possibilites = []\n",
    "    for i in range(len(y)):\n",
    "        yval = int((x ** 3) % p)\n",
    "        yval = int((yval + (a * x)) % p)\n",
    "        yval = int((yval + b) % p)\n",
    "        testy = int((y[i] ** 2) % p)\n",
    "        if testy == yval:\n",
    "            possibilites.append(y[i])\n",
    "            print(possibilites)\n",
    "    if len(possibilites) == 0:\n",
    "        return Generate_Point(a, b, p)\n",
    "    else:\n",
    "        yindex = random.randint(0, len(possibilites) - 1)\n",
    "        return x, possibilites[yindex]\n",
    "\n",
    "def IntegerDigits(p,b):\n",
    "    arr = []\n",
    "    while p>=1:\n",
    "        arr.append(p%b)\n",
    "        p = p//b\n",
    "        print(arr)\n",
    "    A = arr[::-1]\n",
    "    return len(A)-1\n",
    "\n",
    "def IntegerToArray(n,base):\n",
    "    A = []\n",
    "    while n>=1:\n",
    "        A.append(n%base)\n",
    "        n = n//base\n",
    "    Aflip = A[::-1]\n",
    "    return Aflip\n",
    "\n",
    "def singleLargeInteger(A,base):\n",
    "    integer = 0\n",
    "    power = 0\n",
    "    Anew = A[::-1]\n",
    "    for i in range(len(Anew)):\n",
    "        integer += (Anew[i] * base**i)\n",
    "        #print(integer)\n",
    "    return integer\n",
    "\n",
    "def point_addition(x1, y1, x2, y2, p, a):\n",
    "    z = 0\n",
    "    if x1 == z and y1 == z:\n",
    "        return x2, y2\n",
    "    if x2 == z and y2 == z:\n",
    "        return x1, y1\n",
    "    if x1 == x2:\n",
    "        if x1 == x2 and y1 == -y2 % p:\n",
    "            return 0, 0\n",
    "        else:\n",
    "            den = int(mod_inverse(2 * y1, p) % p)\n",
    "            m = int((3 * (x1 ** 2)) % p)\n",
    "            m = int((m + a) % p)\n",
    "            m = int((m * den) % p)\n",
    "            m = int((((3 * (x1 ** 2)) % p + a) * (den)) % p)\n",
    "            \n",
    "    else:\n",
    "        \n",
    "        den = int(mod_inverse(x1 - x2, p) % p)\n",
    "        m = int((y1 - y2) % p)\n",
    "        m = int((m * den) % p)\n",
    "        \n",
    "    x = int((m ** 2) % p)\n",
    "    x = int((x - x1 - x2) % p)\n",
    "    \n",
    "    y = int((x1 - x) % p)\n",
    "    y = int((y * m) % p)\n",
    "    y = int((y - y1) % p)\n",
    "    \n",
    "    return int(x), int(y)\n",
    "\n",
    "\n",
    "def point_subtraction(x1, y1, x2, y2, p, a):\n",
    "    y2 = int(-(y2))\n",
    "    y2 = int(y2 % p)\n",
    "    return point_addition(x1, y1, x2, y2, p, a)\n",
    "\n",
    "\n",
    "def point_multiplication(x, y, k, p, a):\n",
    "    xnew, ynew = int(x), int(y)\n",
    "    for i in range(k - 1):\n",
    "        xnew, ynew = point_addition(x, y, xnew, ynew, p, a)\n",
    "        # print(xnew,ynew)\n",
    "    return int(xnew), int(ynew)"
   ]
  },
  {
   "cell_type": "code",
   "execution_count": 4,
   "metadata": {},
   "outputs": [
    {
     "name": "stdout",
     "output_type": "stream",
     "text": [
      "50 50 50\n",
      "298480\n"
     ]
    }
   ],
   "source": [
    "#Create one large list\n",
    "arr = []\n",
    "for i in range(rows):\n",
    "    for j in range(cols):\n",
    "        arr.append(l[i][j])\n",
    "print(arr[0], arr[1], arr[2])\n",
    "print(len(arr))"
   ]
  },
  {
   "cell_type": "code",
   "execution_count": 5,
   "metadata": {},
   "outputs": [
    {
     "name": "stdout",
     "output_type": "stream",
     "text": [
      "298480\n",
      "[240]\n",
      "[240, 141]\n",
      "[240, 141, 4]\n",
      "2\n",
      "[[50 50]\n",
      " [50 51]\n",
      " [51 52]\n",
      " ...\n",
      " [32 32]\n",
      " [32 32]\n",
      " [32 32]]\n"
     ]
    }
   ],
   "source": [
    "totalPixs = rows*cols\n",
    "print(totalPixs)\n",
    "\n",
    "groupSize = IntegerDigits(totalPixs,256)\n",
    "print(groupSize)\n",
    "\n",
    "groupedArray = np.reshape(arr, (totalPixs//groupSize, groupSize), order='C')\n",
    "groupedArray = groupedArray.astype('int64')\n",
    "print(groupedArray)"
   ]
  },
  {
   "cell_type": "code",
   "execution_count": 6,
   "metadata": {},
   "outputs": [
    {
     "name": "stdout",
     "output_type": "stream",
     "text": [
      "149240\n",
      "149240\n"
     ]
    }
   ],
   "source": [
    "Pm = []\n",
    "\n",
    "for i in range(totalPixs//groupSize):\n",
    "    newValue = singleLargeInteger(groupedArray[i],256)\n",
    "    Pm.append(newValue)\n",
    "    \n",
    "print(len(Pm))\n",
    "\n",
    "if len(Pm)%2 == 1:\n",
    "    Pm.append(0)\n",
    "    print('activated')\n",
    "    \n",
    "print(len(Pm))"
   ]
  },
  {
   "cell_type": "code",
   "execution_count": 7,
   "metadata": {
    "scrolled": false
   },
   "outputs": [
    {
     "name": "stdout",
     "output_type": "stream",
     "text": [
      "[[12850 12851]\n",
      " [13108 13364]\n",
      " [13621 13621]\n",
      " ...\n",
      " [ 8994  8481]\n",
      " [ 8224  8224]\n",
      " [ 8224  8224]]\n"
     ]
    }
   ],
   "source": [
    "#Pair every other value = Message points\n",
    "imagePointsArray = np.reshape(Pm, (len(Pm) // 2, 2), order=\"C\")\n",
    "print(imagePointsArray)"
   ]
  },
  {
   "cell_type": "code",
   "execution_count": 8,
   "metadata": {},
   "outputs": [],
   "source": [
    "p = 1046527  # 16127\n",
    "a = -5000\n",
    "b = 76193"
   ]
  },
  {
   "cell_type": "code",
   "execution_count": 9,
   "metadata": {},
   "outputs": [
    {
     "name": "stdout",
     "output_type": "stream",
     "text": [
      "492371\n",
      "[414996]\n",
      "[414996, 507313]\n",
      "(492371, 507313)\n"
     ]
    }
   ],
   "source": [
    "# armins private keys\n",
    "private_A = 712\n",
    "point_A = Generate_Point(a, b, p)\n",
    "print(point_A)"
   ]
  },
  {
   "cell_type": "code",
   "execution_count": 10,
   "metadata": {},
   "outputs": [
    {
     "name": "stdout",
     "output_type": "stream",
     "text": [
      "(444896, 897857)\n"
     ]
    }
   ],
   "source": [
    "# armins public key\n",
    "public_A = point_multiplication(point_A[0], point_A[1], private_A, p, a)\n",
    "print(public_A)"
   ]
  },
  {
   "cell_type": "code",
   "execution_count": 11,
   "metadata": {},
   "outputs": [],
   "source": [
    "# Erins key is 92\n",
    "e_key = 92"
   ]
  },
  {
   "cell_type": "code",
   "execution_count": 12,
   "metadata": {},
   "outputs": [
    {
     "name": "stdout",
     "output_type": "stream",
     "text": [
      "74620\n",
      "149240\n"
     ]
    }
   ],
   "source": [
    "coordinates, variables = imagePointsArray.shape\n",
    "c2 = []\n",
    "print(coordinates)\n",
    "r = coordinates\n",
    "\n",
    "c1 = point_multiplication(point_A[0], point_A[1], e_key, p, a)\n",
    "added_to_M = point_multiplication(public_A[0], public_A[1], e_key, p, a)\n",
    "\n",
    "for i in range(coordinates):\n",
    "    \n",
    "    c2_operation = point_addition(\n",
    "        imagePointsArray[i][0],\n",
    "        imagePointsArray[i][1],\n",
    "        added_to_M[0],\n",
    "        added_to_M[1],\n",
    "        p,\n",
    "        a,\n",
    "    )\n",
    "    c2.append(c2_operation[0])\n",
    "    c2.append(c2_operation[1])\n",
    "print(len(c2))"
   ]
  },
  {
   "cell_type": "code",
   "execution_count": 13,
   "metadata": {},
   "outputs": [],
   "source": [
    "final_encrypted_array = []\n",
    "for i in range(len(c2)):\n",
    "    for j in range(groupSize):\n",
    "        final_encrypted_array.append(c2[i]//(256**j))"
   ]
  },
  {
   "cell_type": "code",
   "execution_count": 14,
   "metadata": {
    "scrolled": true
   },
   "outputs": [
    {
     "name": "stdout",
     "output_type": "stream",
     "text": [
      "[[ 74951    292 561427 ...    707 118003    460]\n",
      " [884004   3453  50859 ...    707 118003    460]\n",
      " [123421    482 152847 ...    707 118003    460]\n",
      " ...\n",
      " [863860   3374  69925 ...   1107   6696     26]\n",
      " [353213   1379 682596 ...   3329 751157   2934]\n",
      " [353213   1379 682596 ...   3329 751157   2934]]\n",
      "[[199  36  19 ... 195 243 204]\n",
      " [ 36 125 171 ... 195 243 204]\n",
      " [ 29 226  15 ... 195 243 204]\n",
      " ...\n",
      " [116  46  37 ...  83  40  26]\n",
      " [189  99 100 ...   1  53 118]\n",
      " [189  99 100 ...   1  53 118]]\n"
     ]
    }
   ],
   "source": [
    "encryption_arr = np.array(final_encrypted_array, dtype=int)\n",
    "encryption_arr = np.reshape(encryption_arr, (rows, cols), order=\"C\")\n",
    "print(encryption_arr)\n",
    "e2 = encryption_arr % 256\n",
    "print(e2)"
   ]
  },
  {
   "cell_type": "code",
   "execution_count": 15,
   "metadata": {},
   "outputs": [
    {
     "name": "stdout",
     "output_type": "stream",
     "text": [
      "98\n"
     ]
    }
   ],
   "source": [
    "print(459362 % 256)"
   ]
  },
  {
   "cell_type": "code",
   "execution_count": 16,
   "metadata": {
    "scrolled": true
   },
   "outputs": [],
   "source": [
    "e_data = im.fromarray(e2.astype(np.uint8))\n",
    "e_data.show()"
   ]
  },
  {
   "cell_type": "code",
   "execution_count": 17,
   "metadata": {},
   "outputs": [
    {
     "name": "stdout",
     "output_type": "stream",
     "text": [
      "298480\n",
      "74951 292 561427 2193\n"
     ]
    }
   ],
   "source": [
    "arr = []\n",
    "for i in range(rows):\n",
    "    for j in range(cols):\n",
    "        arr.append(encryption_arr[i][j])\n",
    "print(len(arr))\n",
    "print(arr[0], arr[1], arr[2], arr[3])\n",
    "# print(arr)"
   ]
  },
  {
   "cell_type": "code",
   "execution_count": 18,
   "metadata": {},
   "outputs": [
    {
     "name": "stdout",
     "output_type": "stream",
     "text": [
      "149240\n"
     ]
    }
   ],
   "source": [
    "original_arr = []\n",
    "arr = np.reshape(arr, (totalPixs//groupSize, groupSize), order=\"C\")\n",
    "for i in range(totalPixs//groupSize):\n",
    "    original_arr.append(arr[i][0])\n",
    "print(len(original_arr))"
   ]
  },
  {
   "cell_type": "code",
   "execution_count": null,
   "metadata": {},
   "outputs": [],
   "source": []
  },
  {
   "cell_type": "markdown",
   "metadata": {},
   "source": [
    "x = x // 2"
   ]
  },
  {
   "cell_type": "code",
   "execution_count": 19,
   "metadata": {},
   "outputs": [
    {
     "name": "stdout",
     "output_type": "stream",
     "text": [
      "[[ 74951 561427]\n",
      " [829578 924902]\n",
      " [643926 873626]\n",
      " ...\n",
      " [768413 127570]\n",
      " [852236 751157]\n",
      " [852236 751157]]\n"
     ]
    }
   ],
   "source": [
    "# newTotal = x * y\n",
    "EmPointsArray = np.reshape(original_arr, (len(original_arr) // 2, 2), order=\"C\")\n",
    "print(EmPointsArray)"
   ]
  },
  {
   "cell_type": "code",
   "execution_count": 20,
   "metadata": {},
   "outputs": [
    {
     "name": "stdout",
     "output_type": "stream",
     "text": [
      "74620\n"
     ]
    }
   ],
   "source": [
    "coordinates, variables = EmPointsArray.shape\n",
    "subtract_from_c2 = point_multiplication(c1[0],c1[1],private_A,p,a)\n",
    "decrypted_array = []\n",
    "print(coordinates)\n",
    "r=coordinates\n",
    "for i in range(coordinates):\n",
    "    #C_E - (alpha * (G+B_1) + B_A)\n",
    "    DP = point_subtraction(\n",
    "        EmPointsArray[i][0],\n",
    "        EmPointsArray[i][1],\n",
    "        subtract_from_c2[0],\n",
    "        subtract_from_c2[1],\n",
    "        p,\n",
    "        a\n",
    "    )\n",
    "    decrypted_array.append(DP[0])\n",
    "    decrypted_array.append(DP[1])\n"
   ]
  },
  {
   "cell_type": "code",
   "execution_count": 21,
   "metadata": {},
   "outputs": [
    {
     "name": "stdout",
     "output_type": "stream",
     "text": [
      "298480\n"
     ]
    }
   ],
   "source": [
    "plaintext_array = []\n",
    "#print(plaintext_array[0])\n",
    "for i in range(len(decrypted_array)):\n",
    "    arr = IntegerToArray(decrypted_array[i],256)\n",
    "    while len(arr)>groupSize:\n",
    "        arr.remove(arr[0])\n",
    "    while len(arr)<groupSize:\n",
    "        arr.insert(0,0)\n",
    "    for j in arr:\n",
    "        plaintext_array.append(j)\n",
    "print(len(plaintext_array))"
   ]
  },
  {
   "cell_type": "code",
   "execution_count": 22,
   "metadata": {},
   "outputs": [
    {
     "data": {
      "text/plain": [
       "array([[50, 50, 50, ...,  6,  6,  6],\n",
       "       [51, 51, 51, ...,  6,  6,  6],\n",
       "       [52, 52, 52, ...,  6,  6,  6],\n",
       "       ...,\n",
       "       [71, 71, 71, ..., 34, 34, 34],\n",
       "       [71, 72, 72, ..., 32, 32, 32],\n",
       "       [71, 72, 72, ..., 32, 32, 32]])"
      ]
     },
     "execution_count": 22,
     "metadata": {},
     "output_type": "execute_result"
    }
   ],
   "source": [
    "decryption_arr = np.array(plaintext_array, dtype=int)\n",
    "decryption_arr = np.reshape(decryption_arr, (rows, cols), order=\"C\")\n",
    "decryption_arr"
   ]
  },
  {
   "cell_type": "code",
   "execution_count": 23,
   "metadata": {},
   "outputs": [],
   "source": [
    "d_data = im.fromarray(decryption_arr.astype(np.uint8))\n",
    "d_data.show()"
   ]
  }
 ],
 "metadata": {
  "kernelspec": {
   "display_name": "Python 3",
   "language": "python",
   "name": "python3"
  },
  "language_info": {
   "codemirror_mode": {
    "name": "ipython",
    "version": 3
   },
   "file_extension": ".py",
   "mimetype": "text/x-python",
   "name": "python",
   "nbconvert_exporter": "python",
   "pygments_lexer": "ipython3",
   "version": "3.8.3"
  }
 },
 "nbformat": 4,
 "nbformat_minor": 4
}
